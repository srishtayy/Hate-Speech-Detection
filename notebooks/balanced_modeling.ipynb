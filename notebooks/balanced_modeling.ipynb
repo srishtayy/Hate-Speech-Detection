{
 "cells": [
  {
   "attachments": {},
   "cell_type": "markdown",
   "metadata": {},
   "source": [
    "# Modeling Notebook with Balanced Dataset"
   ]
  },
  {
   "attachments": {},
   "cell_type": "markdown",
   "metadata": {},
   "source": [
    "# Importing Packages"
   ]
  },
  {
   "cell_type": "code",
   "execution_count": 31,
   "metadata": {},
   "outputs": [],
   "source": [
    "import pandas as pd\n",
    "import warnings\n",
    "warnings.filterwarnings('ignore')\n",
    "import pickle\n",
    "from tqdm import tqdm\n",
    "tqdm.pandas(desc=\"progress-bar\")\n",
    "\n",
    "from sklearn import svm\n",
    "from sklearn.linear_model import LogisticRegression\n",
    "from sklearn.naive_bayes import MultinomialNB\n",
    "from sklearn.ensemble import RandomForestClassifier\n",
    "from sklearn.model_selection import GridSearchCV\n",
    "from sklearn.feature_extraction.text import TfidfVectorizer\n",
    "from sklearn.tree import DecisionTreeClassifier\n",
    "from sklearn.tree import DecisionTreeClassifier\n",
    "from sklearn.ensemble import RandomForestClassifier, AdaBoostClassifier, GradientBoostingClassifier\n",
    "from sklearn.metrics import precision_score, recall_score, accuracy_score, f1_score, auc, average_precision_score, confusion_matrix, roc_auc_score\n",
    "\n",
    "import re\n",
    "from nltk.stem import WordNetLemmatizer\n",
    "import gensim\n",
    "from gensim.parsing.preprocessing import STOPWORDS\n",
    "\n",
    "\n",
    "%reload_ext autoreload\n",
    "%autoreload 2\n",
    "import sys\n",
    "sys.path.append(\"../py\")\n",
    "from utils import *\n",
    "from preprocess import *\n"
   ]
  },
  {
   "cell_type": "code",
   "execution_count": 32,
   "metadata": {},
   "outputs": [],
   "source": [
    "train = pickle.load(open(\"../pickle/train_bal.pickle\", \"rb\"))\n",
    "val = pickle.load(open(\"../pickle/val_bal.pickle\", \"rb\"))\n",
    "# test = pickle.load(open(\"../pickle/test_bal.pickle\", \"rb\"))"
   ]
  },
  {
   "cell_type": "code",
   "execution_count": 33,
   "metadata": {},
   "outputs": [
    {
     "data": {
      "text/html": [
       "<div>\n",
       "<style scoped>\n",
       "    .dataframe tbody tr th:only-of-type {\n",
       "        vertical-align: middle;\n",
       "    }\n",
       "\n",
       "    .dataframe tbody tr th {\n",
       "        vertical-align: top;\n",
       "    }\n",
       "\n",
       "    .dataframe thead th {\n",
       "        text-align: right;\n",
       "    }\n",
       "</style>\n",
       "<table border=\"1\" class=\"dataframe\">\n",
       "  <thead>\n",
       "    <tr style=\"text-align: right;\">\n",
       "      <th></th>\n",
       "      <th>tweet</th>\n",
       "      <th>target</th>\n",
       "    </tr>\n",
       "  </thead>\n",
       "  <tbody>\n",
       "    <tr>\n",
       "      <th>0</th>\n",
       "      <td>@Ricky___m you bitch -.-</td>\n",
       "      <td>1</td>\n",
       "    </tr>\n",
       "    <tr>\n",
       "      <th>1</th>\n",
       "      <td>RT @iOnlyGoRaw: Took this bitch 3 months to pu...</td>\n",
       "      <td>1</td>\n",
       "    </tr>\n",
       "    <tr>\n",
       "      <th>2</th>\n",
       "      <td>Kim K is alright but honestly so many niggas b...</td>\n",
       "      <td>1</td>\n",
       "    </tr>\n",
       "    <tr>\n",
       "      <th>3</th>\n",
       "      <td>That bitch was worried about fines? Fuck you. ...</td>\n",
       "      <td>1</td>\n",
       "    </tr>\n",
       "    <tr>\n",
       "      <th>4</th>\n",
       "      <td>@OurCofE An end to the ordination of women and...</td>\n",
       "      <td>1</td>\n",
       "    </tr>\n",
       "  </tbody>\n",
       "</table>\n",
       "</div>"
      ],
      "text/plain": [
       "                                               tweet  target\n",
       "0                           @Ricky___m you bitch -.-       1\n",
       "1  RT @iOnlyGoRaw: Took this bitch 3 months to pu...       1\n",
       "2  Kim K is alright but honestly so many niggas b...       1\n",
       "3  That bitch was worried about fines? Fuck you. ...       1\n",
       "4  @OurCofE An end to the ordination of women and...       1"
      ]
     },
     "execution_count": 33,
     "metadata": {},
     "output_type": "execute_result"
    }
   ],
   "source": [
    "train.head()"
   ]
  },
  {
   "cell_type": "code",
   "execution_count": 34,
   "metadata": {},
   "outputs": [
    {
     "data": {
      "text/plain": [
       "1    17514\n",
       "0    17514\n",
       "Name: target, dtype: int64"
      ]
     },
     "execution_count": 34,
     "metadata": {},
     "output_type": "execute_result"
    }
   ],
   "source": [
    "train.target.value_counts()"
   ]
  },
  {
   "cell_type": "code",
   "execution_count": 28,
   "metadata": {},
   "outputs": [
    {
     "data": {
      "text/html": [
       "<div>\n",
       "<style scoped>\n",
       "    .dataframe tbody tr th:only-of-type {\n",
       "        vertical-align: middle;\n",
       "    }\n",
       "\n",
       "    .dataframe tbody tr th {\n",
       "        vertical-align: top;\n",
       "    }\n",
       "\n",
       "    .dataframe thead th {\n",
       "        text-align: right;\n",
       "    }\n",
       "</style>\n",
       "<table border=\"1\" class=\"dataframe\">\n",
       "  <thead>\n",
       "    <tr style=\"text-align: right;\">\n",
       "      <th></th>\n",
       "      <th>tweet</th>\n",
       "      <th>target</th>\n",
       "    </tr>\n",
       "  </thead>\n",
       "  <tbody>\n",
       "    <tr>\n",
       "      <th>0</th>\n",
       "      <td>@kiela_g_3 Home fag. Didn't feel like puttin u...</td>\n",
       "      <td>1</td>\n",
       "    </tr>\n",
       "    <tr>\n",
       "      <th>1</th>\n",
       "      <td>GTA online today bitch ass niggas</td>\n",
       "      <td>1</td>\n",
       "    </tr>\n",
       "    <tr>\n",
       "      <th>2</th>\n",
       "      <td>Can u say hoe hoe hoe? Ewww she was nasty. I w...</td>\n",
       "      <td>1</td>\n",
       "    </tr>\n",
       "    <tr>\n",
       "      <th>3</th>\n",
       "      <td>@itzbreak that spear chucker? Hell no.</td>\n",
       "      <td>1</td>\n",
       "    </tr>\n",
       "    <tr>\n",
       "      <th>4</th>\n",
       "      <td>Oscar &amp;amp; I used to make fun of Chaco-wearin...</td>\n",
       "      <td>1</td>\n",
       "    </tr>\n",
       "  </tbody>\n",
       "</table>\n",
       "</div>"
      ],
      "text/plain": [
       "                                               tweet  target\n",
       "0  @kiela_g_3 Home fag. Didn't feel like puttin u...       1\n",
       "1                  GTA online today bitch ass niggas       1\n",
       "2  Can u say hoe hoe hoe? Ewww she was nasty. I w...       1\n",
       "3             @itzbreak that spear chucker? Hell no.       1\n",
       "4  Oscar &amp; I used to make fun of Chaco-wearin...       1"
      ]
     },
     "execution_count": 28,
     "metadata": {},
     "output_type": "execute_result"
    }
   ],
   "source": [
    "val.head()"
   ]
  },
  {
   "cell_type": "code",
   "execution_count": 35,
   "metadata": {},
   "outputs": [],
   "source": [
    "import nltk\n",
    "from nltk.tokenize import word_tokenize\n",
    "from nltk.corpus import stopwords\n",
    "from nltk.stem.porter import *\n",
    "import numpy as np\n",
    "from nltk.sentiment.vader import SentimentIntensityAnalyzer as VS\n",
    "from nltk.corpus import wordnet\n",
    "from nltk.stem import WordNetLemmatizer"
   ]
  },
  {
   "cell_type": "code",
   "execution_count": 12,
   "metadata": {},
   "outputs": [],
   "source": [
    "# nltk.download('wordnet', download_dir='C:\\\\Users\\\\SRISHTI/nltk_data', quiet=True, halt_on_error=False, force=True)"
   ]
  },
  {
   "cell_type": "code",
   "execution_count": 36,
   "metadata": {},
   "outputs": [],
   "source": [
    "stopwords = nltk.corpus.stopwords.words(\"english\")\n",
    "\n",
    "#extending the stopwords to include other words used in twitter such as retweet(rt) etc.\n",
    "other_exclusions = [\"#ff\", \"ff\", \"rt\"]\n",
    "stopwords.extend(other_exclusions)\n",
    "stemmer = PorterStemmer()"
   ]
  },
  {
   "cell_type": "code",
   "execution_count": 56,
   "metadata": {},
   "outputs": [
    {
     "data": {
      "text/plain": [
       "True"
      ]
     },
     "execution_count": 56,
     "metadata": {},
     "output_type": "execute_result"
    }
   ],
   "source": [
    "# nltk.download('wordnet', download_dir='C:\\\\Users\\\\SRISHTI\\\\OneDrive\\\\Desktop\\\\MachineLearning\\\\Hate_Speech_Detection\\\\Hate-Tweet-Flask\\\\nltk_data\\\\', quiet=True, halt_on_error=False, force=True)\n",
    "\n",
    "# nltk.download('wordnet', 'C:\\Users\\SRISHTI\\OneDrive\\Desktop\\MachineLearning\\Hate_Speech_Detection\\Hate-Tweet-Flask/nltk_data/')"
   ]
  },
  {
   "cell_type": "code",
   "execution_count": 37,
   "metadata": {},
   "outputs": [],
   "source": [
    "def preprocess(tweet):  \n",
    "    \n",
    "    # removal of extra spaces\n",
    "    regex_pat = re.compile(r'\\s+')\n",
    "    tweet_space = tweet.str.replace(regex_pat, ' ')\n",
    "\n",
    "    # removal of @name[mention]\n",
    "    regex_pat = re.compile(r'@[\\w\\-]+')\n",
    "    tweet_name = tweet_space.str.replace(regex_pat, '')\n",
    "\n",
    "    # removal of links[https://abc.com]\n",
    "    giant_url_regex =  re.compile('http[s]?://(?:[a-zA-Z]|[0-9]|[$-_@.&+]|'\n",
    "            '[!*\\(\\),]|(?:%[0-9a-fA-F][0-9a-fA-F]))+')\n",
    "    tweets = tweet_name.str.replace(giant_url_regex, '')\n",
    "    \n",
    "    # removal of punctuations and numbers\n",
    "    punc_remove = tweets.str.replace(\"[^a-zA-Z]\", \" \")\n",
    "    # remove whitespace with a single space\n",
    "    newtweet=punc_remove.str.replace(r'\\s+', ' ')\n",
    "    # remove leading and trailing whitespace\n",
    "    newtweet=newtweet.str.replace(r'^\\s+|\\s+?$','')\n",
    "    # replace normal numbers with numbr\n",
    "    newtweet=newtweet.str.replace(r'\\d+(\\.\\d+)?','numbr')\n",
    "    # removal of capitalization\n",
    "    tweet_lower = newtweet.str.lower()\n",
    "    \n",
    "    # tokenizing\n",
    "    tokenized_tweet = tweet_lower.apply(lambda x: x.split())\n",
    "    \n",
    "    # removal of stopwords\n",
    "    tokenized_tweet=  tokenized_tweet.apply(lambda x: [item for item in x if item not in stopwords])\n",
    "    \n",
    "    # stemming of the tweets\n",
    "    tokenized_tweet = tokenized_tweet.apply(lambda x: [stemmer.stem(i) for i in x]) \n",
    "    \n",
    "    tweets_p = []\n",
    "    for i in tokenized_tweet:\n",
    "        t = ' '.join(i)\n",
    "        tweets_p.append(t)\n",
    "    return tweets_p\n",
    "    "
   ]
  },
  {
   "cell_type": "code",
   "execution_count": 38,
   "metadata": {},
   "outputs": [
    {
     "data": {
      "text/html": [
       "<div>\n",
       "<style scoped>\n",
       "    .dataframe tbody tr th:only-of-type {\n",
       "        vertical-align: middle;\n",
       "    }\n",
       "\n",
       "    .dataframe tbody tr th {\n",
       "        vertical-align: top;\n",
       "    }\n",
       "\n",
       "    .dataframe thead th {\n",
       "        text-align: right;\n",
       "    }\n",
       "</style>\n",
       "<table border=\"1\" class=\"dataframe\">\n",
       "  <thead>\n",
       "    <tr style=\"text-align: right;\">\n",
       "      <th></th>\n",
       "      <th>tweet</th>\n",
       "      <th>target</th>\n",
       "    </tr>\n",
       "  </thead>\n",
       "  <tbody>\n",
       "    <tr>\n",
       "      <th>0</th>\n",
       "      <td>bitch</td>\n",
       "      <td>1</td>\n",
       "    </tr>\n",
       "    <tr>\n",
       "      <th>1</th>\n",
       "      <td>took bitch month put scarf smfh</td>\n",
       "      <td>1</td>\n",
       "    </tr>\n",
       "    <tr>\n",
       "      <th>2</th>\n",
       "      <td>kim k alright honestli mani nigga rather miley...</td>\n",
       "      <td>1</td>\n",
       "    </tr>\n",
       "    <tr>\n",
       "      <th>3</th>\n",
       "      <td>bitch worri fine fuck best friend got jump coc...</td>\n",
       "      <td>1</td>\n",
       "    </tr>\n",
       "    <tr>\n",
       "      <th>4</th>\n",
       "      <td>end ordin women faggot whose aim weaken split ...</td>\n",
       "      <td>1</td>\n",
       "    </tr>\n",
       "  </tbody>\n",
       "</table>\n",
       "</div>"
      ],
      "text/plain": [
       "                                               tweet  target\n",
       "0                                              bitch       1\n",
       "1                    took bitch month put scarf smfh       1\n",
       "2  kim k alright honestli mani nigga rather miley...       1\n",
       "3  bitch worri fine fuck best friend got jump coc...       1\n",
       "4  end ordin women faggot whose aim weaken split ...       1"
      ]
     },
     "execution_count": 38,
     "metadata": {},
     "output_type": "execute_result"
    }
   ],
   "source": [
    "train.tweet = preprocess(train.tweet)   \n",
    "train.head()\n"
   ]
  },
  {
   "cell_type": "code",
   "execution_count": 39,
   "metadata": {},
   "outputs": [
    {
     "data": {
      "text/html": [
       "<div>\n",
       "<style scoped>\n",
       "    .dataframe tbody tr th:only-of-type {\n",
       "        vertical-align: middle;\n",
       "    }\n",
       "\n",
       "    .dataframe tbody tr th {\n",
       "        vertical-align: top;\n",
       "    }\n",
       "\n",
       "    .dataframe thead th {\n",
       "        text-align: right;\n",
       "    }\n",
       "</style>\n",
       "<table border=\"1\" class=\"dataframe\">\n",
       "  <thead>\n",
       "    <tr style=\"text-align: right;\">\n",
       "      <th></th>\n",
       "      <th>tweet</th>\n",
       "      <th>target</th>\n",
       "    </tr>\n",
       "  </thead>\n",
       "  <tbody>\n",
       "    <tr>\n",
       "      <th>0</th>\n",
       "      <td>home fag feel like puttin shit today</td>\n",
       "      <td>1</td>\n",
       "    </tr>\n",
       "    <tr>\n",
       "      <th>1</th>\n",
       "      <td>gta onlin today bitch ass nigga</td>\n",
       "      <td>1</td>\n",
       "    </tr>\n",
       "    <tr>\n",
       "      <th>2</th>\n",
       "      <td>u say hoe hoe hoe ewww nasti mean daili spare ...</td>\n",
       "      <td>1</td>\n",
       "    </tr>\n",
       "    <tr>\n",
       "      <th>3</th>\n",
       "      <td>spear chucker hell</td>\n",
       "      <td>1</td>\n",
       "    </tr>\n",
       "    <tr>\n",
       "      <th>4</th>\n",
       "      <td>oscar amp use make fun chaco wear peopl togeth...</td>\n",
       "      <td>1</td>\n",
       "    </tr>\n",
       "  </tbody>\n",
       "</table>\n",
       "</div>"
      ],
      "text/plain": [
       "                                               tweet  target\n",
       "0               home fag feel like puttin shit today       1\n",
       "1                    gta onlin today bitch ass nigga       1\n",
       "2  u say hoe hoe hoe ewww nasti mean daili spare ...       1\n",
       "3                                 spear chucker hell       1\n",
       "4  oscar amp use make fun chaco wear peopl togeth...       1"
      ]
     },
     "execution_count": 39,
     "metadata": {},
     "output_type": "execute_result"
    }
   ],
   "source": [
    "val.tweet = preprocess(val.tweet)   \n",
    "val.head()"
   ]
  },
  {
   "attachments": {},
   "cell_type": "markdown",
   "metadata": {},
   "source": [
    "# Modeling"
   ]
  },
  {
   "cell_type": "code",
   "execution_count": 68,
   "metadata": {},
   "outputs": [],
   "source": [
    "X_tr = train.tweet.values\n",
    "X_val = val.tweet.values\n",
    "y_tr = train.target.values\n",
    "y_val = val.target.values\n",
    "vec = TfidfVectorizer()\n",
    "# X_tr= \n",
    "tfidf_tr = vec.fit_transform([str(item) for item in X_tr])\n",
    "tfidf_val = vec.transform([str(item) for item in X_val])\n"
   ]
  },
  {
   "cell_type": "code",
   "execution_count": 82,
   "metadata": {},
   "outputs": [
    {
     "data": {
      "text/plain": [
       "(35028, 13378)"
      ]
     },
     "execution_count": 82,
     "metadata": {},
     "output_type": "execute_result"
    }
   ],
   "source": [
    "tfidf_tr1=vec.fit_transform(X_tr)\n",
    "tfidf_tr1.shape"
   ]
  },
  {
   "cell_type": "code",
   "execution_count": 69,
   "metadata": {},
   "outputs": [
    {
     "data": {
      "text/plain": [
       "['bitch',\n",
       " 'took bitch month put scarf smfh',\n",
       " 'kim k alright honestli mani nigga rather miley got unfollow bitch strang',\n",
       " 'bitch worri fine fuck best friend got jump cock sucker fine least worri',\n",
       " 'end ordin women faggot whose aim weaken split communion',\n",
       " 'free niggah',\n",
       " 'still live hope one day hot rich boy fall love even though im trash',\n",
       " 'nig ok big time shit talker twitter name face info',\n",
       " 'best own bird could teach funniest thing say',\n",
       " 'girl fuck back gt gt gt last one trash',\n",
       " 'bitch phone gonna die seriou got hot pocket',\n",
       " 'ayyyyy sip free slurpe see front bottom tonight happi clam',\n",
       " 'pussi wet gotta dri outsid stop tell busi',\n",
       " 'yeah heard fuck nut like swag fag',\n",
       " 'fat hoe alway wanna beef somebodi yall need around type beef',\n",
       " 'ur ex girlfriend slut fr f dat hoe',\n",
       " 'ofcours someon ask els eat jackass goe browni big surpris dingbat',\n",
       " 'fuckin pussi make fun peopl day radio someon call creep block',\n",
       " 'bitch truli shit',\n",
       " 'rich pussi bullshit rich problem idea independ film',\n",
       " 'top lie girl tell twitter dm work twitter unfollow peopl hoe',\n",
       " 'say pedophil promot dolt lmao teabagg',\n",
       " 'got beef tell yo boy alex stop act like bitch bring duck ass',\n",
       " 'bain hoe ass nigga',\n",
       " 'dont trust nigga bitch',\n",
       " 'northkorea call barack monkey lol shoe fit caus sure look like marri one',\n",
       " 'pussi hoe give pussi hoe',\n",
       " 'thing talk eyebrow got forest pussi',\n",
       " 'second class bitch',\n",
       " 'oh miss bitch bitxh got sock face',\n",
       " 'faggot agre',\n",
       " 'ketchup tha beat hoe',\n",
       " 'cours kill si rock bitch hard saditi committe',\n",
       " 'anti american republican teabagg stop forc ur religion rest us stockman u dont pray liar',\n",
       " 'boy got hoe',\n",
       " 'remak granni dcyoungfli dirtymoney teamignat hoodcomedi damn bitch bab big',\n",
       " 'know mani hot bitch',\n",
       " 'ell naw dog run bitch',\n",
       " 'save browni',\n",
       " 'bitch ass nigga rico',\n",
       " 'damn hate bitch like argu shit',\n",
       " 'wtf boy pussi lmao atl nigga sick',\n",
       " 'omgggggggggg mila kuni fing hot f sarah marshal like bird anorex',\n",
       " 'celesti bodi hello',\n",
       " 'stop smokin bathsalt charli brown rejectedpeanutsspeci',\n",
       " 'pm last night incit translat murder father travel w famili celebr first nig',\n",
       " 'social media post rival social media app shall never let word edit appear next facebook statu doubl read bitch',\n",
       " 'women slut freshman year colleg let hoe great',\n",
       " 'yall good day amp bring bitch twitter',\n",
       " 'well dayum seen bitch knock censor tag cloth patio hammer',\n",
       " 'bitch dead suck fuck niggaz condom wanna rock whitw dress next day like bout dem clean',\n",
       " 'ion kno im tonit ju kno gon end wit dick first pussi',\n",
       " 'cuz ur bird bitch',\n",
       " 'zero hoe still go like degre plu tax',\n",
       " 'come yanke let keep game go must win',\n",
       " 'yeah texan much better fuck retard',\n",
       " 'jeter rod class trash',\n",
       " 'well play flappi bird know',\n",
       " 'miss call da yo p bitch twitter finna screamn freemoneymel',\n",
       " 'honesti ask ugli hoe',\n",
       " 'porn android iphon ipad sex xxx desi paki',\n",
       " 'bitch favorit respons long text',\n",
       " 'lol da reason talk bout da present cuz nicca hurt n play yr',\n",
       " 'wasnt put earth bitch like amp damn sure dgaffff',\n",
       " 'haha bitch team',\n",
       " 'girl cheek gone cold bitch',\n",
       " 'media matter execut behind stoprush campaign blog tranni homo',\n",
       " 'one cat kill babi bird cardin',\n",
       " 'let seriou fan caller want run heavili dink dunk work great get extra yrd',\n",
       " 'treat hoe like ladi man',\n",
       " 'black pussi remind roast beef white pussi remind cheesecak mix girl pussi remind appl pie',\n",
       " 'make bitch sit couch turn ice age movi ask us hungri like arent',\n",
       " 'got bitch nervou like virgin flirtin wit uncl mervin',\n",
       " 'bitch',\n",
       " 'st time eat pussi thought suppos liter eat end bite clit realli hard havent',\n",
       " 'dyke hear ladi free',\n",
       " 'gab bri fell asleep hoe',\n",
       " 'trash',\n",
       " 'evan buy polo eat pussi till receipt expir',\n",
       " 'doubl tap imma honest hoe honest hoe',\n",
       " 'power christ compel pop pussi',\n",
       " 'hoe',\n",
       " 'charli baltimor look good',\n",
       " 'pussi',\n",
       " 'bitch dick bomb',\n",
       " 'thinkkk shee know maaaa otheeeeeeeer bitch',\n",
       " 'sorri offend call bitch honestli thought knew',\n",
       " 'white trash watch hockey',\n",
       " 'fml half breed ex gym ugh',\n",
       " 'r u african ur frican bitch',\n",
       " 'fuck fuck lowlif piec trash',\n",
       " 'redneck without homophobia racism',\n",
       " 'catch box hoe',\n",
       " 'damn bitch never answer anymor lmao jk ili anyway glad first show safe go next one',\n",
       " 'hope fuzzi head doesnt tickl much',\n",
       " 'yo mother dedic hoe rich homi tono feat childish miguelito amp young patti come soon sorri thewait',\n",
       " 'broke bitch talk shit bitch stunt',\n",
       " 'moreno littl bitch dumb bitch',\n",
       " 'side hoe get love thotolog',\n",
       " 'bitch know got game phone',\n",
       " 'play fuck bitch get money music',\n",
       " 'karma fuck good girl bitch end',\n",
       " 'everybodi gettin sick feel like supa man di bitch',\n",
       " 'bytch infant hell bitch talk bout much rememb bout pac die',\n",
       " 'im elat pass creativ gene daughter also got retard gene',\n",
       " 'knowww righttt even know use shit updat statu hoe',\n",
       " 'u messi bitch hell nawl cant rock w',\n",
       " 'bitch gon fuck money long',\n",
       " 'ben gett ya pussi ben get ya head',\n",
       " 'tori amo matter ever via',\n",
       " 'unt realli fuck suck year smh get right back trash one season',\n",
       " 'niggaz get emotionaaa remind bitch',\n",
       " 'bro hoe except chick cloth everywher',\n",
       " 'mindless twat shit hiphop hahahaha',\n",
       " 'shout bitch dress half nake get man attent stay classi',\n",
       " 'readi delet entir instagram app found one ig crush sell pussi backpag f',\n",
       " 'liter fat hoe hold nigga',\n",
       " 'slap hoe rusti axe ash blunt ass',\n",
       " 'go sleep bitch stfu',\n",
       " 'pretend asshol callin women bitch know love em lol',\n",
       " 'find hoe section',\n",
       " 'bird flew window hope okay',\n",
       " 'key car bitch foreign',\n",
       " 'never give bitch impress u need',\n",
       " 'soon da money gon dem bitch leavin get lock gon visit ya neither',\n",
       " 'new avi thank b oreo',\n",
       " 'everyday wake got differ bitch',\n",
       " 'lmaoo sayin statement last year boozer trash bro done',\n",
       " 'bitch brilliant haha',\n",
       " 'saw mad littl chunki boy even let dad touch bruh lmao',\n",
       " 'end yanke game plan even take',\n",
       " 'lord help bitch',\n",
       " 'rise planet ape',\n",
       " 'higher den bitch',\n",
       " 'bitch ass like allerg reaction servic faction',\n",
       " 'im tire bitch actin like loyal lol',\n",
       " 'bitch slow playin like fuckkk',\n",
       " 'nothin piec chees corner word never gone slice bitch',\n",
       " 'bet hoe',\n",
       " 'essenc fest anyon main stage step uncl charli',\n",
       " 'musti pussi maggot bitch tryna lick sac rich fuckemx',\n",
       " 'could bitch right restrain',\n",
       " 'dat bitch mouth made da honor roll',\n",
       " 'wifey type girl singl hoe cuf though',\n",
       " 'hoe like nigga spend money talk bout',\n",
       " 'cunt owe money',\n",
       " 'show trash longliv queen latifah show',\n",
       " 'bitch keep look choos nah',\n",
       " 'fuck bitch never love thot',\n",
       " 'type bitch hate',\n",
       " 'know feel shit believ born heart la get anymor ghetto',\n",
       " 'pussi better crazi bitch',\n",
       " 'understand mani american hate obama salut latt nobodi tell swagfag anyth abo',\n",
       " 'bitch goddess think own new york wait lameapocalyps',\n",
       " 'nigga got hang fat catfish bitch smh',\n",
       " 'girl let guy treat like yellow starburst u pink starburst',\n",
       " 'lmfao wtf nigga realli retard tf',\n",
       " 'mutha fuckah better bring browni ever',\n",
       " 'know pussi readi white peopl gay',\n",
       " 'feel awkward play mean know root awkward',\n",
       " 'basebal w birthday reason lol yanke stadium yelp',\n",
       " 'bitch extra easi yall drunk lol unless ur sober friend save youu',\n",
       " 'top stankiest pussi',\n",
       " 'nashvil atlanta houston mani trash driver',\n",
       " 'bitch think look like rihanna',\n",
       " 'lol alreadi made wait browni finish',\n",
       " 'heeellllooo bitch keep hit nigga phone still entertain',\n",
       " 'southern bitch like blow person heart back w one shot',\n",
       " 'idk favorit shit hoe bye',\n",
       " 'iknow coupl mf favorit line wouldnt that young bitch stopp young mind',\n",
       " 'top layer trash',\n",
       " 'iz point jealou cuz dee hoe everybodi bucketsproverb',\n",
       " 'hoe actin',\n",
       " 'bitch spoil',\n",
       " 'gonna cunt friend',\n",
       " 'know fat hoe big bone ju fat af',\n",
       " 'go dress trash halloween oh wait look like everyday',\n",
       " 'see ya give yanke lead th solo home run',\n",
       " 'jihadi identifi man indonesia one carri massiv suicid bomb speicher camp iraq',\n",
       " 'bitch dick yo dinner',\n",
       " 'ho ho ho bitch merri month ish christma',\n",
       " 'mean rude littl sister kick ass appli littl snooti bitch k thank',\n",
       " 'use talent possess wood would silent bird sang except sang best',\n",
       " 'u see saturday u show bitch made nigga pussi ass nigga',\n",
       " 'bet yo bitch tri n slide let hair',\n",
       " 'taz angel hoe need furnitur',\n",
       " 'guy color eye',\n",
       " 'mom brought mcdonald lunch bitch',\n",
       " 'want philli diseas lol thot bitch',\n",
       " 'bag chip rice krispi seed gummi pop tart cracker powerad water yuhhh good lol',\n",
       " 'ima pull eat pussi n dip',\n",
       " 'timelin look thirsti bc basic hoe keep talk bout nigga matter ctfuu',\n",
       " 'damn intern alarm clock woke feel chunki cheerio splurg guilt led treadmil gym nosleep',\n",
       " 'nigga know differ want believ bitch actual ugli',\n",
       " 'yea bad hoe',\n",
       " 'realli barnicl oj anthoni weiner mj clown show teabagg rich come msnbc want good rate morningjo',\n",
       " 'would make great babi bird pic bruh',\n",
       " 'pleas everyon noth good come peopl say faggot insult',\n",
       " 'yellow submarin rn',\n",
       " 'bitch eh hahah',\n",
       " 'singl mom got proven pussi lol fckd truuu',\n",
       " 'bitch wanna roll fuck blunt',\n",
       " 'gasolin daddi yanke',\n",
       " 'long titti nippl havin ass bitch',\n",
       " 'go someon bitch bought catch hell cell block fuck men rapist child molest',\n",
       " 'im shitti promis u im better bitch',\n",
       " 'go class last minut hoe',\n",
       " 'rememb girl smash god hoe shit technic take',\n",
       " 'hahaha make sens hoe p',\n",
       " 'bitch nooooo kim mine dream',\n",
       " 'know good hoe gon wa wa waaaaannnnnt',\n",
       " 'kevin hart bitch',\n",
       " 'beat tho bitch im tri bone',\n",
       " 'one proud hillbilli',\n",
       " 'new orlean bitch seriou',\n",
       " 'dog man rememb ok girl text phone bs squad readi deep thenna bitch readi go',\n",
       " 'scientist recent discov bitch fact trippin',\n",
       " 'ya girl pussi trash fuck',\n",
       " 'note day month hoe sell pussi pop lol',\n",
       " 'guess dumb bitch need drink time place fuck someon haha',\n",
       " 'like bitch',\n",
       " 'fucc cash u hoe go respect u poccet broke',\n",
       " 'nah shit get heat smartest mouth know get call retard done play game',\n",
       " 'told lot peopl cool hoe understand someon like',\n",
       " 'u turn yellow aceptar est luz rojo light take long make bilingu',\n",
       " 'hoe ici',\n",
       " 'bitch got flameee',\n",
       " 'girl cant make decis whether date tell bitch kick rock',\n",
       " 'need skirt sure look like bitch',\n",
       " 'yanke beat red sox even deserv playoff yanke redsox mlb',\n",
       " 'bitch go',\n",
       " 'jihadi network wake amp claim raqqa radio confirm two plane shot amp pilot captur isi syria',\n",
       " 'queer',\n",
       " 'bitch u forcin talkin famili shit watch',\n",
       " 'hahahaha basic bitch funni',\n",
       " 'poni tail red nail still school bitch',\n",
       " 'sound retard learn quickli',\n",
       " 'bitch like im nt beef niggah smh',\n",
       " 'date go littl bitch everyth',\n",
       " 'fuck nigga bitch man use',\n",
       " 'shi singer surpris melt simon heart damn beauti almost cri',\n",
       " 'blah blah blah blah sound bitch talk',\n",
       " 'haha bitch realli tho good catch yo pretti fun last time chill',\n",
       " 'bitch went super saiyan walmart',\n",
       " 'show im play bitch one fals move ima spray bitch',\n",
       " 'let guess yellow cake crap differ presid',\n",
       " 'alright meet im fag fact brian give shit',\n",
       " 'sound like major bitch area',\n",
       " 'hat hoodrat chick ghetto anxieti attack formal event',\n",
       " 'dumb bitch know color',\n",
       " 'lilli tri climb tree bird complet fail oh god',\n",
       " 'nf thank follow hun',\n",
       " 'ran hous kinda retard lol',\n",
       " 'told u bout niggaz say pay anyth get pussi must',\n",
       " 'josef pit slight possibl make remain lap highli doubt need yellow indyfest',\n",
       " 'wow lost buttcheek pierc yeah hoe',\n",
       " 'never seen tint yellow tongu ate lemon jolli rancher',\n",
       " 'frasesdeunamadremexicana bitch son lol',\n",
       " 'bitch act like need man',\n",
       " 'kit kat browni make',\n",
       " 'lmaooo boy thought ws type right spell hoe',\n",
       " 'say fool stand noth well say cunt',\n",
       " 'peopl realiz jig',\n",
       " 'ace boon one real girl campu youmynigga',\n",
       " 'daddi cracker bad bitch',\n",
       " 'nicola cage unrol dusti secret scroll say jame madison whini littl bitch',\n",
       " 'one thing u get trust bitch',\n",
       " 'bitch phoney',\n",
       " 'got hoe starin walk thru',\n",
       " 'feelin young niggah',\n",
       " 'like r u queer c mon jen u even need ask',\n",
       " 'hoe got issu',\n",
       " 'redneck erecycl',\n",
       " 'dear michel bachman shut fuck crazi bitch',\n",
       " 'bitch think fanci old ass c class get fuck',\n",
       " 'like bad bitch that fuck problem',\n",
       " 'yasss bitch yass',\n",
       " 'dese bitch n shot nigga',\n",
       " 'hank baskett cheat tranni got shoutout',\n",
       " 'met bitch yet could compet',\n",
       " 'actual boy right dorki ass mom amp dad watch streit make bitch',\n",
       " 'bull color scheme dull stupid bitch duke wear bold pastel color bull make sens',\n",
       " 'year eat still beard mytholog eat pussi help yo beard grow',\n",
       " 'good perci harvin peyton team sound retard lmao',\n",
       " 'penguin bird puppi bowl',\n",
       " 'custom like make price like bitch',\n",
       " 'wake tf pussi summer time turn tf',\n",
       " 'never let hoe get start',\n",
       " 'invest curtain bitch',\n",
       " 'bottl bitch',\n",
       " 'give wish wish wish wish would bitch',\n",
       " 'fresh japanes model toy succul pussi cum',\n",
       " 'mane di nicca call mo time n say finna pull dnt pull',\n",
       " 'fuck stupid cracker',\n",
       " 'wud nig gotta new number text',\n",
       " 'let bitch tri set gone stuck rock nd di mufuckin glock bitch bad terribl',\n",
       " 'catch box hoe',\n",
       " 'klain real sole job dampen mushroom bad pr polit fallout head nov elect',\n",
       " 'holi fuck white bitch babi daddi straight goe use condom anyway bitch mayb stay outta clinic',\n",
       " 'sorri hoe l v e stand leg open easi',\n",
       " 'suck suck bitch',\n",
       " 'get name tat right ya pussi',\n",
       " 'cancel hoe noth cut b tch',\n",
       " 'like imma stop talk vibe headphon talk come get pussi word',\n",
       " 'anoth high point hungarian call cheat fuck cheat pussi well',\n",
       " 'beyond retard',\n",
       " 'bitch gonna make rain',\n",
       " 'oh come littl bitch u veto thrill watch',\n",
       " 'look bitch better shut argu niggaz street social network',\n",
       " 'roll wife bitch',\n",
       " 'sell pussi',\n",
       " 'bitch bed cloth walk street like shit cute',\n",
       " 'lot hoe pretti nigga enlarg avi',\n",
       " 'mt paid white supremacist alway get negro dirti work fergu',\n",
       " 'bill romanowski still cunt saw one come',\n",
       " 'lol damn thought let know dad go super saiyan ape shit',\n",
       " 'realli go sit cri like bitch',\n",
       " 'music bitch put',\n",
       " 'pretti much confirm best bitch face planet',\n",
       " 'thank jackass zebra',\n",
       " 'approach yo bitch like',\n",
       " 'lightskin mf lmfaooo ight white bitch lol',\n",
       " 'well sure heck know read read trash right almost everyth heard web',\n",
       " 'local pc love anybodi everybodi turn hoe springbreak',\n",
       " 'apolog lol fuck hoe shot pussi',\n",
       " 'neymar fell like bitch',\n",
       " 'fuck da opp x fuck dear hoe x',\n",
       " 'charli brown christma stori rudolph island misfit toy',\n",
       " 'never seen bitch obsess nigga obsess mine',\n",
       " 'bitch tweet lose interest fast slide dm caus thot good look',\n",
       " 'biatch call bitch',\n",
       " 'jet trash',\n",
       " 'get bitch break bitch',\n",
       " 'lmaoooo jesu heal folk wit leoparci yall hoe wanna get leopard print tattoo',\n",
       " 'cold bitch even need fleec bad bitch tell drop yo knee',\n",
       " 'girl nastiest skank bitch ever met trust fugli slut',\n",
       " 'ur bitch start fukin yappin tae ill make sure break someth vital warn call poli hazard result perman damag',\n",
       " 'ion eat cat bitch gay',\n",
       " 'im mickey ds gone ask doubl chees burger wit chees foh',\n",
       " 'bet nigga got charg murder tha intro gucci vs guwop caus straight kill hoe freegucci freeradr',\n",
       " 'nigga twitter like eat pussi yada yada nigga sti shit',\n",
       " 'bitch bitch ms bitch',\n",
       " 'bitch swear pussi soooo good nonsens',\n",
       " 'someon come take browni away eat whole pan',\n",
       " 'say want nigga friendli pussi like casper friendli ghost',\n",
       " 'yeah tri record month spiral downward mayn empti son bitch folk',\n",
       " 'bitch shit yo eye aint shit eyez',\n",
       " 'easi congo fuckin faggot though eat lunch road frequent',\n",
       " 'nigga without warm travel like bitch',\n",
       " 'jimmi fallon prank get ny yanke fan boo robinson cano amaz via',\n",
       " 'lool agre fuck show ever watch misfit wen simon wife hoe saddest',\n",
       " 'bad bitch got bad habit',\n",
       " 'bushco use publicli trash ex offici wrote book snow neill etc bet hear pbo trash gate morn',\n",
       " 'melo bitch leav well lebron ju bitch regardless lol',\n",
       " 'cat roll said let go run game bitch',\n",
       " 'bout get breast reduct bitch way',\n",
       " 'love liv get ghetto',\n",
       " 'nd wtf dark bitch blond pleas sever seat hoe look like black amp mild',\n",
       " 'holi fuck frozen pussi crazi',\n",
       " 'realli believ peopl evolv ape realli quiet convinc evolut man',\n",
       " 'fuck class gon bitch tomorrow',\n",
       " 'happi birthday bob newhart comed legend turn today americanmast',\n",
       " 'nigga get hug got hoe b',\n",
       " 'divis trash saint gon win nfc south watch',\n",
       " 'tini girl trust bitch name tameka way',\n",
       " 'n hit butta slide end bitch',\n",
       " 'bitch hit chick look shit weak af',\n",
       " 'realli think ppl defend cassidi throw hotel crib bitch comin',\n",
       " 'realli expand bitch money',\n",
       " 'ugli fat cunt whore need ode',\n",
       " 'ffffffffffffuck baratheon rebellion bitch',\n",
       " 'get hoe lol',\n",
       " 'pregnant bitch centrevil know move next idk dont go cvill',\n",
       " 'favorit fuck jam seen judg littl girl probabl trash',\n",
       " 'alreadi soak sink amp melt drop shit bitch idgaf linc get caught',\n",
       " 'steal nigga bitch steal nigga tweet',\n",
       " 'chippah hope hangin wit di wigger boy',\n",
       " 'brag hoe hittin ask pic show sorri ass femal laugh',\n",
       " 'hoe like go talk one hoe like one hoe',\n",
       " 'afternoon group trash besid bubba keeg furyk group thememorialtourna',\n",
       " 'yall fuck trash boyi gladbagflow',\n",
       " 'pretend like cold heart bitch cut instant without second thought actual',\n",
       " 'jodi niggah got boo pregnant niggah take respons',\n",
       " 'thank charli great even',\n",
       " 'mani hoe realli',\n",
       " 'austin mahon make bitch horni right',\n",
       " 'week ago yall hoe suck dick yall pro huj',\n",
       " 'embarrass bitch',\n",
       " 'hear ugli bitch talk anoth ugli bitch',\n",
       " 'niggah wait weekend take shit',\n",
       " 'mickey mous ear hat tail matter',\n",
       " 'said name bitch ye fuck boy',\n",
       " 'nippl pierc suppos girl person secret hoe get take selfi',\n",
       " 'bomb singl bitch avail tap',\n",
       " 'look mirror see pussi ass bitch sit pee',\n",
       " 'anoth keyboard commando real life hide like littl bitch',\n",
       " 'bitch whatev nigga u scare play',\n",
       " 'alarm clock callin lol wake yo ass get money bitch',\n",
       " 'drunk inlov gun bae bitch beyonc',\n",
       " 'u gotta retard skip class colleg',\n",
       " 'feet pussi',\n",
       " 'fell asleep woke weird ass stare never seen beaner sleep',\n",
       " 'finger face pose bitch day like chick wanna see lip',\n",
       " 'pray today amp g pictur come yellow',\n",
       " 'big bitch goat lazi',\n",
       " 'girl like love babe lt bitch today',\n",
       " 'back hoe want hot',\n",
       " 'yall ever car ya moma sing everi song come like bitch know sch',\n",
       " 'read voic like hoe',\n",
       " 'flip thru tv saw bachelor stoop second say hoe garbag',\n",
       " 'exactli tell bitch shit',\n",
       " 'lmaoooo know taylor brazil eat oversea pussi',\n",
       " 'damn nigga wife hood hoe',\n",
       " 'ah smell readi open oven pull sshitti burnt ritz cracker perfect boy lu',\n",
       " 'none hoe swim renam bitch yacht club',\n",
       " 'brackin da biti boolin wit sum bitch straight bleedin',\n",
       " 'mannn hoe like wen school babi da',\n",
       " 'one man trash anoth man wife',\n",
       " 'keep ya draw hoe',\n",
       " 'rep yeah baddest bitch x',\n",
       " 'popcorn candi dinner alway knew charli brown spirit anim',\n",
       " 'retard dad roll law good',\n",
       " 'bitch lol',\n",
       " 'bitch firstli rest titti secondli u pay attent youd seen said roll',\n",
       " 'cute fuzzi one heheh',\n",
       " 'yaaaaaa bitch',\n",
       " 'calm littl asian lol go flip bitch',\n",
       " 'im queer mmm',\n",
       " 'girl hey beauti friendship last month bro sup pussi friendship last forev',\n",
       " 'bitch pull ugli desper dike want',\n",
       " 'hoe stfu',\n",
       " 'fuck faggot next',\n",
       " 'bitch lol life anymor',\n",
       " 'duh aka shitti night citi night hella ghetto',\n",
       " 'blue chees cracker intrigu repuls time',\n",
       " 'go chase dumb bitch',\n",
       " 'hope recruit women isi open jihadi finish school',\n",
       " 'hoe gave head say turn',\n",
       " 'crazi femal cheat wrong everi type hoe guy cheat justif',\n",
       " 'inning half away alex rodriguez elig play thought yanke mlb omg feel ulcer',\n",
       " 'ahaha pussi king',\n",
       " 'realli alway bitch know',\n",
       " 'femal act like never seen nicca rais kid reaction make laugh everi time',\n",
       " 'smh yoo fuckin ego bust pussi',\n",
       " 'person actual hold ape pari sister',\n",
       " 'use mx b measur slope ass girl',\n",
       " 'first adult decis made colleg buy guinea pig noragret alsonobeermoney univers iowa',\n",
       " 'hahahaha pussi better expect',\n",
       " 'made ya bitch sicc wit one',\n",
       " 'helloooo bitch bitch one avail',\n",
       " 'woman bust ass pleas treat like shit cuz immatur ass lil boy yeah fuck hoe ass nigga',\n",
       " 'drop stack caus bitch song call dope download mixtap',\n",
       " 'dude chicago w fuzzi mustach bang johnni love whack memoriesofidot',\n",
       " 'like hoe turn ass frisbe',\n",
       " 'gucci cut throat use stay next door kenfolk limousin bitch pour ya rent money',\n",
       " 'ive never seen part pussi town lolololol end song thoo',\n",
       " 'worri ladi behind build talk crow',\n",
       " 'ima keep give pussi ass nigga ah reason hate',\n",
       " 'fuck pussi boi bitch',\n",
       " 'nigga talk bout school ever choic bitch',\n",
       " 'hate wcw ass bitch',\n",
       " 'look ghetto fuck',\n",
       " 'nigga got lean pong know nigga outta hoe',\n",
       " 'bitch eat pussi nigga',\n",
       " 'momma dead bitch realli think connect lucki number face',\n",
       " 'figur bitch late',\n",
       " 'niggah niggah',\n",
       " 'bitch realli ask badg build go floor white peopl chang',\n",
       " 'teabagg anti american how feel hate countri',\n",
       " 'swear peopl clean offic switch side trash vs recycl can purpos mess',\n",
       " 'nigga low tho realli comin bitch curv u u act like u play',\n",
       " 'follow sum bush ass bitch',\n",
       " 'bitch goofi bitch dat loyal',\n",
       " 'guess girl psycho bitch dgaf day smh dumb even know psycho tf outta',\n",
       " 'rather follow girl instagram rather bird brain tweet tl',\n",
       " 'opinion matter cunt',\n",
       " 'vote die bitch',\n",
       " 'vouch ya pussi tho k',\n",
       " 'make make fall love bitch like',\n",
       " 'thirsti basic ass bitch',\n",
       " 'bitch like bitch',\n",
       " 'control aux cord whole two half hour drive home repeat singl song bet boyfriend bitch',\n",
       " 'wanna sex mom fuck right pussi came damn got hack like fuck',\n",
       " 'fake bitch hahaha',\n",
       " 'want snake bite industri piercin amp tattoo dem hoe accessori dea',\n",
       " 'shawn micheal amp razor ramon bitch noon godfath though',\n",
       " 'phone doin da pussi right lol',\n",
       " 'new bu stop guy across street yell david lee roth kick swoop crow learn karat',\n",
       " 'fw bad bitch iont mediocr',\n",
       " 'bitch amp speak initi friendli hello',\n",
       " 'kick bitch right pussi',\n",
       " 'nobodi tl slick dead femal bash nicca earli di morn lol',\n",
       " 'littl bitch x',\n",
       " 'want hoe back',\n",
       " 'suck flappi bird',\n",
       " 'weeknd bitch love dark skin fella',\n",
       " 'entertain bitch az nigga hit women smh rais',\n",
       " 'cheat isnt good women hoe simpli altern nut nigga cheat good women everyday b',\n",
       " 'gook boy shawti',\n",
       " 'soon u get pt wonder go hard hoe bitch shit smh',\n",
       " 'call dat bitch',\n",
       " 'equal law peopl white black red yellow blue homo hetero well draw line',\n",
       " 'pictur time outsid metro fuck fag',\n",
       " 'lmao definit bout say front bitch shit freeway',\n",
       " 'need ride die bitch',\n",
       " 'nigga w bitch mental go',\n",
       " 'nigga jerri room smell like bad pussi',\n",
       " 'amp sad caus nigga good girl amp wrong hard find good bitch forreal',\n",
       " 'hoe',\n",
       " 'see kid bad amp parent stand amp look em like bitch gon somethin',\n",
       " 'hell caus brad still walk away like yeah fuck nigga bitch',\n",
       " 'bitch like',\n",
       " 'former towi star charli king come inspir congrat welcom famili',\n",
       " 'femal know hoe realli coolest chick sex asid lmao',\n",
       " 'happi birthday bad bitch',\n",
       " 'social network got bitch head like',\n",
       " 'take fuck hoser',\n",
       " 'bow wow look like stress save hoe wear',\n",
       " 'paranoid fear sharia right boil christian fundamentalist sole oppressor persecu',\n",
       " 'twinki unfil odd fill',\n",
       " 'lil bitch releas exclus shower photo nigga trustisbroken',\n",
       " 'piss shower check yellow leg',\n",
       " 'correct better bring one classi bitch home momma go deal random hoe hous',\n",
       " 'ga alway cheaper ghetto',\n",
       " 'btw genocid war peopl gaza combat peopl warsaw ghetto',\n",
       " 'dont show bitch unless look like dolli parton',\n",
       " 'asshol credenti even redneck hate',\n",
       " 'make first impress best like nino brown ima cancel bitch',\n",
       " 'black bottl amp bad bitch',\n",
       " 'need real bitch',\n",
       " 'ha get pussi quicker day',\n",
       " 'wussup pussi imback newtwitt',\n",
       " 'damn redneck outsid shoot gun keep wake kid sleep us tonight thank work go great',\n",
       " 'u hit list bitch kill yo self',\n",
       " 'bitch say dog hous fuck mean',\n",
       " 'hunt bird unless count shoot dove season power line bb gun',\n",
       " 'girl hold dick like wii control bitch nigga control',\n",
       " 'thing calm pussi cali tree',\n",
       " 'tire dat bitch mannn',\n",
       " 'histor point cracker term irish settl wood mid atlant hardli offens',\n",
       " 'nah bitch gone go want back minut later play k notic',\n",
       " 'bitch ass boom bap click clack move back',\n",
       " 'bet charli strong contact ridley',\n",
       " 'still gonna smack fuck tri act hard twitter haha pussi ass nigga',\n",
       " 'beani cum real soon',\n",
       " 'fw friendli bitch',\n",
       " 'peep trash marsh mellow gener trash',\n",
       " 'drive drunk caus bitch drove drink',\n",
       " 'bitch get fuck tl u mean',\n",
       " 'bitch slap brother',\n",
       " 'sup fat bitch',\n",
       " 'go bitch tread care',\n",
       " 'new natur area replac indian boundari park former zoo expect attract varieti migratori bird',\n",
       " 'today spi op countri guy big feet lv lick sole n hv sole cock',\n",
       " 'bitch tweet relationship goal w man job real desir stop hoe parti everi weekend ju iph',\n",
       " 'make annoy bitch look offend bitch offend',\n",
       " 'light tender yellow butter cake classic boil ice tradit made burnt sugar',\n",
       " 'gon ever niggah hit like everi pictur get whoever want period',\n",
       " 'trynna find bitch fat ass',\n",
       " 'social network got bitch head like',\n",
       " 'hit car anoth rock ass time bitch',\n",
       " 'bitch want yo fat ass follow hoe',\n",
       " 'sex st date dont mean hoe wait day wont make wife cute pic dont mean happi amp tit',\n",
       " 'mom bitch much',\n",
       " 'bitch bitch hella chillin also thank toler friend',\n",
       " 'professor said hoe said butt hurt boss',\n",
       " 'alway dumb twitter hoe come sport hope floyd beat mayweath hope new orlean beat saint',\n",
       " 'point everi voter florida vote charli crist',\n",
       " 'bad bitch get free night weeni hut jr',\n",
       " 'idk planet bitch work planet earth follow supervisor instruct mean im resist',\n",
       " 'final debat clean journalist sure know trash lobbi wcvbpoli wcvb',\n",
       " 'leo apolonio look niggah drive bike',\n",
       " 'realli sure describ happen eurotrash vip room',\n",
       " 'faggot pussi put twitter pic dog',\n",
       " 'got everi reason feel like bitch',\n",
       " 'lmao trifl ass bitch',\n",
       " 'sore loser charli crist give concess speech call recount tcot pjnet',\n",
       " 'fuck bitch said',\n",
       " 'tf make account anoth bitch like wanna anotha bitch dat bad lmfaooo fat ass hoe',\n",
       " 'never seen pussi like',\n",
       " 'crack whip cracker',\n",
       " 'fifti buck say dens cunt think say tote reg unfollow b c said cheerlead countdo',\n",
       " 'whatimcrav peanut butter oreo lt',\n",
       " 'run around town deliv food peopl take trash perfect boyfriend',\n",
       " 'nigga talk bitch day',\n",
       " 'half bitch say tfti even go bet',\n",
       " 'ciara ghetto name well kinda ashanti',\n",
       " 'bitch love beyonc',\n",
       " 'might play b k tonight black hoe know still care yal',\n",
       " 'like baathist isi amp al qaeda support rivalri absurd caus battl authent jihadi',\n",
       " 'want billion dollar bad hoe da island fine ass geni bitch datz none',\n",
       " 'yall pussi swur',\n",
       " 'splurg around hoe shine front bitch cu get dick like find front',\n",
       " 'jihadi keep prattl shot today think apach helicopt mayb mi',\n",
       " 'shut faggot',\n",
       " 'someon tell drink bitch fuck first night meet back game',\n",
       " 'bitch far fuck us got el gran pollo way serv us well',\n",
       " 'aint bitch well like',\n",
       " 'retard cousin lmao',\n",
       " 'ignor bird',\n",
       " 'nigga cape bitch like seen nude alreadi want tf',\n",
       " 'im order real nicca gotta real nicca',\n",
       " 'big uncl tom slur anyway least reserv earn dare vote dem',\n",
       " 'posit thought nig nog',\n",
       " 'nigga love quot page pussi nigga live talk bout',\n",
       " 'ion sneak diss broke bitch',\n",
       " 'tweet dont fw crayon ex gone subtweet say bitch nigga fw crayon anyway',\n",
       " 'worri look like hoe gon regret u get older cuz u miss lot fun',\n",
       " 'bro know comment stupid shit like bitch instagram heart attack plate',\n",
       " 'run round like brand new pussi that bout get fuck',\n",
       " 'oreo cooki pancak foodporn',\n",
       " 'teach realli fuck bitch brah',\n",
       " 'wors bitch look better main bitch bad right lol',\n",
       " 'sell soul yea bitch shit seriou',\n",
       " 'damn girl pussi talkin im keel nigga',\n",
       " 'drunk eat fuck twat',\n",
       " 'shade shit bitch yourwifecantread',\n",
       " 'blame crash share probabl talk trash like food truck geoffhatespuppi',\n",
       " 'pistol bad bitch hustler bad busi',\n",
       " 'dat headband shit purpos whole spur team fuckin lookin weird lookin nicca',\n",
       " 'happi birthday main niggah right minut dream bein rich',\n",
       " 'shit bitch brag hilari',\n",
       " 'mauri year old still expos hoe',\n",
       " 'tarantula dope spider small n kill fuck dat spider arent scari sheesh pussi',\n",
       " 'aid dat bad becom da hoe da crack gonna make differ anyhow',\n",
       " 'call bout nigga shit bird amp nigga fuck fuck care',\n",
       " 'hoe like honest say differ',\n",
       " 'lmaoo typic nig nog bomb got pic',\n",
       " 'fave tryna see nigger leg bikini',\n",
       " 'bitch talk shit whisper',\n",
       " 'grow nigga hoe mean love',\n",
       " 'unloy girl turn good guy asshol unloy guy turn good women bitch',\n",
       " 'hoe loyal',\n",
       " 'r fun twin tri lick cheeto dust coleslaw nip',\n",
       " 'got trust drug dumb ass bitch',\n",
       " 'bitch get nerv',\n",
       " 'ima beat yo lil young ass quick plyin hoe',\n",
       " 'bitch bad piec yo bitch got bad feet',\n",
       " 'rand paul mock clinton hillaryslos pic fail candid',\n",
       " 'lit den bitch last night',\n",
       " 'ha welcom washington state nashvil serpa straight trash',\n",
       " 'queen latifah dyke id contempl fuck rn wait',\n",
       " 'mani good singl girl mani hoe taken',\n",
       " 'hoe talent da girl put book info bio get k follow',\n",
       " 'flappi bird bull',\n",
       " 'way punch bitch',\n",
       " 'true life emot clingi bitch',\n",
       " 'fag toni',\n",
       " 'put bullet bitch',\n",
       " 'find new song like play hoe way time lol',\n",
       " 'ghetto',\n",
       " 'march get mad marchmad collegehoop indiana iubb hoosier',\n",
       " 'yeah niggah play good lowkey want brazil win',\n",
       " 'ya side hoe tryna act',\n",
       " 'bitter bitch need life',\n",
       " 'think funni hoe talk bout faith',\n",
       " 'born black would ton kid never work get lot free stuff amp bitch thank god drag b',\n",
       " 'nigga pure sucka got problem ya man address shit discuss amp squash bitch hold grudg',\n",
       " 'beat bitch serious bitch',\n",
       " 'seen baddest bitch tower citi heart got warm',\n",
       " 'nigga done bump yo head li ning fire kobe elit gold trash',\n",
       " 'fuck bitch',\n",
       " 'watch madea play everi night sing ass bitch',\n",
       " 'wayn crazi new orlean ass nicca lol',\n",
       " 'omg dr cruz remind mari ann moreno bitch swoop nowher chang dress code dark scrub sweater',\n",
       " 'omg two monkey twin never call anoth girl ugli got thicker mustach',\n",
       " 'hello bitch want keep lie self',\n",
       " 'nicer easier hurt bitch',\n",
       " 'ghetto bitch pregnant f smh poor kid',\n",
       " 'shoutout everybodi follow nicca',\n",
       " 'pretti sure futur ex boyfriend slidin anoth bitch dm patient',\n",
       " 'pussi talk friend seem hard',\n",
       " 'irrelev bitch dislik u reason',\n",
       " 'nah boa nigga wayn run mouth like hoe amp girl hoe chill wi',\n",
       " 'wtf chick sing th inning stretch giant game wear like redneck carmen miranda nld',\n",
       " 'go hoe dog',\n",
       " 'work nigga fuck work friday bitch fuck friday saturday tomorrow epic',\n",
       " 'lowkey hoe life l',\n",
       " 'girl plain look borderlin ugli amp chunki hey least got nice smile amp great person',\n",
       " 'autocorrect make life chang hoe life duck',\n",
       " 'mean trash',\n",
       " 'want get nose bad boi scalli chav sockfetish stink hot sox leg',\n",
       " 'surpris bitch',\n",
       " 'comma bitch period',\n",
       " 'say mani bitch fuck might say mani touch',\n",
       " 'mad cuh hahaha suur tuku ho ita',\n",
       " 'bitch show friday look like bitch ring punch straight face',\n",
       " 'face ugli amp nude trash',\n",
       " 'nov thanksgiv dinner pm proof main day preoccupi giant bird http',\n",
       " 'hoe social media hoe real life',\n",
       " 'hate whole slut hoe thot talk lol given sure peopl person inbox late night look like',\n",
       " 'undesir bitch big bruh',\n",
       " 'frowni eat browni',\n",
       " 'guess niggah believ ya proof ya name lot thing man wont ya',\n",
       " 'that fuck give pussi woke sex mind play cont',\n",
       " 'good choic except whale bitch fuck would get pregnant',\n",
       " 'lil bitti bitch lingo',\n",
       " 'fuck mexico bitch',\n",
       " 'gotta love tanner countri hoe amp haha',\n",
       " 'also part releas day gift ye get ador bumblebe bear montlak',\n",
       " 'peyton man goon fuck eli pussi ass',\n",
       " 'guy would get show spike could somehow reviv son bitch watch',\n",
       " 'damn thot block ur fuzzi butt',\n",
       " 'porn android iphon ipad sex xxx lesbian lesbian girl eat pussi',\n",
       " 'never gonna ok nigga around alot bitch boy caus femal boy put',\n",
       " 'dick sherman get caught blow tranni hooker time soon pleas prefer pete carrol',\n",
       " 'nc weather serious fucken retard gonna someth today almost saturday',\n",
       " 'hate wcw ass bitch',\n",
       " 'tag friend suck flappi bird',\n",
       " 'femal think date pussi cute stuff make pussi',\n",
       " 'woman complain clean hous amp man alway take trash',\n",
       " 'learnt bird child best time learn',\n",
       " 'big titti bitch lmao fuck good parti',\n",
       " 'fuck bitch get money',\n",
       " 'got charg nigga tryna talk chick realli insecur faggot control',\n",
       " 'thot keep say nigga want pussi well bitch wtf els broke non cook ass',\n",
       " 'year today fuck retard fell love stupid wish coldheart neverlovingsomeoneagain dontneedanyon',\n",
       " 'idkmadz tbh seen recess monkey bar busi get beat lol talk rate',\n",
       " 'bitch amp wasnt',\n",
       " 'bitch come town east mall u bitch fuck boy',\n",
       " 'yeah tri follow zulu look bitch muslim flat way use sheet bed head',\n",
       " 'talk trash regard sport',\n",
       " 'ion got type bad bitch thing like',\n",
       " 'one call pussi pop think cat',\n",
       " 'still suck dick eat pussi',\n",
       " 'dad friend tell dad got good pussi last night good lay real bummer',\n",
       " 'grandma homemad potato soup old fashion simpl chunki potato soup like grandma made wit',\n",
       " 'ghetto name',\n",
       " 'fat white bitch skinni po black nigga yeah im metairi fa sho',\n",
       " 'fad doc marten enjoy anal sex girbaud poser wigger fake banger account jnco domin',\n",
       " 'sure slant plagiarist idea',\n",
       " 'oh one stuck bitch',\n",
       " 'agre badd one idk mix bitch realli tho',\n",
       " 'val bitch',\n",
       " 'np big nig nig',\n",
       " 'feel like black peopl nigger black nigger imma tell idc',\n",
       " 'type bitch make u take date give u da pussya shit weak damn',\n",
       " 'legit tri worst thing tri play game get bird sooo fast',\n",
       " 'chanc make champion nicca noth stop',\n",
       " 'know ya friend tellin u leav good fuck hate ass hoe babe',\n",
       " 'let know self consciou even pretti bitch',\n",
       " 'gotta question nicca stand next cut em',\n",
       " 'guy constantli asshol give damn beyond ur pussi',\n",
       " 'dearfuturehusband idea mani browni point get randomli play hair scratch',\n",
       " 'make handshak bitch',\n",
       " 'bitch get away much behind social media account popular twitter instagram lame broke fuck',\n",
       " 'niggah watch fuck hate bitch',\n",
       " 'make beat pencil class teacher say keep make trash ass beat fail ht',\n",
       " 'bitch jail',\n",
       " 'mute pussi smh',\n",
       " 'charli sheen video messag presid obama',\n",
       " 'elissa would call trash vile etc',\n",
       " 'even pretti bitch mad self consciou instagram pic get enuff love get takendown',\n",
       " 'im cri bitch go hard',\n",
       " 'jew lawyer doctor say nigga ran lol nope say shit like queer though',\n",
       " 'today day bitch let turn tf',\n",
       " 'bitch aint playin jealou woman better research fbi',\n",
       " 'bird ill share lone view',\n",
       " 'trust seattl gt give thanksgiv due gt huge flightless bird dream come true european bird eater',\n",
       " 'ebhgjhbgjbejfb saw ach websingl xxxxx marylandunempin like bitch name mari landunem stole money',\n",
       " 'tri hard resist urg smack bitch',\n",
       " 'haha yolo ya hit hoe',\n",
       " 'practic anyth color red often contain red pigment extract femal coccu costa cochin insect',\n",
       " 'ok suck dick suppos done cute manor like eat pussi suppos scare',\n",
       " 'know stay fuck bitch shit street nigga that gonna get',\n",
       " 'batter wee cunt jewi co fuck ex emma isnt batter girl nail ive move stop pussi n urself',\n",
       " 'bitch say im ugli hate mad jealou bitch',\n",
       " 'lol cunt',\n",
       " 'dej loaf ever bitch wc today take lil juic bitch want',\n",
       " 'lmfaoooooooooooooooo put muthafuckin jelli bread bitch spread',\n",
       " 'date wit iren nd bitch stood matter fact stood da whole citi thanx fuck cunt iren ur ass greas',\n",
       " 'nobodi care fuck fag damn bring bitch water even though your thirsti fuck fucknigga',\n",
       " 'yanke lineup vs red sox ellsburi cf jeter ss beltran dh soriano lf teixeira b mccann c solart b ichiro rf robert b',\n",
       " 'type guy bitch hot still sweat q',\n",
       " 'yall bitch know friend',\n",
       " 'know bitch boy name luke',\n",
       " 'fasho offici hire bitch',\n",
       " 'subtweet use hashtag oomf differ p jk jerkin yo dick ya nigger faggot',\n",
       " 'want pussi ate gon text u back afterward want hang',\n",
       " 'kim kardashian babi import news took trash last night',\n",
       " 'hate bitch get boyfriend forget like got togeth',\n",
       " 'trenton gossman sexiest hillbilli ever seen',\n",
       " 'wanna eat fuck u talk bout bitch',\n",
       " 'lmao nigga ran ponzi scheme hoe',\n",
       " 'serious reason use mega whatsoev pure favorit also sweet fuzzi wing',\n",
       " 'feel like aint let warm eat pussi half hour got goin nut',\n",
       " 'hold fuck bitch',\n",
       " 'nigga gone nigga im sorri amp hoe gone hoe regardless',\n",
       " 'niggah shit seriou aint one laugh',\n",
       " 'froyo browni dinner tonight adult make execut decis',\n",
       " 'listen base god one time im base bitch stfu like stay outa base game',\n",
       " 'everytim fuck gotta hit least two bitch',\n",
       " 'public place ya side hoe come outta',\n",
       " 'laker go trash season wait',\n",
       " 'fuck court fine add mf dollar bitch',\n",
       " 'chug tall homegirl approv lol',\n",
       " 'bad bitch bounc pogo screamin yolo nigga juelz',\n",
       " 'bitch retard give back dollar everi time meet somebodi assum never meet',\n",
       " 'woke next morn like thee fuck donat chees skank hoe',\n",
       " 'fight den hoe',\n",
       " 'pretti bitch even prettier titti',\n",
       " 'nigga press pussi aint noth',\n",
       " 'told littl bitch ass nigga look like eat gun charg slap hoe ass lawyer',\n",
       " 'ayo take pic fam think bitch gon fuck pic',\n",
       " 'confess autist someth thought aerosmith dreamon ledzeppelin like yesterday retard',\n",
       " 'gonna sit tf amp text hoe gonna care',\n",
       " 'check homi sole sauc stuff miracl',\n",
       " 'opinion irrelev cunt',\n",
       " 'shit like retard',\n",
       " 'cheeki lol want black yellow ughh',\n",
       " 'fuck fuck song wtf r u talk ye fuck bitch',\n",
       " 'offens joe johnson good lebron better pussi',\n",
       " 'unloy girl turn good guy asshol amp amp unloy guy turn good women big time bitch',\n",
       " 'bring anoth bitch real nigga',\n",
       " 'poor coon snow stop wind would might nice well winter',\n",
       " 'hoe jitterbug',\n",
       " 'realli anyon talk thing start go wrong aight hoe ass nigga',\n",
       " 'paper pussi caus pussi bring problem powerofthep',\n",
       " 'love bitch im ridin bitch matter',\n",
       " 'that yo bitch bitch',\n",
       " 'hate bitch ugli fat bitch worst',\n",
       " 'kmm get fuck trash head',\n",
       " 'finna punch bitch front da girl',\n",
       " 'mommi said pussi cat insid dawg hous',\n",
       " 'sex lot guy hoe sell crack peopl drug dealer foh hoe',\n",
       " 'im get sleepi water bitch right',\n",
       " 'call ugli start pushin around run like mother fuck pussi scream mom help htt',\n",
       " 'shit crow wal mart park lot',\n",
       " 'peopl realli think asian get offend even though make fun gook self',\n",
       " 'um fuck bitch done xavier hope respect girl bc alon want',\n",
       " 'chaber book bragadayjah nimrod cushit first king earth see bragadayjah',\n",
       " 'smoke skate twerk innat hoe ya',\n",
       " 'got surpris bitch',\n",
       " 'seem like cori talk indianapoli hoe nb',\n",
       " 'stunt hoe like',\n",
       " 'sound like soulless cunt',\n",
       " 'somewher world bitch order rose look like lone bitch offic',\n",
       " 'follow back hoe',\n",
       " 'call gram sugar delight heart attack poptart twinki amp honeybun',\n",
       " 'yo bitch boof got throwbac pussi',\n",
       " 'man wish bitch would stfu',\n",
       " 'pull ex make bitch mad',\n",
       " 'u call ur besti bitch guess dog bark much',\n",
       " 'bitch play game may joystick',\n",
       " 'need loyal bitch goofi bitch',\n",
       " 'hoe homi hop idgf fun tha homi nun go',\n",
       " 'think time bring drunken monkey',\n",
       " 'best man ever fuck right pussi nigg',\n",
       " 'got bitch dick yet nigga',\n",
       " 'post charli clip vs yung ill rap battl review',\n",
       " 'got bitch whip come pick',\n",
       " 'lester parasit spider monkey redeem qualiti ran boat amp boat attract women c',\n",
       " 'lil troubl beatin bitch show judg zero respect lol brooklyn nigga temper',\n",
       " 'uncivil',\n",
       " 'believ hoe fact loyal disagre believ fact loyalest bunch hoe',\n",
       " 'trust player fear bitch',\n",
       " 'draymond green bitch ass nigga bruh',\n",
       " 'bitch got fuck devot life lord gotta stand like aint mad',\n",
       " 'rememb phone sex white bitch said pussi tast like salt vinegar chip tal',\n",
       " 'song tyga trash',\n",
       " 'world cup diari argentina mock brazil twirl towel photo getti',\n",
       " 'talk bitch like realli care',\n",
       " 'u got twin bed yo bitch ass better invit yo crib u better sleep futon boy',\n",
       " 'realli happen like random bad bitch hit',\n",
       " 'download new person order new face bitch love goddamn axl rose yell sex robot',\n",
       " 'pussi tho',\n",
       " 'nigga sweat like guilti preacher bitch',\n",
       " 'next time see bitch beat ass job lol',\n",
       " 'girlfriend kid eat bacon without dip tub creami butter laid like bird',\n",
       " 'someon need give bitch gatoraid ten',\n",
       " 'scare lose caus know get bitch',\n",
       " 'fuck thirsti championship welcom fuck traitor open arm haha fuck heart ass pussi organ',\n",
       " 'yuhh finna hit hoe',\n",
       " 'greta let fag thought cool',\n",
       " 'brother know american horror stori bitch lame ass fuck',\n",
       " 'long hair cover redneck',\n",
       " 'want hoe go urban chat hoe mia get punch boob',\n",
       " 'ya name gain weight ya ex hoe let go',\n",
       " 'mfz bitch sellin chicken wing amp fri',\n",
       " 'next finger dyke',\n",
       " 'man bad built bitch san antonio amp u wear thong beach yo ass bet retweet',\n",
       " 'rub booti start play pussi ya thumb gt gt gt gt gt',\n",
       " 'bitch im mad slap',\n",
       " 'wish tonight purg get hunt shut yo hoe ass',\n",
       " 'rich son bitch greadi smh',\n",
       " 'bitch today',\n",
       " 'bf love crow thought might enjoy last tweet',\n",
       " 'rememb dude play young ned follow youtub channel actual use youtub favorit',\n",
       " 'sydney hoe ask dumb ass question',\n",
       " 'fake tit hoe u guess twitpic halloween costum',\n",
       " 'lmao lyin si bitch told light bulb whole wide world light today ca fuck',\n",
       " 'nigga go damn dark skin hoe havin ass lookin like pokemon',\n",
       " 'bitch bloke lmao',\n",
       " 'he behind plate game tonight az im look buy red amp yellow balkamania shirt tear',\n",
       " 'worri bitch use fuck wit',\n",
       " 'fitzpatrick trash bruh',\n",
       " 'charger got fuck finna wrap cord tf around phone bitch finna charg today cuhz',\n",
       " 'like nigga real mark ass bitch lol',\n",
       " 'still let plastic bitch dollar',\n",
       " 'shut bitch gonna roast',\n",
       " 'chase bread hoe caus never met dollar aint like fact',\n",
       " 'evan william wit find bitch minaj',\n",
       " 'goe babe bitch love hate need fuck everyth',\n",
       " 'bitch',\n",
       " 'ever ate pussi fuck nigga let know right owe dirti bitch',\n",
       " 'play soccer cheat girl wear khaki colour cargo haircut yup',\n",
       " 'saw leprechaun told burn thing',\n",
       " 'got gin mad blunt bitch suck dick',\n",
       " 'diet coke trash',\n",
       " 'love lay bed twin size bed bitch takin havin',\n",
       " 'rather believ man definit good u mock',\n",
       " 'hate hoe tri lead u naw like lil bitch im coool',\n",
       " 'avoid commit hoe loyal',\n",
       " 'hood hoe love harrel footbal team',\n",
       " 'lol get earli bird catch worm',\n",
       " 'niggah think gon come bestf fuck',\n",
       " 'us bitch',\n",
       " 'done seen lot fake shit bitch bad basic',\n",
       " 'bitch fat ass way live u young shit gonna get old tho lot dent',\n",
       " 'yo bitch givin head watch good burger',\n",
       " 'actual get erin think realli nice bit two face bitch time nasti',\n",
       " 'prolli like niggah realli give fuck feel',\n",
       " 'feel warm fuzzi',\n",
       " 'wear bucket hat basic bitch',\n",
       " 'u never pregnanc scare pussi trash ladi professortrav',\n",
       " 'weather need flag today tri zip bitch tonight yessssirrrrr',\n",
       " 'happi birthday pop old negro spiritu today lol',\n",
       " 'ju tryn figur dem nicca togeth like dat',\n",
       " 'matter nigga alway tryna holla bitch',\n",
       " 'club never get old hoe though',\n",
       " 'lmaooo hoe childish',\n",
       " 'live home littl less like cheat ho',\n",
       " 'best way make hillbilli someth tell',\n",
       " 'watch steeler colt get blind steeler uniy look like bunch bumblebe',\n",
       " 'nigga pass hoe',\n",
       " 'u spent signific time ghetto wit year terror commit polic black commun',\n",
       " 'dracula bitch got problem smackin bitch kidnap em attack em axe n shit',\n",
       " 'differ slut bitch slut sleep anyon bitch sleep anyon',\n",
       " 'gimm grade bitch know wat tri spell',\n",
       " 'bitch nigga hmmm either gay hoe',\n",
       " 'bitch town',\n",
       " 'bitch subtweet',\n",
       " 'hoe excit still lil nigga',\n",
       " 'nigga spun around pussi',\n",
       " 'got bad bitch molli aquafina',\n",
       " 'go eat pussi smell tangi',\n",
       " 'damn charli wilson still around',\n",
       " 'gator bitch better use jimmi',\n",
       " 'sinai jihadi group behead accus spi jew via',\n",
       " 'fuck fight music bitch lose ya life music',\n",
       " 'khloee new backpack color last night',\n",
       " 'tri fuck someth today bitch want lie talk bout brother phone lmfao feel play',\n",
       " 'girlfriend like bitch talk bitch',\n",
       " 'alway love vent bitch',\n",
       " 'wanna someth somebodi boy sound desper hoe bout start flat nose',\n",
       " 'terranc wanna one hoe',\n",
       " 'main bitch call tell miss super cute love boo',\n",
       " 'halloween use holiday kid nation dress like inner hoe day',\n",
       " 'bitch what plan yo box irrelev',\n",
       " 'bat cool hell basic half tini fox half leather bird',\n",
       " 'made interview bitch finess huh lol',\n",
       " 'druggi hoe gotta dopest video ever',\n",
       " 'lol haha hahahahahahahahahaahah deez nut bitch',\n",
       " 'swear broad new bitch everi month cant even get one girlfriend mayb someth wrong',\n",
       " 'shego baddest bitch childhood',\n",
       " 'u bitch doe',\n",
       " 'lmaoooo beiber get hoe wet big bro tryna tell',\n",
       " 'way fuck bitch',\n",
       " 'got damn man hung tf like bitch',\n",
       " 'almost black littl cunt disrespect turtl disrespect gorilla',\n",
       " 'hoe',\n",
       " 'gum drop look bitch comment peopl look',\n",
       " 'k onlin hit niggah',\n",
       " 'way delet tweet stanki bitch',\n",
       " 'nawwww hoe sittin floor damn couuuuuch',\n",
       " 'differ three nig nog',\n",
       " 'fight expos hoe super gay shit anyth neg sinc societi work',\n",
       " 'badcombin ugli bitch loud af',\n",
       " 'place ho garden',\n",
       " 'thank charli',\n",
       " 'one day turkey nip belli readi stuf wet',\n",
       " 'everybodi think get hoe think ima playa honestli im crib wonder bout mom make yellow whi',\n",
       " 'happi columbu day glad usin weavetrip rope sail serious tho gt shit would wigger gt',\n",
       " 'got dirti bird hey shoot like larri bird hey',\n",
       " 'tire butthurt commerci ya phone trash b want em',\n",
       " 'gonna rock cock gonna jam clam',\n",
       " 'hate bitch think everyon want nasti ass like cute',\n",
       " 'u lookin boss go get job bitch',\n",
       " 'real man gonna keep real bitch lmaooooo shut tellin u women mind ur busi',\n",
       " 'bitch love alex target',\n",
       " 'bring lat name hoe know kid need know',\n",
       " 'pussi',\n",
       " 'bitch cold averag fuck last bitch',\n",
       " 'hoe wanta',\n",
       " 'chill zahra im get cracker rn',\n",
       " 'rememb relationship friend let hoe',\n",
       " 'steak categori ran bitch like busto',\n",
       " 'u bitch bore',\n",
       " 'dead af stupid bitch still talk shit',\n",
       " 'byee iverrishaa ghetto ass name',\n",
       " ...]"
      ]
     },
     "execution_count": 69,
     "metadata": {},
     "output_type": "execute_result"
    }
   ],
   "source": [
    "# X_tr1=X_tr.split('\\n')\n",
    "# y_tr1=y_tr.split('\\n')\n",
    "[str(item) for item in X_tr]"
   ]
  },
  {
   "cell_type": "code",
   "execution_count": 85,
   "metadata": {},
   "outputs": [],
   "source": [
    "pickle.dump(vec, open(\"../pickle/vec.pickle\", \"wb\"))"
   ]
  },
  {
   "cell_type": "code",
   "execution_count": 71,
   "metadata": {},
   "outputs": [],
   "source": [
    "import matplotlib.pyplot as plt\n",
    "import seaborn as sns"
   ]
  },
  {
   "cell_type": "code",
   "execution_count": 72,
   "metadata": {},
   "outputs": [],
   "source": [
    "def get_metrics(X, y, y_pred, model):\n",
    "    acc = accuracy_score(y, y_pred)\n",
    "    f1 = f1_score(y, y_pred)\n",
    "    rec = recall_score(y, y_pred)\n",
    "    prec = precision_score(y, y_pred)\n",
    "    \n",
    "    \n",
    "    print('Accuracy: ', acc)\n",
    "    print('F1: ', f1)\n",
    "    print('Recall: ', rec)\n",
    "    print('Precision: ', prec)\n",
    "   \n",
    "\n",
    "def get_confusion(y, y_pred):\n",
    "    cnf = confusion_matrix(y, y_pred)\n",
    "    group_names = ['TN','FP','FN','TP']\n",
    "    group_counts = ['{0:0.0f}'.format(value) for value in cnf.flatten()]\n",
    "    group_percentages = ['{0:.2%}'.format(value) for value in cnf.flatten()/np.sum(cnf)]\n",
    "    labels = [f'{v1}\\n{v2}\\n{v3}' for v1, v2, v3 in zip(group_names, group_counts, group_percentages)]\n",
    "    labels = np.asarray(labels).reshape(2,2)\n",
    "    fig, ax = plt.subplots(figsize=(4,4))\n",
    "    sns.heatmap(cnf, annot=labels, fmt='', cmap='Blues', annot_kws={'size':14}, cbar=False, xticklabels=False, yticklabels=False)"
   ]
  },
  {
   "cell_type": "code",
   "execution_count": 73,
   "metadata": {},
   "outputs": [
    {
     "data": {
      "text/plain": [
       "1    17514\n",
       "0    17514\n",
       "Name: target, dtype: int64"
      ]
     },
     "execution_count": 73,
     "metadata": {},
     "output_type": "execute_result"
    }
   ],
   "source": [
    "train.target.value_counts()"
   ]
  },
  {
   "attachments": {},
   "cell_type": "markdown",
   "metadata": {},
   "source": [
    "## Multinomial Naive Bayes Model"
   ]
  },
  {
   "cell_type": "code",
   "execution_count": 74,
   "metadata": {},
   "outputs": [
    {
     "name": "stdout",
     "output_type": "stream",
     "text": [
      "Accuracy:  0.8811440315122453\n",
      "F1:  0.8735883424408014\n",
      "Recall:  0.8213735228635041\n",
      "Precision:  0.9328924333787201\n"
     ]
    },
    {
     "data": {
      "image/png": "[encoded data removed]",
      "text/plain": [
       "<Figure size 400x400 with 1 Axes>"
      ]
     },
     "metadata": {},
     "output_type": "display_data"
    }
   ],
   "source": [
    "nb = MultinomialNB().fit(tfidf_tr, y_tr)\n",
    "y_pr_nb_val = nb.predict(tfidf_val)\n",
    "get_metrics(tfidf_val, y_val, y_pr_nb_val, nb)\n",
    "get_confusion(y_val,y_pr_nb_val)"
   ]
  },
  {
   "attachments": {},
   "cell_type": "markdown",
   "metadata": {},
   "source": [
    "## Random Forest Classifier"
   ]
  },
  {
   "cell_type": "code",
   "execution_count": 46,
   "metadata": {},
   "outputs": [
    {
     "name": "stdout",
     "output_type": "stream",
     "text": [
      "Accuracy:  0.9871553348176058\n",
      "F1:  0.9870084877879786\n",
      "Recall:  0.9758520294570988\n",
      "Precision:  0.998422989311372\n"
     ]
    },
    {
     "data": {
      "image/png": "[encoded data removed]",
      "text/plain": [
       "<Figure size 400x400 with 1 Axes>"
      ]
     },
     "metadata": {},
     "output_type": "display_data"
    }
   ],
   "source": [
    "rf = RandomForestClassifier(n_estimators=100, random_state=42).fit(tfidf_tr, y_tr)\n",
    "y_pr_rf_val = rf.predict(tfidf_val)\n",
    "get_metrics(tfidf_val, y_val, y_pr_rf_val, rf)\n",
    "get_confusion(y_val,y_pr_rf_val)"
   ]
  },
  {
   "attachments": {},
   "cell_type": "markdown",
   "metadata": {},
   "source": [
    "## Logistic Regression"
   ]
  },
  {
   "cell_type": "code",
   "execution_count": 75,
   "metadata": {},
   "outputs": [
    {
     "name": "stdout",
     "output_type": "stream",
     "text": [
      "Accuracy:  0.9278986127761603\n",
      "F1:  0.9255394411036435\n",
      "Recall:  0.8962151053262545\n",
      "Precision:  0.9568476869628817\n"
     ]
    },
    {
     "data": {
      "image/png": "[encoded data removed]",
      "text/plain": [
       "<Figure size 400x400 with 1 Axes>"
      ]
     },
     "metadata": {},
     "output_type": "display_data"
    }
   ],
   "source": [
    "model = LogisticRegression(penalty='l2', C=1.0, solver='liblinear',random_state=42)\n",
    "log = model.fit(tfidf_tr, y_tr)\n",
    "y_pr_log_val = log.predict(tfidf_val)\n",
    "get_metrics(tfidf_val, y_val, y_pr_log_val, log)\n",
    "get_confusion(y_val,y_pr_log_val)"
   ]
  },
  {
   "attachments": {},
   "cell_type": "markdown",
   "metadata": {},
   "source": [
    "## Support Vector Machine"
   ]
  },
  {
   "cell_type": "code",
   "execution_count": 48,
   "metadata": {},
   "outputs": [
    {
     "name": "stdout",
     "output_type": "stream",
     "text": [
      "Accuracy:  0.9469087172461038\n",
      "F1:  0.9446428571428571\n",
      "Recall:  0.9059770508648741\n",
      "Precision:  0.9867562022010818\n"
     ]
    },
    {
     "data": {
      "image/png": "[encoded data removed]",
      "text/plain": [
       "<Figure size 400x400 with 1 Axes>"
      ]
     },
     "metadata": {},
     "output_type": "display_data"
    }
   ],
   "source": [
    "svc = svm.LinearSVC(random_state=42).fit(tfidf_tr, y_tr)\n",
    "y_pr_svc_val = svc.predict(tfidf_val)\n",
    "get_metrics(tfidf_val, y_val, y_pr_svc_val, svc)\n",
    "get_confusion(y_val,y_pr_svc_val)"
   ]
  },
  {
   "attachments": {},
   "cell_type": "markdown",
   "metadata": {},
   "source": [
    "## AdaBoost Classifier"
   ]
  },
  {
   "cell_type": "code",
   "execution_count": 49,
   "metadata": {},
   "outputs": [
    {
     "name": "stdout",
     "output_type": "stream",
     "text": [
      "Accuracy:  0.8534851858194896\n",
      "F1:  0.8564717725023069\n",
      "Recall:  0.8742935434149683\n",
      "Precision:  0.8393620519565932\n"
     ]
    },
    {
     "data": {
      "image/png": "[encoded data removed]",
      "text/plain": [
       "<Figure size 400x400 with 1 Axes>"
      ]
     },
     "metadata": {},
     "output_type": "display_data"
    }
   ],
   "source": [
    "abc = AdaBoostClassifier(\n",
    "    DecisionTreeClassifier(max_depth=1),\n",
    "    n_estimators=200,\n",
    "    random_state=42\n",
    "    ).fit(tfidf_tr, y_tr)\n",
    "y_pr_abc_val = abc.predict(tfidf_val)\n",
    "y_pr_svc_val\n",
    "get_metrics(tfidf_val, y_val, y_pr_abc_val, abc)\n",
    "get_confusion(y_val,y_pr_abc_val)"
   ]
  },
  {
   "attachments": {},
   "cell_type": "markdown",
   "metadata": {},
   "source": [
    "## Gradient Boosting"
   ]
  },
  {
   "cell_type": "code",
   "execution_count": 50,
   "metadata": {},
   "outputs": [
    {
     "name": "stdout",
     "output_type": "stream",
     "text": [
      "Accuracy:  0.827967117657133\n",
      "F1:  0.8336231884057972\n",
      "Recall:  0.8619626648398698\n",
      "Precision:  0.8070878768441309\n"
     ]
    },
    {
     "data": {
      "image/png": "[encoded data removed]",
      "text/plain": [
       "<Figure size 400x400 with 1 Axes>"
      ]
     },
     "metadata": {},
     "output_type": "display_data"
    }
   ],
   "source": [
    "gbc = GradientBoostingClassifier(random_state=42).fit(tfidf_tr, y_tr)\n",
    "y_pr_gbc_val = gbc.predict(tfidf_val)\n",
    "get_metrics(tfidf_val, y_val, y_pr_gbc_val, gbc)\n",
    "get_confusion(y_val,y_pr_gbc_val)"
   ]
  },
  {
   "attachments": {},
   "cell_type": "markdown",
   "metadata": {},
   "source": [
    "## Metrics Dataframe"
   ]
  },
  {
   "cell_type": "code",
   "execution_count": 51,
   "metadata": {},
   "outputs": [],
   "source": [
    "data = {'Accuracy': [accuracy_score(y_val, y_pr_nb_val), \n",
    "                     accuracy_score(y_val, y_pr_rf_val), \n",
    "                     accuracy_score(y_val, y_pr_log_val), \n",
    "                     accuracy_score(y_val, y_pr_svc_val),\n",
    "                     accuracy_score(y_val, y_pr_abc_val),\n",
    "                     accuracy_score(y_val, y_pr_gbc_val)],\n",
    "        'F1 Score': [f1_score(y_val, y_pr_nb_val), \n",
    "                     f1_score(y_val, y_pr_rf_val), \n",
    "                     f1_score(y_val, y_pr_log_val), \n",
    "                     f1_score(y_val, y_pr_svc_val),\n",
    "                     f1_score(y_val, y_pr_abc_val),\n",
    "                     f1_score(y_val, y_pr_gbc_val)],\n",
    "        'Recall': [recall_score(y_val, y_pr_nb_val), \n",
    "                   recall_score(y_val, y_pr_rf_val), \n",
    "                   recall_score(y_val, y_pr_log_val),\n",
    "                   recall_score(y_val, y_pr_svc_val),\n",
    "                   recall_score(y_val, y_pr_abc_val),\n",
    "                   recall_score(y_val, y_pr_gbc_val)],\n",
    "        'Precision': [precision_score(y_val, y_pr_nb_val), \n",
    "                      precision_score(y_val, y_pr_rf_val), \n",
    "                      precision_score(y_val, y_pr_log_val),\n",
    "                      precision_score(y_val, y_pr_svc_val),\n",
    "                      precision_score(y_val, y_pr_abc_val),\n",
    "                      precision_score(y_val, y_pr_gbc_val)]\n",
    "        }\n",
    "metrics5 = pd.DataFrame(data=data, index = ['Multinomial Naive Bayes', \n",
    "                                            'Random Forest',\n",
    "                                            'Logistic Regression',\n",
    "                                            'Support Vector Machine', \n",
    "                                            'AdaBoost Classifier', \n",
    "                                            'Gradient Boosting Classifier'])"
   ]
  },
  {
   "cell_type": "code",
   "execution_count": 52,
   "metadata": {},
   "outputs": [
    {
     "data": {
      "text/html": [
       "<div>\n",
       "<style scoped>\n",
       "    .dataframe tbody tr th:only-of-type {\n",
       "        vertical-align: middle;\n",
       "    }\n",
       "\n",
       "    .dataframe tbody tr th {\n",
       "        vertical-align: top;\n",
       "    }\n",
       "\n",
       "    .dataframe thead th {\n",
       "        text-align: right;\n",
       "    }\n",
       "</style>\n",
       "<table border=\"1\" class=\"dataframe\">\n",
       "  <thead>\n",
       "    <tr style=\"text-align: right;\">\n",
       "      <th></th>\n",
       "      <th>Accuracy</th>\n",
       "      <th>F1 Score</th>\n",
       "      <th>Recall</th>\n",
       "      <th>Precision</th>\n",
       "    </tr>\n",
       "  </thead>\n",
       "  <tbody>\n",
       "    <tr>\n",
       "      <th>Multinomial Naive Bayes</th>\n",
       "      <td>0.881144</td>\n",
       "      <td>0.873588</td>\n",
       "      <td>0.821374</td>\n",
       "      <td>0.932892</td>\n",
       "    </tr>\n",
       "    <tr>\n",
       "      <th>Random Forest</th>\n",
       "      <td>0.987155</td>\n",
       "      <td>0.987008</td>\n",
       "      <td>0.975852</td>\n",
       "      <td>0.998423</td>\n",
       "    </tr>\n",
       "    <tr>\n",
       "      <th>Logistic Regression</th>\n",
       "      <td>0.927899</td>\n",
       "      <td>0.925539</td>\n",
       "      <td>0.896215</td>\n",
       "      <td>0.956848</td>\n",
       "    </tr>\n",
       "    <tr>\n",
       "      <th>Support Vector Machine</th>\n",
       "      <td>0.946909</td>\n",
       "      <td>0.944643</td>\n",
       "      <td>0.905977</td>\n",
       "      <td>0.986756</td>\n",
       "    </tr>\n",
       "    <tr>\n",
       "      <th>AdaBoost Classifier</th>\n",
       "      <td>0.853485</td>\n",
       "      <td>0.856472</td>\n",
       "      <td>0.874294</td>\n",
       "      <td>0.839362</td>\n",
       "    </tr>\n",
       "    <tr>\n",
       "      <th>Gradient Boosting Classifier</th>\n",
       "      <td>0.827967</td>\n",
       "      <td>0.833623</td>\n",
       "      <td>0.861963</td>\n",
       "      <td>0.807088</td>\n",
       "    </tr>\n",
       "  </tbody>\n",
       "</table>\n",
       "</div>"
      ],
      "text/plain": [
       "                              Accuracy  F1 Score    Recall  Precision\n",
       "Multinomial Naive Bayes       0.881144  0.873588  0.821374   0.932892\n",
       "Random Forest                 0.987155  0.987008  0.975852   0.998423\n",
       "Logistic Regression           0.927899  0.925539  0.896215   0.956848\n",
       "Support Vector Machine        0.946909  0.944643  0.905977   0.986756\n",
       "AdaBoost Classifier           0.853485  0.856472  0.874294   0.839362\n",
       "Gradient Boosting Classifier  0.827967  0.833623  0.861963   0.807088"
      ]
     },
     "execution_count": 52,
     "metadata": {},
     "output_type": "execute_result"
    }
   ],
   "source": [
    "metrics5"
   ]
  },
  {
   "cell_type": "code",
   "execution_count": 53,
   "metadata": {},
   "outputs": [],
   "source": [
    "pkl_filename = \"pickle_model.pkl\"\n",
    "with open(pkl_filename, 'wb') as file:\n",
    "    pickle.dump(nb, file)\n"
   ]
  },
  {
   "attachments": {},
   "cell_type": "markdown",
   "metadata": {},
   "source": [
    "# Hyperparameters Tuning"
   ]
  },
  {
   "attachments": {},
   "cell_type": "markdown",
   "metadata": {},
   "source": [
    "## Logistic Regression"
   ]
  },
  {
   "cell_type": "code",
   "execution_count": 76,
   "metadata": {},
   "outputs": [
    {
     "name": "stdout",
     "output_type": "stream",
     "text": [
      "Fitting 10 folds for each of 75 candidates, totalling 750 fits\n",
      "Best: 0.960974 using {'C': 10, 'penalty': 'l1', 'solver': 'liblinear'}\n"
     ]
    }
   ],
   "source": [
    "# logreg = LogisticRegression(random_state=42)\n",
    "logreg=model\n",
    "params = {'C': [0.001, 0.01, 0.1, 1, 10], \n",
    "          'penalty': ['l1', 'l2', 'elasticnet'],\n",
    "          'solver': ['liblinear', 'newton-cg', 'lbfgs', 'sag', 'saga']}\n",
    "gslog = GridSearchCV(estimator = logreg,\n",
    "                     param_grid = params,\n",
    "                     cv = 10,\n",
    "                     n_jobs = -1, \n",
    "                     verbose=3).fit(tfidf_tr, y_tr)\n",
    "y_pred_gslog = gslog.predict(tfidf_val)\n",
    "print(\"Best: %f using %s\" % (gslog.best_score_, gslog.best_params_))"
   ]
  },
  {
   "cell_type": "code",
   "execution_count": 77,
   "metadata": {},
   "outputs": [
    {
     "name": "stdout",
     "output_type": "stream",
     "text": [
      "Accuracy:  0.9546155163555403\n",
      "F1:  0.9528133903133902\n",
      "Recall:  0.9164240452132214\n",
      "Precision:  0.9922121268310773\n"
     ]
    },
    {
     "data": {
      "image/png": "[encoded data removed]",
      "text/plain": [
       "<Figure size 400x400 with 1 Axes>"
      ]
     },
     "metadata": {},
     "output_type": "display_data"
    }
   ],
   "source": [
    "get_metrics(tfidf_val, y_val, y_pred_gslog, gslog)\n",
    "get_confusion(y_val, y_pred_gslog)\n"
   ]
  },
  {
   "cell_type": "code",
   "execution_count": 98,
   "metadata": {},
   "outputs": [
    {
     "name": "stdout",
     "output_type": "stream",
     "text": [
      "Accuracy:  0.9493063880801507\n",
      "F1:  0.9472370766488414\n",
      "Recall:  0.9100873437232403\n",
      "Precision:  0.9875487827541349\n"
     ]
    },
    {
     "data": {
      "image/png": "[encoded data removed]",
      "text/plain": [
       "<Figure size 400x400 with 1 Axes>"
      ]
     },
     "metadata": {},
     "output_type": "display_data"
    }
   ],
   "source": [
    "log_best = LogisticRegression(random_state=42, \n",
    "                              C=10, \n",
    "                              penalty='l2', \n",
    "                              solver='lbfgs').fit(tfidf_tr, y_tr)\n",
    "y_pred_log_best = log_best.predict(tfidf_val)\n",
    "get_metrics(tfidf_val, y_val, y_pred_log_best, log_best)\n",
    "get_confusion(y_val, y_pred_log_best)"
   ]
  },
  {
   "cell_type": "code",
   "execution_count": 97,
   "metadata": {},
   "outputs": [
    {
     "data": {
      "text/plain": [
       "array(['home fag feel like puttin shit today',\n",
       "       'gta onlin today bitch ass nigga',\n",
       "       'u say hoe hoe hoe ewww nasti mean daili spare detail lol', ...,\n",
       "       'said tl gotta chill pretti face challeng foolish hoe agg',\n",
       "       'good morn lightskin dyke bitch steven segal ponytail',\n",
       "       'bitch shut fuck goddam slut bitch whore nigga'], dtype=object)"
      ]
     },
     "execution_count": 97,
     "metadata": {},
     "output_type": "execute_result"
    }
   ],
   "source": [
    "# y_new=y_pred_log_best\n",
    "# y_pred_log_best.shape\n",
    "# y_new=y_new.reshape(y_pred_log_best.shape[0],1)\n",
    "# X_val\n"
   ]
  },
  {
   "cell_type": "code",
   "execution_count": 79,
   "metadata": {},
   "outputs": [],
   "source": [
    "pickle.dump(log_best, open(\"../pickle/log_best.pickle\", \"wb\"))"
   ]
  },
  {
   "cell_type": "code",
   "execution_count": 80,
   "metadata": {},
   "outputs": [],
   "source": [
    "pickle_model = pickle.load(open(\"../pickle/log_best.pickle\", 'rb'))"
   ]
  },
  {
   "attachments": {},
   "cell_type": "markdown",
   "metadata": {},
   "source": [
    "## Random Forest Classifier"
   ]
  },
  {
   "cell_type": "code",
   "execution_count": null,
   "metadata": {},
   "outputs": [
    {
     "name": "stdout",
     "output_type": "stream",
     "text": [
      "Fitting 5 folds for each of 4 candidates, totalling 20 fits\n",
      "Best: 0.904793 using {'n_estimators': 1000}\n"
     ]
    }
   ],
   "source": [
    "rfc = RandomForestClassifier(random_state=42)\n",
    "params = {'n_estimators': [500, 1000, 2000, 5000]}\n",
    "gsrfc = GridSearchCV(estimator = rfc,\n",
    "                     param_grid = params,\n",
    "                     cv = 5,\n",
    "                     n_jobs = -1,\n",
    "                     verbose=2).fit(tfidf_tr, y_tr)\n",
    "y_pred_gsrfc = gsrfc.predict(tfidf_val)\n",
    "print(\"Best: %f using %s\" % (gsrfc.best_score_, gsrfc.best_params_))"
   ]
  },
  {
   "cell_type": "code",
   "execution_count": null,
   "metadata": {},
   "outputs": [],
   "source": [
    "rfc = RandomForestClassifier(random_state=42)\n",
    "params = {'n_estimators': [50, 100, 200, 400, 600, 800, 1000]}\n",
    "gsrfc = GridSearchCV(estimator = rfc,\n",
    "                     param_grid = params,\n",
    "                     cv = 5,\n",
    "                     n_jobs = -1,\n",
    "                     verbose=2).fit(tfidf_tr, y_tr)\n",
    "y_pred_gsrfc = gsrfc.predict(tfidf_val)\n",
    "print(\"Best: %f using %s\" % (gsrfc.best_score_, gsrfc.best_params_))"
   ]
  },
  {
   "cell_type": "code",
   "execution_count": null,
   "metadata": {},
   "outputs": [
    {
     "name": "stdout",
     "output_type": "stream",
     "text": [
      "Fitting 5 folds for each of 3 candidates, totalling 15 fits\n",
      "Best: 0.904793 using {'max_depth': 1500, 'min_samples_leaf': 1, 'n_estimators': 1000}\n"
     ]
    }
   ],
   "source": [
    "rfc = RandomForestClassifier(random_state=42)\n",
    "params = {'n_estimators': [1000],\n",
    "          'max_depth': [1500],\n",
    "          'min_samples_leaf': [1, 2, 4]\n",
    "         }\n",
    "gsrfc = GridSearchCV(estimator = rfc,\n",
    "                     param_grid = params,\n",
    "                     cv = 5,\n",
    "                     n_jobs = -1,\n",
    "                     verbose=2).fit(tfidf_tr, y_tr)\n",
    "y_pred_gsrfc = gsrfc.predict(tfidf_val)\n",
    "print(\"Best: %f using %s\" % (gsrfc.best_score_, gsrfc.best_params_))"
   ]
  },
  {
   "cell_type": "code",
   "execution_count": null,
   "metadata": {},
   "outputs": [
    {
     "name": "stdout",
     "output_type": "stream",
     "text": [
      "Fitting 5 folds for each of 3 candidates, totalling 15 fits\n",
      "Best: 0.905276 using {'max_depth': 1500, 'min_samples_leaf': 1, 'min_samples_split': 5, 'n_estimators': 1000}\n"
     ]
    }
   ],
   "source": [
    "rfc = RandomForestClassifier(random_state=42)\n",
    "params = {'n_estimators': [1000],\n",
    "          'max_depth': [1500],\n",
    "          'min_samples_leaf': [1],\n",
    "          'min_samples_split': [2, 5, 10]\n",
    "         }\n",
    "gsrfc = GridSearchCV(estimator = rfc,\n",
    "                     param_grid = params,\n",
    "                     cv = 5,\n",
    "                     n_jobs = -1,\n",
    "                     verbose=2).fit(tfidf_tr, y_tr)\n",
    "y_pred_gsrfc = gsrfc.predict(tfidf_val)\n",
    "print(\"Best: %f using %s\" % (gsrfc.best_score_, gsrfc.best_params_))"
   ]
  },
  {
   "cell_type": "code",
   "execution_count": null,
   "metadata": {},
   "outputs": [],
   "source": [
    "rfc_best = RandomForestClassifier(random_state=42, \n",
    "                                  max_depth=1500, \n",
    "                                  min_samples_leaf=1,\n",
    "                                  min_samples_split=5, \n",
    "                                  n_estimators=1000).fit(tfidf_tr, y_tr)\n",
    "y_pred_rfc_best = rfc_best.predict(tfidf_val)"
   ]
  },
  {
   "cell_type": "code",
   "execution_count": null,
   "metadata": {},
   "outputs": [
    {
     "name": "stdout",
     "output_type": "stream",
     "text": [
      "Accuracy:  0.9106868553873162\n",
      "F1 Score:  0.7859021567596002\n",
      "ROC-AUC:  0.943451560359486\n",
      "Recall:  0.7087286527514232\n",
      "Precision:  0.8819362455726092\n",
      "PR-AUC:  0.8864726247951304\n"
     ]
    },
    {
     "data": {
      "image/png": "[encoded data removed]",
      "text/plain": [
       "<Figure size 288x288 with 1 Axes>"
      ]
     },
     "metadata": {},
     "output_type": "display_data"
    }
   ],
   "source": [
    "get_metrics(tfidf_val, y_val, y_pred_rfc_best, rfc_best)\n",
    "get_confusion(y_val,y_pred_rfc_best)"
   ]
  },
  {
   "attachments": {},
   "cell_type": "markdown",
   "metadata": {},
   "source": [
    "## Support Vector Machine"
   ]
  },
  {
   "cell_type": "code",
   "execution_count": 47,
   "metadata": {},
   "outputs": [
    {
     "name": "stdout",
     "output_type": "stream",
     "text": [
      "Fitting 5 folds for each of 4 candidates, totalling 20 fits\n"
     ]
    },
    {
     "ename": "KeyboardInterrupt",
     "evalue": "",
     "output_type": "error",
     "traceback": [
      "\u001b[1;31m---------------------------------------------------------------------------\u001b[0m",
      "\u001b[1;31mKeyboardInterrupt\u001b[0m                         Traceback (most recent call last)",
      "\u001b[1;32mc:\\Users\\SRISHTI\\OneDrive\\Desktop\\MachineLearning\\Hate_Speech_Detection\\notebooks\\balanced_modeling.ipynb Cell 66\u001b[0m in \u001b[0;36m8\n\u001b[0;32m      <a href='vscode-notebook-cell:/c%3A/Users/SRISHTI/OneDrive/Desktop/MachineLearning/Hate_Speech_Detection/notebooks/balanced_modeling.ipynb#Y124sZmlsZQ%3D%3D?line=2'>3</a>\u001b[0m params_grid \u001b[39m=\u001b[39m {\u001b[39m'\u001b[39m\u001b[39mC\u001b[39m\u001b[39m'\u001b[39m: [\u001b[39m0.1\u001b[39m, \u001b[39m1\u001b[39m, \u001b[39m10\u001b[39m, \u001b[39m100\u001b[39m]}\n\u001b[0;32m      <a href='vscode-notebook-cell:/c%3A/Users/SRISHTI/OneDrive/Desktop/MachineLearning/Hate_Speech_Detection/notebooks/balanced_modeling.ipynb#Y124sZmlsZQ%3D%3D?line=3'>4</a>\u001b[0m gssvm \u001b[39m=\u001b[39m GridSearchCV(SVC(),\n\u001b[0;32m      <a href='vscode-notebook-cell:/c%3A/Users/SRISHTI/OneDrive/Desktop/MachineLearning/Hate_Speech_Detection/notebooks/balanced_modeling.ipynb#Y124sZmlsZQ%3D%3D?line=4'>5</a>\u001b[0m                      params_grid,\n\u001b[0;32m      <a href='vscode-notebook-cell:/c%3A/Users/SRISHTI/OneDrive/Desktop/MachineLearning/Hate_Speech_Detection/notebooks/balanced_modeling.ipynb#Y124sZmlsZQ%3D%3D?line=5'>6</a>\u001b[0m                      refit \u001b[39m=\u001b[39m \u001b[39mTrue\u001b[39;00m,\n\u001b[0;32m      <a href='vscode-notebook-cell:/c%3A/Users/SRISHTI/OneDrive/Desktop/MachineLearning/Hate_Speech_Detection/notebooks/balanced_modeling.ipynb#Y124sZmlsZQ%3D%3D?line=6'>7</a>\u001b[0m                      verbose \u001b[39m=\u001b[39m \u001b[39m1\u001b[39m)\n\u001b[1;32m----> <a href='vscode-notebook-cell:/c%3A/Users/SRISHTI/OneDrive/Desktop/MachineLearning/Hate_Speech_Detection/notebooks/balanced_modeling.ipynb#Y124sZmlsZQ%3D%3D?line=7'>8</a>\u001b[0m gssvm\u001b[39m.\u001b[39;49mfit(tfidf_tr, y_tr)\n\u001b[0;32m      <a href='vscode-notebook-cell:/c%3A/Users/SRISHTI/OneDrive/Desktop/MachineLearning/Hate_Speech_Detection/notebooks/balanced_modeling.ipynb#Y124sZmlsZQ%3D%3D?line=8'>9</a>\u001b[0m y_pred_gssvm \u001b[39m=\u001b[39m gssvm\u001b[39m.\u001b[39mpredict(tfidf_val)  \n\u001b[0;32m     <a href='vscode-notebook-cell:/c%3A/Users/SRISHTI/OneDrive/Desktop/MachineLearning/Hate_Speech_Detection/notebooks/balanced_modeling.ipynb#Y124sZmlsZQ%3D%3D?line=9'>10</a>\u001b[0m \u001b[39mprint\u001b[39m(\u001b[39m\"\u001b[39m\u001b[39mBest: \u001b[39m\u001b[39m%f\u001b[39;00m\u001b[39m using \u001b[39m\u001b[39m%s\u001b[39;00m\u001b[39m\"\u001b[39m \u001b[39m%\u001b[39m (gssvm\u001b[39m.\u001b[39mbest_score_, gssvm\u001b[39m.\u001b[39mbest_params_))\n",
      "File \u001b[1;32m~\\AppData\\Local\\Packages\\PythonSoftwareFoundation.Python.3.9_qbz5n2kfra8p0\\LocalCache\\local-packages\\Python39\\site-packages\\sklearn\\model_selection\\_search.py:875\u001b[0m, in \u001b[0;36mBaseSearchCV.fit\u001b[1;34m(self, X, y, groups, **fit_params)\u001b[0m\n\u001b[0;32m    869\u001b[0m     results \u001b[39m=\u001b[39m \u001b[39mself\u001b[39m\u001b[39m.\u001b[39m_format_results(\n\u001b[0;32m    870\u001b[0m         all_candidate_params, n_splits, all_out, all_more_results\n\u001b[0;32m    871\u001b[0m     )\n\u001b[0;32m    873\u001b[0m     \u001b[39mreturn\u001b[39;00m results\n\u001b[1;32m--> 875\u001b[0m \u001b[39mself\u001b[39;49m\u001b[39m.\u001b[39;49m_run_search(evaluate_candidates)\n\u001b[0;32m    877\u001b[0m \u001b[39m# multimetric is determined here because in the case of a callable\u001b[39;00m\n\u001b[0;32m    878\u001b[0m \u001b[39m# self.scoring the return type is only known after calling\u001b[39;00m\n\u001b[0;32m    879\u001b[0m first_test_score \u001b[39m=\u001b[39m all_out[\u001b[39m0\u001b[39m][\u001b[39m\"\u001b[39m\u001b[39mtest_scores\u001b[39m\u001b[39m\"\u001b[39m]\n",
      "File \u001b[1;32m~\\AppData\\Local\\Packages\\PythonSoftwareFoundation.Python.3.9_qbz5n2kfra8p0\\LocalCache\\local-packages\\Python39\\site-packages\\sklearn\\model_selection\\_search.py:1379\u001b[0m, in \u001b[0;36mGridSearchCV._run_search\u001b[1;34m(self, evaluate_candidates)\u001b[0m\n\u001b[0;32m   1377\u001b[0m \u001b[39mdef\u001b[39;00m \u001b[39m_run_search\u001b[39m(\u001b[39mself\u001b[39m, evaluate_candidates):\n\u001b[0;32m   1378\u001b[0m     \u001b[39m\"\"\"Search all candidates in param_grid\"\"\"\u001b[39;00m\n\u001b[1;32m-> 1379\u001b[0m     evaluate_candidates(ParameterGrid(\u001b[39mself\u001b[39;49m\u001b[39m.\u001b[39;49mparam_grid))\n",
      "File \u001b[1;32m~\\AppData\\Local\\Packages\\PythonSoftwareFoundation.Python.3.9_qbz5n2kfra8p0\\LocalCache\\local-packages\\Python39\\site-packages\\sklearn\\model_selection\\_search.py:822\u001b[0m, in \u001b[0;36mBaseSearchCV.fit.<locals>.evaluate_candidates\u001b[1;34m(candidate_params, cv, more_results)\u001b[0m\n\u001b[0;32m    814\u001b[0m \u001b[39mif\u001b[39;00m \u001b[39mself\u001b[39m\u001b[39m.\u001b[39mverbose \u001b[39m>\u001b[39m \u001b[39m0\u001b[39m:\n\u001b[0;32m    815\u001b[0m     \u001b[39mprint\u001b[39m(\n\u001b[0;32m    816\u001b[0m         \u001b[39m\"\u001b[39m\u001b[39mFitting \u001b[39m\u001b[39m{0}\u001b[39;00m\u001b[39m folds for each of \u001b[39m\u001b[39m{1}\u001b[39;00m\u001b[39m candidates,\u001b[39m\u001b[39m\"\u001b[39m\n\u001b[0;32m    817\u001b[0m         \u001b[39m\"\u001b[39m\u001b[39m totalling \u001b[39m\u001b[39m{2}\u001b[39;00m\u001b[39m fits\u001b[39m\u001b[39m\"\u001b[39m\u001b[39m.\u001b[39mformat(\n\u001b[0;32m    818\u001b[0m             n_splits, n_candidates, n_candidates \u001b[39m*\u001b[39m n_splits\n\u001b[0;32m    819\u001b[0m         )\n\u001b[0;32m    820\u001b[0m     )\n\u001b[1;32m--> 822\u001b[0m out \u001b[39m=\u001b[39m parallel(\n\u001b[0;32m    823\u001b[0m     delayed(_fit_and_score)(\n\u001b[0;32m    824\u001b[0m         clone(base_estimator),\n\u001b[0;32m    825\u001b[0m         X,\n\u001b[0;32m    826\u001b[0m         y,\n\u001b[0;32m    827\u001b[0m         train\u001b[39m=\u001b[39;49mtrain,\n\u001b[0;32m    828\u001b[0m         test\u001b[39m=\u001b[39;49mtest,\n\u001b[0;32m    829\u001b[0m         parameters\u001b[39m=\u001b[39;49mparameters,\n\u001b[0;32m    830\u001b[0m         split_progress\u001b[39m=\u001b[39;49m(split_idx, n_splits),\n\u001b[0;32m    831\u001b[0m         candidate_progress\u001b[39m=\u001b[39;49m(cand_idx, n_candidates),\n\u001b[0;32m    832\u001b[0m         \u001b[39m*\u001b[39;49m\u001b[39m*\u001b[39;49mfit_and_score_kwargs,\n\u001b[0;32m    833\u001b[0m     )\n\u001b[0;32m    834\u001b[0m     \u001b[39mfor\u001b[39;49;00m (cand_idx, parameters), (split_idx, (train, test)) \u001b[39min\u001b[39;49;00m product(\n\u001b[0;32m    835\u001b[0m         \u001b[39menumerate\u001b[39;49m(candidate_params), \u001b[39menumerate\u001b[39;49m(cv\u001b[39m.\u001b[39;49msplit(X, y, groups))\n\u001b[0;32m    836\u001b[0m     )\n\u001b[0;32m    837\u001b[0m )\n\u001b[0;32m    839\u001b[0m \u001b[39mif\u001b[39;00m \u001b[39mlen\u001b[39m(out) \u001b[39m<\u001b[39m \u001b[39m1\u001b[39m:\n\u001b[0;32m    840\u001b[0m     \u001b[39mraise\u001b[39;00m \u001b[39mValueError\u001b[39;00m(\n\u001b[0;32m    841\u001b[0m         \u001b[39m\"\u001b[39m\u001b[39mNo fits were performed. \u001b[39m\u001b[39m\"\u001b[39m\n\u001b[0;32m    842\u001b[0m         \u001b[39m\"\u001b[39m\u001b[39mWas the CV iterator empty? \u001b[39m\u001b[39m\"\u001b[39m\n\u001b[0;32m    843\u001b[0m         \u001b[39m\"\u001b[39m\u001b[39mWere there no candidates?\u001b[39m\u001b[39m\"\u001b[39m\n\u001b[0;32m    844\u001b[0m     )\n",
      "File \u001b[1;32m~\\AppData\\Local\\Packages\\PythonSoftwareFoundation.Python.3.9_qbz5n2kfra8p0\\LocalCache\\local-packages\\Python39\\site-packages\\joblib\\parallel.py:1088\u001b[0m, in \u001b[0;36mParallel.__call__\u001b[1;34m(self, iterable)\u001b[0m\n\u001b[0;32m   1085\u001b[0m \u001b[39mif\u001b[39;00m \u001b[39mself\u001b[39m\u001b[39m.\u001b[39mdispatch_one_batch(iterator):\n\u001b[0;32m   1086\u001b[0m     \u001b[39mself\u001b[39m\u001b[39m.\u001b[39m_iterating \u001b[39m=\u001b[39m \u001b[39mself\u001b[39m\u001b[39m.\u001b[39m_original_iterator \u001b[39mis\u001b[39;00m \u001b[39mnot\u001b[39;00m \u001b[39mNone\u001b[39;00m\n\u001b[1;32m-> 1088\u001b[0m \u001b[39mwhile\u001b[39;00m \u001b[39mself\u001b[39;49m\u001b[39m.\u001b[39;49mdispatch_one_batch(iterator):\n\u001b[0;32m   1089\u001b[0m     \u001b[39mpass\u001b[39;00m\n\u001b[0;32m   1091\u001b[0m \u001b[39mif\u001b[39;00m pre_dispatch \u001b[39m==\u001b[39m \u001b[39m\"\u001b[39m\u001b[39mall\u001b[39m\u001b[39m\"\u001b[39m \u001b[39mor\u001b[39;00m n_jobs \u001b[39m==\u001b[39m \u001b[39m1\u001b[39m:\n\u001b[0;32m   1092\u001b[0m     \u001b[39m# The iterable was consumed all at once by the above for loop.\u001b[39;00m\n\u001b[0;32m   1093\u001b[0m     \u001b[39m# No need to wait for async callbacks to trigger to\u001b[39;00m\n\u001b[0;32m   1094\u001b[0m     \u001b[39m# consumption.\u001b[39;00m\n",
      "File \u001b[1;32m~\\AppData\\Local\\Packages\\PythonSoftwareFoundation.Python.3.9_qbz5n2kfra8p0\\LocalCache\\local-packages\\Python39\\site-packages\\joblib\\parallel.py:901\u001b[0m, in \u001b[0;36mParallel.dispatch_one_batch\u001b[1;34m(self, iterator)\u001b[0m\n\u001b[0;32m    899\u001b[0m     \u001b[39mreturn\u001b[39;00m \u001b[39mFalse\u001b[39;00m\n\u001b[0;32m    900\u001b[0m \u001b[39melse\u001b[39;00m:\n\u001b[1;32m--> 901\u001b[0m     \u001b[39mself\u001b[39;49m\u001b[39m.\u001b[39;49m_dispatch(tasks)\n\u001b[0;32m    902\u001b[0m     \u001b[39mreturn\u001b[39;00m \u001b[39mTrue\u001b[39;00m\n",
      "File \u001b[1;32m~\\AppData\\Local\\Packages\\PythonSoftwareFoundation.Python.3.9_qbz5n2kfra8p0\\LocalCache\\local-packages\\Python39\\site-packages\\joblib\\parallel.py:819\u001b[0m, in \u001b[0;36mParallel._dispatch\u001b[1;34m(self, batch)\u001b[0m\n\u001b[0;32m    817\u001b[0m \u001b[39mwith\u001b[39;00m \u001b[39mself\u001b[39m\u001b[39m.\u001b[39m_lock:\n\u001b[0;32m    818\u001b[0m     job_idx \u001b[39m=\u001b[39m \u001b[39mlen\u001b[39m(\u001b[39mself\u001b[39m\u001b[39m.\u001b[39m_jobs)\n\u001b[1;32m--> 819\u001b[0m     job \u001b[39m=\u001b[39m \u001b[39mself\u001b[39;49m\u001b[39m.\u001b[39;49m_backend\u001b[39m.\u001b[39;49mapply_async(batch, callback\u001b[39m=\u001b[39;49mcb)\n\u001b[0;32m    820\u001b[0m     \u001b[39m# A job can complete so quickly than its callback is\u001b[39;00m\n\u001b[0;32m    821\u001b[0m     \u001b[39m# called before we get here, causing self._jobs to\u001b[39;00m\n\u001b[0;32m    822\u001b[0m     \u001b[39m# grow. To ensure correct results ordering, .insert is\u001b[39;00m\n\u001b[0;32m    823\u001b[0m     \u001b[39m# used (rather than .append) in the following line\u001b[39;00m\n\u001b[0;32m    824\u001b[0m     \u001b[39mself\u001b[39m\u001b[39m.\u001b[39m_jobs\u001b[39m.\u001b[39minsert(job_idx, job)\n",
      "File \u001b[1;32m~\\AppData\\Local\\Packages\\PythonSoftwareFoundation.Python.3.9_qbz5n2kfra8p0\\LocalCache\\local-packages\\Python39\\site-packages\\joblib\\_parallel_backends.py:208\u001b[0m, in \u001b[0;36mSequentialBackend.apply_async\u001b[1;34m(self, func, callback)\u001b[0m\n\u001b[0;32m    206\u001b[0m \u001b[39mdef\u001b[39;00m \u001b[39mapply_async\u001b[39m(\u001b[39mself\u001b[39m, func, callback\u001b[39m=\u001b[39m\u001b[39mNone\u001b[39;00m):\n\u001b[0;32m    207\u001b[0m     \u001b[39m\"\"\"Schedule a func to be run\"\"\"\u001b[39;00m\n\u001b[1;32m--> 208\u001b[0m     result \u001b[39m=\u001b[39m ImmediateResult(func)\n\u001b[0;32m    209\u001b[0m     \u001b[39mif\u001b[39;00m callback:\n\u001b[0;32m    210\u001b[0m         callback(result)\n",
      "File \u001b[1;32m~\\AppData\\Local\\Packages\\PythonSoftwareFoundation.Python.3.9_qbz5n2kfra8p0\\LocalCache\\local-packages\\Python39\\site-packages\\joblib\\_parallel_backends.py:597\u001b[0m, in \u001b[0;36mImmediateResult.__init__\u001b[1;34m(self, batch)\u001b[0m\n\u001b[0;32m    594\u001b[0m \u001b[39mdef\u001b[39;00m \u001b[39m__init__\u001b[39m(\u001b[39mself\u001b[39m, batch):\n\u001b[0;32m    595\u001b[0m     \u001b[39m# Don't delay the application, to avoid keeping the input\u001b[39;00m\n\u001b[0;32m    596\u001b[0m     \u001b[39m# arguments in memory\u001b[39;00m\n\u001b[1;32m--> 597\u001b[0m     \u001b[39mself\u001b[39m\u001b[39m.\u001b[39mresults \u001b[39m=\u001b[39m batch()\n",
      "File \u001b[1;32m~\\AppData\\Local\\Packages\\PythonSoftwareFoundation.Python.3.9_qbz5n2kfra8p0\\LocalCache\\local-packages\\Python39\\site-packages\\joblib\\parallel.py:288\u001b[0m, in \u001b[0;36mBatchedCalls.__call__\u001b[1;34m(self)\u001b[0m\n\u001b[0;32m    284\u001b[0m \u001b[39mdef\u001b[39;00m \u001b[39m__call__\u001b[39m(\u001b[39mself\u001b[39m):\n\u001b[0;32m    285\u001b[0m     \u001b[39m# Set the default nested backend to self._backend but do not set the\u001b[39;00m\n\u001b[0;32m    286\u001b[0m     \u001b[39m# change the default number of processes to -1\u001b[39;00m\n\u001b[0;32m    287\u001b[0m     \u001b[39mwith\u001b[39;00m parallel_backend(\u001b[39mself\u001b[39m\u001b[39m.\u001b[39m_backend, n_jobs\u001b[39m=\u001b[39m\u001b[39mself\u001b[39m\u001b[39m.\u001b[39m_n_jobs):\n\u001b[1;32m--> 288\u001b[0m         \u001b[39mreturn\u001b[39;00m [func(\u001b[39m*\u001b[39margs, \u001b[39m*\u001b[39m\u001b[39m*\u001b[39mkwargs)\n\u001b[0;32m    289\u001b[0m                 \u001b[39mfor\u001b[39;00m func, args, kwargs \u001b[39min\u001b[39;00m \u001b[39mself\u001b[39m\u001b[39m.\u001b[39mitems]\n",
      "File \u001b[1;32m~\\AppData\\Local\\Packages\\PythonSoftwareFoundation.Python.3.9_qbz5n2kfra8p0\\LocalCache\\local-packages\\Python39\\site-packages\\joblib\\parallel.py:288\u001b[0m, in \u001b[0;36m<listcomp>\u001b[1;34m(.0)\u001b[0m\n\u001b[0;32m    284\u001b[0m \u001b[39mdef\u001b[39;00m \u001b[39m__call__\u001b[39m(\u001b[39mself\u001b[39m):\n\u001b[0;32m    285\u001b[0m     \u001b[39m# Set the default nested backend to self._backend but do not set the\u001b[39;00m\n\u001b[0;32m    286\u001b[0m     \u001b[39m# change the default number of processes to -1\u001b[39;00m\n\u001b[0;32m    287\u001b[0m     \u001b[39mwith\u001b[39;00m parallel_backend(\u001b[39mself\u001b[39m\u001b[39m.\u001b[39m_backend, n_jobs\u001b[39m=\u001b[39m\u001b[39mself\u001b[39m\u001b[39m.\u001b[39m_n_jobs):\n\u001b[1;32m--> 288\u001b[0m         \u001b[39mreturn\u001b[39;00m [func(\u001b[39m*\u001b[39margs, \u001b[39m*\u001b[39m\u001b[39m*\u001b[39mkwargs)\n\u001b[0;32m    289\u001b[0m                 \u001b[39mfor\u001b[39;00m func, args, kwargs \u001b[39min\u001b[39;00m \u001b[39mself\u001b[39m\u001b[39m.\u001b[39mitems]\n",
      "File \u001b[1;32m~\\AppData\\Local\\Packages\\PythonSoftwareFoundation.Python.3.9_qbz5n2kfra8p0\\LocalCache\\local-packages\\Python39\\site-packages\\sklearn\\utils\\fixes.py:117\u001b[0m, in \u001b[0;36m_FuncWrapper.__call__\u001b[1;34m(self, *args, **kwargs)\u001b[0m\n\u001b[0;32m    115\u001b[0m \u001b[39mdef\u001b[39;00m \u001b[39m__call__\u001b[39m(\u001b[39mself\u001b[39m, \u001b[39m*\u001b[39margs, \u001b[39m*\u001b[39m\u001b[39m*\u001b[39mkwargs):\n\u001b[0;32m    116\u001b[0m     \u001b[39mwith\u001b[39;00m config_context(\u001b[39m*\u001b[39m\u001b[39m*\u001b[39m\u001b[39mself\u001b[39m\u001b[39m.\u001b[39mconfig):\n\u001b[1;32m--> 117\u001b[0m         \u001b[39mreturn\u001b[39;00m \u001b[39mself\u001b[39m\u001b[39m.\u001b[39mfunction(\u001b[39m*\u001b[39margs, \u001b[39m*\u001b[39m\u001b[39m*\u001b[39mkwargs)\n",
      "File \u001b[1;32m~\\AppData\\Local\\Packages\\PythonSoftwareFoundation.Python.3.9_qbz5n2kfra8p0\\LocalCache\\local-packages\\Python39\\site-packages\\sklearn\\model_selection\\_validation.py:708\u001b[0m, in \u001b[0;36m_fit_and_score\u001b[1;34m(estimator, X, y, scorer, train, test, verbose, parameters, fit_params, return_train_score, return_parameters, return_n_test_samples, return_times, return_estimator, split_progress, candidate_progress, error_score)\u001b[0m\n\u001b[0;32m    705\u001b[0m result[\u001b[39m\"\u001b[39m\u001b[39mfit_error\u001b[39m\u001b[39m\"\u001b[39m] \u001b[39m=\u001b[39m \u001b[39mNone\u001b[39;00m\n\u001b[0;32m    707\u001b[0m fit_time \u001b[39m=\u001b[39m time\u001b[39m.\u001b[39mtime() \u001b[39m-\u001b[39m start_time\n\u001b[1;32m--> 708\u001b[0m test_scores \u001b[39m=\u001b[39m _score(estimator, X_test, y_test, scorer, error_score)\n\u001b[0;32m    709\u001b[0m score_time \u001b[39m=\u001b[39m time\u001b[39m.\u001b[39mtime() \u001b[39m-\u001b[39m start_time \u001b[39m-\u001b[39m fit_time\n\u001b[0;32m    710\u001b[0m \u001b[39mif\u001b[39;00m return_train_score:\n",
      "File \u001b[1;32m~\\AppData\\Local\\Packages\\PythonSoftwareFoundation.Python.3.9_qbz5n2kfra8p0\\LocalCache\\local-packages\\Python39\\site-packages\\sklearn\\model_selection\\_validation.py:767\u001b[0m, in \u001b[0;36m_score\u001b[1;34m(estimator, X_test, y_test, scorer, error_score)\u001b[0m\n\u001b[0;32m    765\u001b[0m         scores \u001b[39m=\u001b[39m scorer(estimator, X_test)\n\u001b[0;32m    766\u001b[0m     \u001b[39melse\u001b[39;00m:\n\u001b[1;32m--> 767\u001b[0m         scores \u001b[39m=\u001b[39m scorer(estimator, X_test, y_test)\n\u001b[0;32m    768\u001b[0m \u001b[39mexcept\u001b[39;00m \u001b[39mException\u001b[39;00m:\n\u001b[0;32m    769\u001b[0m     \u001b[39mif\u001b[39;00m error_score \u001b[39m==\u001b[39m \u001b[39m\"\u001b[39m\u001b[39mraise\u001b[39m\u001b[39m\"\u001b[39m:\n",
      "File \u001b[1;32m~\\AppData\\Local\\Packages\\PythonSoftwareFoundation.Python.3.9_qbz5n2kfra8p0\\LocalCache\\local-packages\\Python39\\site-packages\\sklearn\\metrics\\_scorer.py:429\u001b[0m, in \u001b[0;36m_passthrough_scorer\u001b[1;34m(estimator, *args, **kwargs)\u001b[0m\n\u001b[0;32m    427\u001b[0m \u001b[39mdef\u001b[39;00m \u001b[39m_passthrough_scorer\u001b[39m(estimator, \u001b[39m*\u001b[39margs, \u001b[39m*\u001b[39m\u001b[39m*\u001b[39mkwargs):\n\u001b[0;32m    428\u001b[0m     \u001b[39m\"\"\"Function that wraps estimator.score\"\"\"\u001b[39;00m\n\u001b[1;32m--> 429\u001b[0m     \u001b[39mreturn\u001b[39;00m estimator\u001b[39m.\u001b[39mscore(\u001b[39m*\u001b[39margs, \u001b[39m*\u001b[39m\u001b[39m*\u001b[39mkwargs)\n",
      "File \u001b[1;32m~\\AppData\\Local\\Packages\\PythonSoftwareFoundation.Python.3.9_qbz5n2kfra8p0\\LocalCache\\local-packages\\Python39\\site-packages\\sklearn\\base.py:666\u001b[0m, in \u001b[0;36mClassifierMixin.score\u001b[1;34m(self, X, y, sample_weight)\u001b[0m\n\u001b[0;32m    641\u001b[0m \u001b[39m\"\"\"\u001b[39;00m\n\u001b[0;32m    642\u001b[0m \u001b[39mReturn the mean accuracy on the given test data and labels.\u001b[39;00m\n\u001b[0;32m    643\u001b[0m \n\u001b[1;32m   (...)\u001b[0m\n\u001b[0;32m    662\u001b[0m \u001b[39m    Mean accuracy of ``self.predict(X)`` wrt. `y`.\u001b[39;00m\n\u001b[0;32m    663\u001b[0m \u001b[39m\"\"\"\u001b[39;00m\n\u001b[0;32m    664\u001b[0m \u001b[39mfrom\u001b[39;00m \u001b[39m.\u001b[39;00m\u001b[39mmetrics\u001b[39;00m \u001b[39mimport\u001b[39;00m accuracy_score\n\u001b[1;32m--> 666\u001b[0m \u001b[39mreturn\u001b[39;00m accuracy_score(y, \u001b[39mself\u001b[39;49m\u001b[39m.\u001b[39;49mpredict(X), sample_weight\u001b[39m=\u001b[39msample_weight)\n",
      "File \u001b[1;32m~\\AppData\\Local\\Packages\\PythonSoftwareFoundation.Python.3.9_qbz5n2kfra8p0\\LocalCache\\local-packages\\Python39\\site-packages\\sklearn\\svm\\_base.py:810\u001b[0m, in \u001b[0;36mBaseSVC.predict\u001b[1;34m(self, X)\u001b[0m\n\u001b[0;32m    808\u001b[0m     y \u001b[39m=\u001b[39m np\u001b[39m.\u001b[39margmax(\u001b[39mself\u001b[39m\u001b[39m.\u001b[39mdecision_function(X), axis\u001b[39m=\u001b[39m\u001b[39m1\u001b[39m)\n\u001b[0;32m    809\u001b[0m \u001b[39melse\u001b[39;00m:\n\u001b[1;32m--> 810\u001b[0m     y \u001b[39m=\u001b[39m \u001b[39msuper\u001b[39;49m()\u001b[39m.\u001b[39;49mpredict(X)\n\u001b[0;32m    811\u001b[0m \u001b[39mreturn\u001b[39;00m \u001b[39mself\u001b[39m\u001b[39m.\u001b[39mclasses_\u001b[39m.\u001b[39mtake(np\u001b[39m.\u001b[39masarray(y, dtype\u001b[39m=\u001b[39mnp\u001b[39m.\u001b[39mintp))\n",
      "File \u001b[1;32m~\\AppData\\Local\\Packages\\PythonSoftwareFoundation.Python.3.9_qbz5n2kfra8p0\\LocalCache\\local-packages\\Python39\\site-packages\\sklearn\\svm\\_base.py:435\u001b[0m, in \u001b[0;36mBaseLibSVM.predict\u001b[1;34m(self, X)\u001b[0m\n\u001b[0;32m    433\u001b[0m X \u001b[39m=\u001b[39m \u001b[39mself\u001b[39m\u001b[39m.\u001b[39m_validate_for_predict(X)\n\u001b[0;32m    434\u001b[0m predict \u001b[39m=\u001b[39m \u001b[39mself\u001b[39m\u001b[39m.\u001b[39m_sparse_predict \u001b[39mif\u001b[39;00m \u001b[39mself\u001b[39m\u001b[39m.\u001b[39m_sparse \u001b[39melse\u001b[39;00m \u001b[39mself\u001b[39m\u001b[39m.\u001b[39m_dense_predict\n\u001b[1;32m--> 435\u001b[0m \u001b[39mreturn\u001b[39;00m predict(X)\n",
      "File \u001b[1;32m~\\AppData\\Local\\Packages\\PythonSoftwareFoundation.Python.3.9_qbz5n2kfra8p0\\LocalCache\\local-packages\\Python39\\site-packages\\sklearn\\svm\\_base.py:481\u001b[0m, in \u001b[0;36mBaseLibSVM._sparse_predict\u001b[1;34m(self, X)\u001b[0m\n\u001b[0;32m    477\u001b[0m kernel_type \u001b[39m=\u001b[39m \u001b[39mself\u001b[39m\u001b[39m.\u001b[39m_sparse_kernels\u001b[39m.\u001b[39mindex(kernel)\n\u001b[0;32m    479\u001b[0m C \u001b[39m=\u001b[39m \u001b[39m0.0\u001b[39m  \u001b[39m# C is not useful here\u001b[39;00m\n\u001b[1;32m--> 481\u001b[0m \u001b[39mreturn\u001b[39;00m libsvm_sparse\u001b[39m.\u001b[39;49mlibsvm_sparse_predict(\n\u001b[0;32m    482\u001b[0m     X\u001b[39m.\u001b[39;49mdata,\n\u001b[0;32m    483\u001b[0m     X\u001b[39m.\u001b[39;49mindices,\n\u001b[0;32m    484\u001b[0m     X\u001b[39m.\u001b[39;49mindptr,\n\u001b[0;32m    485\u001b[0m     \u001b[39mself\u001b[39;49m\u001b[39m.\u001b[39;49msupport_vectors_\u001b[39m.\u001b[39;49mdata,\n\u001b[0;32m    486\u001b[0m     \u001b[39mself\u001b[39;49m\u001b[39m.\u001b[39;49msupport_vectors_\u001b[39m.\u001b[39;49mindices,\n\u001b[0;32m    487\u001b[0m     \u001b[39mself\u001b[39;49m\u001b[39m.\u001b[39;49msupport_vectors_\u001b[39m.\u001b[39;49mindptr,\n\u001b[0;32m    488\u001b[0m     \u001b[39mself\u001b[39;49m\u001b[39m.\u001b[39;49m_dual_coef_\u001b[39m.\u001b[39;49mdata,\n\u001b[0;32m    489\u001b[0m     \u001b[39mself\u001b[39;49m\u001b[39m.\u001b[39;49m_intercept_,\n\u001b[0;32m    490\u001b[0m     LIBSVM_IMPL\u001b[39m.\u001b[39;49mindex(\u001b[39mself\u001b[39;49m\u001b[39m.\u001b[39;49m_impl),\n\u001b[0;32m    491\u001b[0m     kernel_type,\n\u001b[0;32m    492\u001b[0m     \u001b[39mself\u001b[39;49m\u001b[39m.\u001b[39;49mdegree,\n\u001b[0;32m    493\u001b[0m     \u001b[39mself\u001b[39;49m\u001b[39m.\u001b[39;49m_gamma,\n\u001b[0;32m    494\u001b[0m     \u001b[39mself\u001b[39;49m\u001b[39m.\u001b[39;49mcoef0,\n\u001b[0;32m    495\u001b[0m     \u001b[39mself\u001b[39;49m\u001b[39m.\u001b[39;49mtol,\n\u001b[0;32m    496\u001b[0m     C,\n\u001b[0;32m    497\u001b[0m     \u001b[39mself\u001b[39;49m\u001b[39m.\u001b[39;49mclass_weight_,\n\u001b[0;32m    498\u001b[0m     \u001b[39mself\u001b[39;49m\u001b[39m.\u001b[39;49mnu,\n\u001b[0;32m    499\u001b[0m     \u001b[39mself\u001b[39;49m\u001b[39m.\u001b[39;49mepsilon,\n\u001b[0;32m    500\u001b[0m     \u001b[39mself\u001b[39;49m\u001b[39m.\u001b[39;49mshrinking,\n\u001b[0;32m    501\u001b[0m     \u001b[39mself\u001b[39;49m\u001b[39m.\u001b[39;49mprobability,\n\u001b[0;32m    502\u001b[0m     \u001b[39mself\u001b[39;49m\u001b[39m.\u001b[39;49m_n_support,\n\u001b[0;32m    503\u001b[0m     \u001b[39mself\u001b[39;49m\u001b[39m.\u001b[39;49m_probA,\n\u001b[0;32m    504\u001b[0m     \u001b[39mself\u001b[39;49m\u001b[39m.\u001b[39;49m_probB,\n\u001b[0;32m    505\u001b[0m )\n",
      "\u001b[1;31mKeyboardInterrupt\u001b[0m: "
     ]
    }
   ],
   "source": [
    "from sklearn.svm import SVC\n",
    "svm = SVC()\n",
    "params_grid = {'C': [0.1, 1, 10, 100]}\n",
    "gssvm = GridSearchCV(SVC(),\n",
    "                     params_grid,\n",
    "                     refit = True,\n",
    "                     verbose = 1)\n",
    "gssvm.fit(tfidf_tr, y_tr)\n",
    "y_pred_gssvm = gssvm.predict(tfidf_val)  \n",
    "print(\"Best: %f using %s\" % (gssvm.best_score_, gssvm.best_params_))\n"
   ]
  },
  {
   "cell_type": "code",
   "execution_count": null,
   "metadata": {},
   "outputs": [
    {
     "name": "stdout",
     "output_type": "stream",
     "text": [
      "Fitting 5 folds for each of 4 candidates, totalling 20 fits\n",
      "Best: 0.915284 using {'C': 10, 'gamma': 0.1}\n"
     ]
    }
   ],
   "source": [
    "svm = SVC()\n",
    "params_grid = {'C': [10],\n",
    "               'gamma': [1, 0.1, 0.01, 0.001]}\n",
    "gssvm = GridSearchCV(SVC(),\n",
    "                     params_grid, \n",
    "                     refit = True, \n",
    "                     verbose = 1)\n",
    "gssvm.fit(tfidf_tr, y_tr)\n",
    "y_pred_gssvm = gssvm.predict(tfidf_val)  \n",
    "print(\"Best: %f using %s\" % (gssvm.best_score_, gssvm.best_params_))"
   ]
  },
  {
   "cell_type": "code",
   "execution_count": null,
   "metadata": {},
   "outputs": [
    {
     "name": "stdout",
     "output_type": "stream",
     "text": [
      "Fitting 5 folds for each of 3 candidates, totalling 15 fits\n",
      "Best: 0.916557 using {'C': 10, 'gamma': 0.1, 'kernel': 'sigmoid'}\n"
     ]
    }
   ],
   "source": [
    "svm = SVC()\n",
    "params_grid = {'C': [10],\n",
    "               'gamma': [0.1],\n",
    "               'kernel': ['rbf', 'poly', 'sigmoid']}\n",
    "gssvm = GridSearchCV(SVC(),\n",
    "                     params_grid, \n",
    "                     refit = True, \n",
    "                     verbose = 1)\n",
    "gssvm.fit(tfidf_tr, y_tr)\n",
    "y_pred_gssvm = gssvm.predict(tfidf_val)  \n",
    "print(\"Best: %f using %s\" % (gssvm.best_score_, gssvm.best_params_))"
   ]
  },
  {
   "cell_type": "code",
   "execution_count": null,
   "metadata": {},
   "outputs": [
    {
     "name": "stdout",
     "output_type": "stream",
     "text": [
      "Accuracy:  0.9170506912442397\n",
      "F1:  0.8014705882352942\n",
      "Recall:  0.7239089184060721\n",
      "Precision:  0.8976470588235295\n",
      "ROC-AUC:  0.944314604830449\n",
      "PR-AUC:  0.8970455202599272\n"
     ]
    }
   ],
   "source": [
    "get_metrics(tfidf_val, y_val, y_pred_gssvm, gssvm)"
   ]
  },
  {
   "cell_type": "code",
   "execution_count": null,
   "metadata": {},
   "outputs": [
    {
     "data": {
      "image/png": "[encoded data removed]",
      "text/plain": [
       "<Figure size 288x288 with 1 Axes>"
      ]
     },
     "metadata": {},
     "output_type": "display_data"
    }
   ],
   "source": [
    "get_confusion(y_val, y_pred_gssvm)"
   ]
  },
  {
   "cell_type": "code",
   "execution_count": null,
   "metadata": {},
   "outputs": [
    {
     "name": "stdout",
     "output_type": "stream",
     "text": [
      "Accuracy:  0.9170506912442397\n",
      "F1:  0.8014705882352942\n",
      "Recall:  0.7239089184060721\n",
      "Precision:  0.8976470588235295\n",
      "ROC-AUC:  0.944314604830449\n",
      "PR-AUC:  0.8970455202599272\n"
     ]
    },
    {
     "data": {
      "image/png": "[encoded data removed]",
      "text/plain": [
       "<Figure size 288x288 with 1 Axes>"
      ]
     },
     "metadata": {},
     "output_type": "display_data"
    }
   ],
   "source": [
    "svm_best = SVC(C=10, gamma=0.1, kernel='sigmoid').fit(tfidf_tr, y_tr)\n",
    "y_pred_svm_best = svm_best.predict(tfidf_val)\n",
    "get_metrics(tfidf_val, y_val, y_pred_svm_best, svm_best)\n",
    "get_confusion(y_val, y_pred_svm_best)"
   ]
  },
  {
   "cell_type": "code",
   "execution_count": null,
   "metadata": {},
   "outputs": [],
   "source": [
    "import pickle\n",
    "with open('../pickle/best_model.pickle', 'wb') as f:\n",
    "    pickle.dump(svm_best, f, pickle.HIGHEST_PROTOCOL)"
   ]
  },
  {
   "cell_type": "code",
   "execution_count": null,
   "metadata": {},
   "outputs": [],
   "source": [
    "data7 = {'Accuracy': [accuracy_score(y_val, y_pred_log_best),\n",
    "                      accuracy_score(y_val, y_pred_gsrfc),\n",
    "                      accuracy_score(y_val, y_pred_svm_best)],\n",
    "        'F1 Score': [f1_score(y_val, y_pred_log_best),\n",
    "                     f1_score(y_val, y_pred_gsrfc),\n",
    "                     f1_score(y_val, y_pred_svm_best)],\n",
    "        'Recall': [recall_score(y_val, y_pred_log_best),\n",
    "                   recall_score(y_val, y_pred_gsrfc),\n",
    "                   recall_score(y_val, y_pred_svm_best)],\n",
    "        'Precision': [precision_score(y_val, y_pred_log_best),\n",
    "                      precision_score(y_val, y_pred_gsrfc),\n",
    "                      precision_score(y_val, y_pred_svm_best)]\n",
    "       }\n",
    "metrics7 = pd.DataFrame(data=data7, index=['Logistic Regression w/GridsearchCV',\n",
    "                                           'Random Forest w/GridsearchCV',\n",
    "                                           'Support Vector Machine w/GridsearchCV'])"
   ]
  },
  {
   "cell_type": "code",
   "execution_count": null,
   "metadata": {},
   "outputs": [
    {
     "data": {
      "text/html": [
       "<div>\n",
       "<style scoped>\n",
       "    .dataframe tbody tr th:only-of-type {\n",
       "        vertical-align: middle;\n",
       "    }\n",
       "\n",
       "    .dataframe tbody tr th {\n",
       "        vertical-align: top;\n",
       "    }\n",
       "\n",
       "    .dataframe thead th {\n",
       "        text-align: right;\n",
       "    }\n",
       "</style>\n",
       "<table border=\"1\" class=\"dataframe\">\n",
       "  <thead>\n",
       "    <tr style=\"text-align: right;\">\n",
       "      <th></th>\n",
       "      <th>Accuracy</th>\n",
       "      <th>F1 Score</th>\n",
       "      <th>Recall</th>\n",
       "      <th>Precision</th>\n",
       "      <th>ROC-AUC</th>\n",
       "      <th>PR AUC</th>\n",
       "    </tr>\n",
       "  </thead>\n",
       "  <tbody>\n",
       "    <tr>\n",
       "      <th>Logistic Regression w/GridsearchCV</th>\n",
       "      <td>0.924099</td>\n",
       "      <td>0.881517</td>\n",
       "      <td>0.842105</td>\n",
       "      <td>0.924798</td>\n",
       "      <td>0.965593</td>\n",
       "      <td>0.955385</td>\n",
       "    </tr>\n",
       "    <tr>\n",
       "      <th>Random Forest w/GridsearchCV</th>\n",
       "      <td>0.694877</td>\n",
       "      <td>0.165109</td>\n",
       "      <td>0.089983</td>\n",
       "      <td>1.000000</td>\n",
       "      <td>0.931134</td>\n",
       "      <td>0.904248</td>\n",
       "    </tr>\n",
       "    <tr>\n",
       "      <th>AdaBoost Classifier w/GridsearchCV</th>\n",
       "      <td>0.894307</td>\n",
       "      <td>0.820612</td>\n",
       "      <td>0.720996</td>\n",
       "      <td>0.952167</td>\n",
       "      <td>0.963641</td>\n",
       "      <td>0.936491</td>\n",
       "    </tr>\n",
       "    <tr>\n",
       "      <th>Support Vector Machine w/GridsearchCV</th>\n",
       "      <td>0.931879</td>\n",
       "      <td>0.893693</td>\n",
       "      <td>0.853990</td>\n",
       "      <td>0.937267</td>\n",
       "      <td>0.965325</td>\n",
       "      <td>0.954111</td>\n",
       "    </tr>\n",
       "  </tbody>\n",
       "</table>\n",
       "</div>"
      ],
      "text/plain": [
       "                                       Accuracy  F1 Score    Recall  \\\n",
       "Logistic Regression w/GridsearchCV     0.924099  0.881517  0.842105   \n",
       "Random Forest w/GridsearchCV           0.694877  0.165109  0.089983   \n",
       "AdaBoost Classifier w/GridsearchCV     0.894307  0.820612  0.720996   \n",
       "Support Vector Machine w/GridsearchCV  0.931879  0.893693  0.853990   \n",
       "\n",
       "                                       Precision   ROC-AUC    PR AUC  \n",
       "Logistic Regression w/GridsearchCV      0.924798  0.965593  0.955385  \n",
       "Random Forest w/GridsearchCV            1.000000  0.931134  0.904248  \n",
       "AdaBoost Classifier w/GridsearchCV      0.952167  0.963641  0.936491  \n",
       "Support Vector Machine w/GridsearchCV   0.937267  0.965325  0.954111  "
      ]
     },
     "execution_count": 28,
     "metadata": {},
     "output_type": "execute_result"
    }
   ],
   "source": [
    "metrics7"
   ]
  },
  {
   "cell_type": "code",
   "execution_count": null,
   "metadata": {},
   "outputs": [],
   "source": [
    "metrics7.to_csv(\"../data/metrics/metrics7.csv\")"
   ]
  },
  {
   "cell_type": "code",
   "execution_count": null,
   "metadata": {},
   "outputs": [],
   "source": []
  },
  {
   "cell_type": "code",
   "execution_count": null,
   "metadata": {},
   "outputs": [],
   "source": [
    "pipeline = Pipeline([\n",
    "    ('vect', CountVectorizer()),\n",
    "    ('tfidf', TfidfTransformer()),\n",
    "    ('clf', SVC()),\n",
    "])\n",
    "\n",
    "parameters = {\n",
    "    'vect__max_df': (0.5, 0.75, 1.0),\n",
    "    'vect__max_features':\n",
    "}\n",
    "\n",
    "}"
   ]
  },
  {
   "cell_type": "code",
   "execution_count": null,
   "metadata": {},
   "outputs": [],
   "source": []
  }
 ],
 "metadata": {
  "interpreter": {
   "hash": "80773cdecc613a186b9eac051636553d2ff0f99c57590601666ed713bd5d0256"
  },
  "kernelspec": {
   "display_name": "Python 3.9.4 64-bit ('learn-env': conda)",
   "name": "python3"
  },
  "language_info": {
   "codemirror_mode": {
    "name": "ipython",
    "version": 3
   },
   "file_extension": ".py",
   "mimetype": "text/x-python",
   "name": "python",
   "nbconvert_exporter": "python",
   "pygments_lexer": "ipython3",
   "version": "3.9.13"
  },
  "orig_nbformat": 2
 },
 "nbformat": 4,
 "nbformat_minor": 2
}
