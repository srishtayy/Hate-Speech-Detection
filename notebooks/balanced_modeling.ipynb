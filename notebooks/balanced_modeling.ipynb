{
 "cells": [
  {
   "attachments": {},
   "cell_type": "markdown",
   "metadata": {},
   "source": [
    "# Modeling Notebook with Balanced Dataset"
   ]
  },
  {
   "attachments": {},
   "cell_type": "markdown",
   "metadata": {},
   "source": [
    "# Importing Packages"
   ]
  },
  {
   "cell_type": "code",
   "execution_count": 1,
   "metadata": {},
   "outputs": [],
   "source": [
    "import pandas as pd\n",
    "import warnings\n",
    "warnings.filterwarnings('ignore')\n",
    "import pickle\n",
    "from tqdm import tqdm\n",
    "tqdm.pandas(desc=\"progress-bar\")\n",
    "\n",
    "from sklearn import svm\n",
    "from sklearn.linear_model import LogisticRegression\n",
    "from sklearn.naive_bayes import MultinomialNB\n",
    "from sklearn.ensemble import RandomForestClassifier\n",
    "from sklearn.model_selection import GridSearchCV\n",
    "from sklearn.feature_extraction.text import TfidfVectorizer\n",
    "from sklearn.tree import DecisionTreeClassifier\n",
    "from sklearn.tree import DecisionTreeClassifier\n",
    "from sklearn.ensemble import RandomForestClassifier, AdaBoostClassifier, GradientBoostingClassifier\n",
    "from sklearn.metrics import precision_score, recall_score, accuracy_score, f1_score, auc, average_precision_score, confusion_matrix, roc_auc_score\n",
    "\n",
    "import re\n",
    "from nltk.stem import WordNetLemmatizer\n",
    "import gensim\n",
    "from gensim.parsing.preprocessing import STOPWORDS\n",
    "\n",
    "\n",
    "%reload_ext autoreload\n",
    "%autoreload 2\n",
    "import sys\n",
    "sys.path.append(\"../py\")\n",
    "from utils import *\n",
    "from preprocess import *\n"
   ]
  },
  {
   "cell_type": "code",
   "execution_count": 2,
   "metadata": {},
   "outputs": [],
   "source": [
    "train = pickle.load(open(\"../pickle/train_bal.pickle\", \"rb\"))\n",
    "val = pickle.load(open(\"../pickle/val_bal.pickle\", \"rb\"))\n",
    "test = pickle.load(open(\"../pickle/test_bal.pickle\", \"rb\"))"
   ]
  },
  {
   "cell_type": "code",
   "execution_count": 5,
   "metadata": {},
   "outputs": [
    {
     "data": {
      "text/plain": [
       "1    22290\n",
       "0    22290\n",
       "Name: target, dtype: int64"
      ]
     },
     "execution_count": 5,
     "metadata": {},
     "output_type": "execute_result"
    }
   ],
   "source": [
    "train.target.value_counts()"
   ]
  },
  {
   "cell_type": "code",
   "execution_count": 7,
   "metadata": {},
   "outputs": [],
   "source": [
    "import nltk\n",
    "from nltk.tokenize import word_tokenize\n",
    "from nltk.corpus import stopwords\n",
    "from nltk.stem.porter import *\n",
    "import numpy as np\n",
    "from nltk.sentiment.vader import SentimentIntensityAnalyzer as VS\n",
    "from nltk.corpus import wordnet\n",
    "from nltk.stem import WordNetLemmatizer\n",
    "stopwords = nltk.corpus.stopwords.words(\"english\")\n",
    "\n",
    "#extending the stopwords to include other words used in twitter such as retweet(rt) etc.\n",
    "other_exclusions = [\"#ff\", \"ff\", \"rt\"]\n",
    "stopwords.extend(other_exclusions)\n",
    "stemmer = PorterStemmer()"
   ]
  },
  {
   "cell_type": "code",
   "execution_count": 8,
   "metadata": {},
   "outputs": [],
   "source": [
    "def preprocess(tweet):  \n",
    "    \n",
    "    # removal of extra spaces\n",
    "    regex_pat = re.compile(r'\\s+')\n",
    "    tweet_space = tweet.str.replace(regex_pat, ' ')\n",
    "\n",
    "    # removal of @name[mention]\n",
    "    regex_pat = re.compile(r'@[\\w\\-]+')\n",
    "    tweet_name = tweet_space.str.replace(regex_pat, '')\n",
    "\n",
    "    # removal of links[https://abc.com]\n",
    "    giant_url_regex =  re.compile('http[s]?://(?:[a-zA-Z]|[0-9]|[$-_@.&+]|'\n",
    "            '[!*\\(\\),]|(?:%[0-9a-fA-F][0-9a-fA-F]))+')\n",
    "    tweets = tweet_name.str.replace(giant_url_regex, '')\n",
    "    \n",
    "    # removal of punctuations and numbers\n",
    "    punc_remove = tweets.str.replace(\"[^a-zA-Z]\", \" \")\n",
    "    # remove whitespace with a single space\n",
    "    newtweet=punc_remove.str.replace(r'\\s+', ' ')\n",
    "    # remove leading and trailing whitespace\n",
    "    newtweet=newtweet.str.replace(r'^\\s+|\\s+?$','')\n",
    "    # replace normal numbers with numbr\n",
    "    newtweet=newtweet.str.replace(r'\\d+(\\.\\d+)?','numbr')\n",
    "    # removal of capitalization\n",
    "    tweet_lower = newtweet.str.lower()\n",
    "    \n",
    "    # tokenizing\n",
    "    tokenized_tweet = tweet_lower.apply(lambda x: x.split())\n",
    "    \n",
    "    # removal of stopwords\n",
    "    tokenized_tweet=  tokenized_tweet.apply(lambda x: [item for item in x if item not in stopwords])\n",
    "    \n",
    "    # stemming of the tweets\n",
    "    tokenized_tweet = tokenized_tweet.apply(lambda x: [stemmer.stem(i) for i in x]) \n",
    "    \n",
    "    tweets_p = []\n",
    "    for i in tokenized_tweet:\n",
    "        t = ' '.join(i)\n",
    "        tweets_p.append(t)\n",
    "    return tweets_p\n",
    "    "
   ]
  },
  {
   "cell_type": "code",
   "execution_count": 12,
   "metadata": {},
   "outputs": [
    {
     "data": {
      "text/html": [
       "<div>\n",
       "<style scoped>\n",
       "    .dataframe tbody tr th:only-of-type {\n",
       "        vertical-align: middle;\n",
       "    }\n",
       "\n",
       "    .dataframe tbody tr th {\n",
       "        vertical-align: top;\n",
       "    }\n",
       "\n",
       "    .dataframe thead th {\n",
       "        text-align: right;\n",
       "    }\n",
       "</style>\n",
       "<table border=\"1\" class=\"dataframe\">\n",
       "  <thead>\n",
       "    <tr style=\"text-align: right;\">\n",
       "      <th></th>\n",
       "      <th>tweet</th>\n",
       "      <th>target</th>\n",
       "    </tr>\n",
       "  </thead>\n",
       "  <tbody>\n",
       "    <tr>\n",
       "      <th>0</th>\n",
       "      <td>spoti perhap murrayhat would happier murray bi...</td>\n",
       "      <td>1</td>\n",
       "    </tr>\n",
       "    <tr>\n",
       "      <th>1</th>\n",
       "      <td>might libtard libtard sjw liber polit</td>\n",
       "      <td>1</td>\n",
       "    </tr>\n",
       "    <tr>\n",
       "      <th>2</th>\n",
       "      <td>korean amp joseon peopl japan abus claim right...</td>\n",
       "      <td>1</td>\n",
       "    </tr>\n",
       "    <tr>\n",
       "      <th>3</th>\n",
       "      <td>ny develop racist deathwish</td>\n",
       "      <td>1</td>\n",
       "    </tr>\n",
       "    <tr>\n",
       "      <th>4</th>\n",
       "      <td>fascism arriv nazi salut sharp suit altright r...</td>\n",
       "      <td>1</td>\n",
       "    </tr>\n",
       "  </tbody>\n",
       "</table>\n",
       "</div>"
      ],
      "text/plain": [
       "                                               tweet  target\n",
       "0  spoti perhap murrayhat would happier murray bi...       1\n",
       "1              might libtard libtard sjw liber polit       1\n",
       "2  korean amp joseon peopl japan abus claim right...       1\n",
       "3                        ny develop racist deathwish       1\n",
       "4  fascism arriv nazi salut sharp suit altright r...       1"
      ]
     },
     "execution_count": 12,
     "metadata": {},
     "output_type": "execute_result"
    }
   ],
   "source": [
    "train.tweet = preprocess(train.tweet)   \n",
    "train.head()\n",
    "train.target.value_counts()\n",
    "val.tweet = preprocess(val.tweet)   \n",
    "val.head()\n",
    "test.tweet=preprocess(test.tweet) \n",
    "test.head()\n"
   ]
  },
  {
   "attachments": {},
   "cell_type": "markdown",
   "metadata": {},
   "source": [
    "# Modeling"
   ]
  },
  {
   "cell_type": "code",
   "execution_count": 14,
   "metadata": {},
   "outputs": [],
   "source": [
    "X_tr = train.tweet.values\n",
    "X_val = val.tweet.values\n",
    "y_tr = train.target.values\n",
    "y_val = val.target.values\n",
    "vec = TfidfVectorizer()\n",
    "# X_tr= \n",
    "tfidf_tr = vec.fit_transform([str(item) for item in X_tr])\n",
    "tfidf_val = vec.transform([str(item) for item in X_val])\n"
   ]
  },
  {
   "cell_type": "code",
   "execution_count": 15,
   "metadata": {},
   "outputs": [
    {
     "data": {
      "text/plain": [
       "(44580, 26305)"
      ]
     },
     "execution_count": 15,
     "metadata": {},
     "output_type": "execute_result"
    }
   ],
   "source": [
    "tfidf_tr1=vec.fit_transform(X_tr)\n",
    "tfidf_tr1.shape"
   ]
  },
  {
   "cell_type": "code",
   "execution_count": 16,
   "metadata": {},
   "outputs": [
    {
     "data": {
      "text/plain": [
       "['latest indigen remot daili thank justjust',\n",
       " 'video whole situat boycottdelta expo truth fraud adamsaleh delta prankster',\n",
       " 'trump associ classi bunch',\n",
       " 'peopl like come term like terrorist asshol',\n",
       " 'black men black women stockholm syndrom',\n",
       " 'allahsoil term jihad highli contest concept teambt teamsuperjunior',\n",
       " 'nick cannon speak system via alllivesmatt unbornlivesmatt',\n",
       " 'famili horribl attack thegreenpalmcottag plettenburgbay westerncap thyini thiza want',\n",
       " 'dare accur poray treasonoustrump china next say fascist lapdog putin',\n",
       " 'dear versac wont buy yur retail sign pissedoffitalian',\n",
       " 'icymi complet washout anti racism chang antirac',\n",
       " 'hire graduat taught amp genocid',\n",
       " 'truth abt polic amp maga audiblechannel',\n",
       " 'give white nationalist troll platform spread hate read buy boo',\n",
       " 'basic sum brexit mean britain euroscept xenophob isolationist tribal',\n",
       " 'allahsoil greenspan polici larg blame mogag crisi',\n",
       " 'defund aboion send inaugur',\n",
       " 'almost alway trust brazilian',\n",
       " 'femin equal help everyon help men women hu everyon everywh',\n",
       " 'peopl origin meant white landhold male word',\n",
       " 'sikh templ vandali calgari wso condemn act',\n",
       " 'perfect time tweet staup',\n",
       " 'note abl pop zit neck day beensqueez day',\n",
       " 'aw slap face american hey neighbor black bought hou r',\n",
       " 'analysi amp blacklivesmatt total touch amp repr spirit islam ri',\n",
       " 'classi',\n",
       " 'allahsoil western islamophob emirati word',\n",
       " 'antisemit kill rememb one born hate love chang world',\n",
       " 'ark man discov racist graffiti car quick errand hoodiesup blm',\n",
       " 'cannot address issu fair trade fresh h much violenc better npr',\n",
       " 'perhap paladino feel econom anxieti',\n",
       " 'year',\n",
       " 'latest socialmooc thank feliz',\n",
       " 'jokeoftheday pun tornado black peopl common take ruin neighborhood',\n",
       " 'video men womenmalayalam girl dread porn video',\n",
       " 'adam saleh racist adamsaleh',\n",
       " 'plea retweet impoant issu need discuss nojust loserpizza',\n",
       " 'stereotyp prejud offer hope solut creat old repetit hate conflict',\n",
       " 'aleppo orlando syria trump war berlinattack inequ bagdad nice pari noth celebr getreal',\n",
       " 'biher amp must keep black presid check',\n",
       " 'sleep night terribl person sir repr everyth wrong countri gfi',\n",
       " 'sum vote brexit littleengland syndrom sovereignti democraci',\n",
       " 'pic say otherwi young girl confin kitchen void mean beyond cheap public topoli',\n",
       " 'obama join jackal ass america miss obama realiz trump noth trumpi',\n",
       " 'inter terrestri scifi sciencefict kindleunlimit cent januari kindl',\n",
       " 'real jeff session neverump swampmonst',\n",
       " 'hmmm sound familiar held news co',\n",
       " 'video lithuania lisa like cuckold write followm',\n",
       " 'trump associ classi bunch',\n",
       " 'waitingf wildest cutest creatur eah takuyakimura w girl highfashion brand',\n",
       " 'stupid alcohol wiunion hag stuff legend',\n",
       " 'need stop racist let terrorist kill sarcasm trumptrain',\n",
       " 'hmmm sound familiar held news co',\n",
       " 'latest say thank culturesway',\n",
       " 'joke matter offic fire joke target practic black neighborhood via',\n",
       " 'bigot person would tweet call name tell truth',\n",
       " 'launch politicalmillenni januari stay tune date letstalkabout climatechang educ',\n",
       " 'could systemicrac imposs real act racism easier stand unfoun',\n",
       " 'goodonedean metoo lol trumpism putin donaldtrump traitor commit treason',\n",
       " 'peopl origin meant white landhold male word',\n",
       " 'nc monster law made republican lawmak disenfranchi black voter near surgic preci',\n",
       " 'go ahead amp chang profil pic hepburn ambassador unicef amp ignor would',\n",
       " 'would best thing done yet',\n",
       " 'noth would taharrush taharrushgamea rapeug',\n",
       " 'lolol leb either cow',\n",
       " 'hear kurd free equal citizen like state mouthpiec journo claim',\n",
       " 'follow gentlemen kick airlin simpli speak arab',\n",
       " 'genealog xenophobia papalbul coloni slaveri enlighten polygeni pseudosci',\n",
       " 'sex postion pictur white girl sex black guy',\n",
       " 'hate putinspuppet love attent januari',\n",
       " 'might libtard libtard sjw liber polit',\n",
       " 'obviou tcot get amp inaspanof mayb allof two second board think know',\n",
       " 'allahsoil like religion islam strong unifi forc teambt teamsuperjunior',\n",
       " 'keep conver go school home need creat space time commit help',\n",
       " 'hispan amp feel like stomp listen retweet boricua miami newyork losangel',\n",
       " 'propaganda palestin time video properli stab jew standwithisrael',\n",
       " 'denial resist normal hatr nofascist',\n",
       " 'trump offici paladino make crude obama remark',\n",
       " 'okay cour traitor bulli notmypr notmypresid',\n",
       " 'might libtard libtard sjw liber polit',\n",
       " 'bot kitazatoshibasaburo found tetanusimmun colleagu kitazato didnot nobelpr colleagu white',\n",
       " 'vital address porn influenc discuss sexual abu demean languag women ht',\n",
       " 'milo yiannopoulo hate monger never buy anoth book nazi ss toss bin',\n",
       " 'wen south choo dark south heroin kajal tamanna ami wtf',\n",
       " 'trump wall coal fire electr produc need dispo sulfur fli ash stockpil',\n",
       " 'melania trump help write speech end us titl came great',\n",
       " 'woh read joseph boyden reinforc system oppress first nation vi',\n",
       " 'say presid elect call american enemi hate ignor',\n",
       " 'oh fuuuuuuuuuuuuck right',\n",
       " 'come n wake eff usa crazi stem n hatr obama seem like',\n",
       " 'agr true overu term result fast becomin',\n",
       " 'sea shepherd suppoer racist seashepherd antirac',\n",
       " 'lee atwat caught n tape explain southern strategi reagan cabinet th',\n",
       " 'obviou tcot get amp inaspanof mayb allof two second board think know',\n",
       " 'allahsoil stone human differ graviti differ',\n",
       " 'latest daili thank catalunya',\n",
       " 'white peopl expat rest us immigr classism imperialsm',\n",
       " 'blackpeopl beat whiteperson bp might make cou aliv serv life somehow vs',\n",
       " 'want call help spread word sinc ball',\n",
       " 'white flight derek black kkk trump chang',\n",
       " 'seriou consid perform inaugur lie misogynist',\n",
       " 'congrat tucker came exactli childish paisanhack',\n",
       " 'might libtard libtard sjw liber polit',\n",
       " 'bodi bodi gener site fear repul violent desir hatr ableism',\n",
       " 'might libtard libtard sjw liber polit',\n",
       " 'minut trump condemn vile bigot comment surrog carlpaladino endhat',\n",
       " 'rememb camber sand death blame victim cultur council rother',\n",
       " 'great aicl right money starspangledbann slaveri apaheid usa',\n",
       " 'libtard believ hate muslim suppo trump black woman damn slave',\n",
       " 'problem',\n",
       " 'ever think call name true conman traitor draftdodg coward',\n",
       " 'black dad put babi mama blast take biraci daughter get braid',\n",
       " 'allahsoil neolib priorit money oil pretti much everyth el',\n",
       " 'critic threaten boycott simon amp schuster milo yiannopoulo book deal huffington post',\n",
       " 'come ultra po like surpri surpri maga usa least play golf',\n",
       " 'sikh templ vandali calgari wso condemn act',\n",
       " 'power women work trump racist sexist never bash trump',\n",
       " 'wanna mock countri b c pt libtard b c',\n",
       " 'prison offic goad muslim inmat need restrain pa game',\n",
       " 'bullshit thrown muslim',\n",
       " 'comment reflect ignor c',\n",
       " 'black amp feel like stomp listen retweet tampa miami',\n",
       " 'engag white call nig subhuman',\n",
       " 'need chang profil economicapahi hatespeech get servic poor',\n",
       " 'hispan amp like stomp listen retweet boricua miami',\n",
       " 'one mil american reject bigotri amp hatr fli flag half mast jan',\n",
       " 'trump suppoer voic thought women suffrag germani immigr polici',\n",
       " 'guy look like brother first wife found w anoth man sex document tv',\n",
       " 'new one either way men disgrac harass verbalassault',\n",
       " 'st mark cathedr name racism anti semit xenophobia sin komo news',\n",
       " 'keep conver go school home need creat space time commit help',\n",
       " 'us neonazi antisemit embolden trump win gop',\n",
       " 'share never thoughj experi amp never look caucasian differ watch',\n",
       " 'make ask anybodi god oh thank god',\n",
       " 'eah pastor mmusimaiman perhap prayer amp medit respond spin',\n",
       " 'racism muslim societi dr eren tasar teach islam sblaar',\n",
       " 'ball hashtag say weasel away lumpi toni dipshit',\n",
       " 'women defend want',\n",
       " 'give white nationalist troll platform spread hate read buy boo',\n",
       " 'allahsoil war violent except perhap thailand teambt',\n",
       " 'allahsoil revolut occur marx expect teambt teamsuperjunior',\n",
       " 'feminismiscanc feminismisterror feminismmuktbharat malevot ignor',\n",
       " 'allahsoil fear monger becom loudest voic know could happen',\n",
       " 'black amp feel like stomp listen retweet tampa miami',\n",
       " 'nobdi want kiss lie conaist homophob islamaphob russianhack nomand traitor',\n",
       " 'fed provid inadequ mentalhealth care firstnat intern memo thirdworldcanada',\n",
       " 'stop call met bbc got big work ahead',\n",
       " 'enough say notmypr wtf neverump unpresid bigot',\n",
       " 'go fuck yo asshol dumb mafucka',\n",
       " 'sea shepherd suppoer racist antirac seashepherd',\n",
       " 'microsoft twitterbot turn rage sexist genocid defend ai tech',\n",
       " 'plea explain us bad',\n",
       " 'shuckinandjivin democraticpay want vote',\n",
       " 'comment reflect ignor endofcivil',\n",
       " 'noth would danger give putinscho impress accept stoprac boycott',\n",
       " 'video censor youtub hate speech enjoy maga everythingisracist trigger',\n",
       " 'look like damn fool year usa openli oppo settlement bulid israel',\n",
       " 'black live matter blm except mine appar patienc watch way jo',\n",
       " 'treasonoustrump unsatisfi whiteisi terror move nuclear terror new',\n",
       " 'crook hillari clinton hate black peopl hillari clinton black',\n",
       " 'freak nasti rotten peopl whiteslav monster relea dom nica whiteslaveri venezuela go pay let free',\n",
       " 'denial resist normal hatr nofascist',\n",
       " 'go take anti med',\n",
       " 'truth abt polic amp maga audiblechannel',\n",
       " 'like blacklivesmatt slogan talk',\n",
       " 'countdown till asshol gone obama moron creepi uncl joe bye bye scum',\n",
       " 'liber self loath mean rest us weapon yell',\n",
       " 'ind typic scumbag ride trumphat machin sic',\n",
       " 'feminismiscanc feminismisterror feminismmuktbharat malevot ignor',\n",
       " 'black amp feel like stomp listen retweet tampa miami',\n",
       " 'plea resign school board',\n",
       " 'probabl closet pose w black man long ago nuff said',\n",
       " 'allahsoil cold war fought oil teambt teamsuperjunior',\n",
       " 'peruvian women nd adult game',\n",
       " 'happi white kwanzaa holiday african whitesupremacist celebr happykwanzaa happyholiday merrychristma',\n",
       " 'anyon right question foreign parentag mccain question accu democrat',\n",
       " 'sikh templ vandali calgari wso condemn act',\n",
       " 'jeff session omit decad record ag confirm hear hide',\n",
       " 'women defend want',\n",
       " 'trump alli made remark toward obama dec et',\n",
       " 'mani pol pass mani time said noth bluelivesmatt draintheswamp ferguson',\n",
       " 'allahsoil clinton invi hand job champion conserv right',\n",
       " 'allahsoil jew christian muslim believ good prevail cnn bbc msnbc word',\n",
       " 'u lose ur right call racist tweet like hypocrit whitegenocid',\n",
       " 'ugli ladi',\n",
       " 'despit demor may ur newyear classism free saga posit newyearsev',\n",
       " 'jeff session omit decad record ag confirm hear hide',\n",
       " 'sunburi pennsylvania flier post outsid mosqu muslim usa',\n",
       " 'allahsoil market crash march greenspan cut interest rate even',\n",
       " 'someon feed grenad stupid fuck shit',\n",
       " 'team new mc amp show phillysuppophilli amp combat',\n",
       " 'carl paladino former trump campaign offici unpresid trump',\n",
       " 'black amp feel like stomp listen retweet tampa miami',\n",
       " 'exp explain best way deal friend amp famili',\n",
       " 'tyler perri say backlash tlc show rever racism',\n",
       " 'pic say otherwi young girl confin kitchen void mean beyond cheap public topoli',\n",
       " 'univ stand hate ignor stupid lie mdcolleg',\n",
       " 'mcconnel obstruct goe way back discov obama black',\n",
       " 'carl paladino former trump campaign offici unpresid trump',\n",
       " 'allahsoil peopl origin meant white landhold male',\n",
       " 'know ref malevot amp womenvot profil ref blackvot hispanicvot accept',\n",
       " 'jeffsess think notic redact decad ove applic ag confirm',\n",
       " 'think worst everyth hatr toward countri much bluelivesmatt',\n",
       " 'rise today stori polic brutal polic',\n",
       " 'thank power social media aand',\n",
       " 'word factori race denial prevent heal southafrica leadership transform inequ gt',\n",
       " 'mummersparad dna larg unrep affair busi exist',\n",
       " 'carolin race bait gt lt hate trump wife',\n",
       " 'unbeliev aicl tip never ok tell someon cannot procreat f',\n",
       " 'may correct pay attent communist',\n",
       " 'man come last race declar winner putinscho putinspuppet retweet',\n",
       " 'allahsoil odd die extremist violenc roughli one emirati',\n",
       " 'would never guess would disappoint citi berlin',\n",
       " 'wakemeupwhen left stop hypocrit liberallog',\n",
       " 'allahsoil death cau islam extrem occur civil war terror attack',\n",
       " 'ever peotu complain abt defeat oppon amp pay well elect',\n",
       " 'might libtard libtard sjw liber polit',\n",
       " 'everyday respon',\n",
       " 'year old man still young enough teach sexism say women help',\n",
       " 'reject news latest amwrit aicl',\n",
       " 'peopl protest trump republican trump fuher amp',\n",
       " 'jake right mani ppl lack power take stand amp drown small mind amp oft evil tendenc past',\n",
       " 'go call ball put hashtag onto',\n",
       " 'enough say notmypr wtf neverump unpresid bigot',\n",
       " 'reject news latest amwrit aicl',\n",
       " 'hispan amp feel stomp listen retweet boricua miami',\n",
       " 'kind peopl need era eah surfac',\n",
       " 'pre order sound realli great book',\n",
       " 'retweet baycat msg hope newyear busi end endof tedtalk tedatibm',\n",
       " 'racist',\n",
       " 'mean guy teammichaelpalag teamcanc',\n",
       " 'might libtard libtard sjw liber polit',\n",
       " 'definit mexican fakenews',\n",
       " 'latest blicqer daili thank market',\n",
       " 'inter terrestri scifi sciencefict kindleunlimit cent januari kindl',\n",
       " 'ignor whiteprivileg whitefragil egregi dare speak rest canada',\n",
       " 'scapel woobietuesday block troll promi blacklivesmatt amp',\n",
       " 'america kill obama muslim welcom sign new mexico draw critic islamaphobia',\n",
       " 'gop con vote nazi fascist dictat trump scare littl bulli',\n",
       " 'realli gotten credit one maga trump quot quot potu news media',\n",
       " 'happi new year white peopl elect presid treat women like crap biher disrespect kkk suppo white devil',\n",
       " 'jcpenni rant one one line said anyth silenc complic racism speak pe',\n",
       " 'latest liveleap bonu daili thank amandanun',\n",
       " 'target illeg crimin plain commonsen',\n",
       " 'latest zurich time',\n",
       " 'sikh templ vandali calgari wso condemn act',\n",
       " 'might libtard libtard sjw liber polit',\n",
       " 'thought factori left right polari trump uselect leadership polit brexit blm',\n",
       " 'advei nake fuck whore',\n",
       " 'whitepeopl cou media coverag wp victim fear live mayb probat blackperson',\n",
       " 'alabama victoria secret shopper face racial discrimin video cwt via',\n",
       " 'read list new year afrofutur anarch capit coloni magicr',\n",
       " 'man see wear manchest unit hoodi fan ye man sure even know one player',\n",
       " 'black amp feel like stomp listen retweet tampa miami',\n",
       " 'graduat usa amp friend want forget rector islam',\n",
       " 'black tea',\n",
       " 'conserv white boy yea call punk boy like us like etc annoy',\n",
       " 'alway amaz number excel black athlet want play racist school racist state ncaa',\n",
       " 'boss fire due alleg told hate everyon honestli much commit equal want',\n",
       " 'latest indigen remot daili thank justjust',\n",
       " 'mani us find obama polici repugn make us liber rac',\n",
       " 'noth would taharrush taharrushgamea rapeug',\n",
       " 'allahsoil islam extrem kill ten thousand peopl everi year teambt',\n",
       " 'boycot fathersday blatantli mani sistersofcolour know father plea',\n",
       " 'indianapoli colt black cheerlead hug boy use slur much class',\n",
       " 'true',\n",
       " 'reason stori snapchat seem alway gear toward women',\n",
       " 'sex free sex hotlin number',\n",
       " 'mix w nativ american spanish irish u call',\n",
       " 'newyear new prez new destruct new commerci new new order new tweet new poopin new kid block new america',\n",
       " 'might libtard libtard sjw liber polit',\n",
       " 'enough say notmypr wtf neverump unpresid bigot',\n",
       " 'smile posit effect racist first impress',\n",
       " 'feminismiscanc feminismisterror feminismmuktbharat malevot ignor',\n",
       " 'trump alli wish mad cow disea death obama unfittobeinpublicoff ugli reprehen',\n",
       " 'gop deplor seen mani conserv meme last year notfunni',\n",
       " 'f govern delib tour refug coroni inquest hamid death amp busi',\n",
       " 'newyear wish list cretin carlpaladino elect co chairman presidentelect trump mr amp mr',\n",
       " 'bodi equal bodyimag bodi appear women nuditi nake natur beauti nudist',\n",
       " 'wish black could lot feminist shut amp homophobia',\n",
       " 'mayb dare demon innoc infant born white skin',\n",
       " 'offic jew offici eye libtard mass',\n",
       " 'allahsoil live matter emirati word',\n",
       " 'main stream news media like busili cover small hand misogynist notic',\n",
       " 'famili horribl attack thegreenpalmcottag plettenburgbay westerncap thyini thiza want',\n",
       " 'intol post brexit britain histori show better hugh muir hatecrim uk societi',\n",
       " 'hispan black asian non racist white minor serv militari power',\n",
       " 'good place sta learn abt one person amp bigot mtvwhiteguy',\n",
       " 'listen woman goe church kill thousand fascist brexit l',\n",
       " 'miami offic fire target practic joke policebrut newswith',\n",
       " 'hispan amp feel like stomp listen retweet boricua',\n",
       " 'carlpaladino comment obama make late contend loathsom charact',\n",
       " 'malia shake ass fine pass blunt',\n",
       " 'video lithuania lisa like cuckold write followm',\n",
       " 'mcconnel obstruct goe way back discov obama black',\n",
       " 'sad much hatr toward jew eu amp xian rememb xian kenya nigeria',\n",
       " 'diver offic state among thing killallwhitemen yet ethnic minor woman',\n",
       " 'buy dl book deal whitenationalist miloyiannopoulo wh',\n",
       " 'ever peotu complain abt defeat oppon amp pay well elect',\n",
       " 'go call ball put hashtag onto',\n",
       " 'newyearsev may resolut b end problem like amp domesticviol turn god love',\n",
       " 'messag hope newyear build busi end storytel endof tedtalk tedatibm',\n",
       " 'today donkey zionazi proud murder real palestinian semit children call',\n",
       " 'stock sex site chick get fuck',\n",
       " 'damn bold kentucki jcpenni mexican bitchesbelik',\n",
       " 'trump hair mysteri amp may aver appropri tip black women',\n",
       " 'male privileg huh yeah tcot femin men',\n",
       " 'dear democrat djt allow islamicrad use america freedom destroy r freedom islamopho',\n",
       " 'good afternoon sweeti send letter',\n",
       " 'say would let guy fall ground get wail second call fight',\n",
       " 'chick get fuck c thoma howel nake',\n",
       " 'black judg quietli remov philandocastil shoot trial littl explan newswith',\n",
       " 'guess go back yell',\n",
       " 'hillaryclinton call homophob misogynist realli mean jealou wh',\n",
       " 'need chang profil economicapahi hatespeech get servic poor',\n",
       " 'kkk blm nazi scum hitlerjugend differ color skin leftist amp dem ideolog',\n",
       " 'might libtard libtard sjw liber polit',\n",
       " 'dear media someon born call australian even shitti thing whitepriv',\n",
       " 'white flight derek black kkk trump chang',\n",
       " 'amp e paid kkk fabric stori push produc narr cancel',\n",
       " 'radic counter terrorist see us inhuman free judg color',\n",
       " 'might libtard libtard sjw liber polit',\n",
       " 'harsh even post brexit xenophobia time next chariti call send bugg',\n",
       " 'happi white kwanzaa holiday african whitesupremacist celebr happykwanzaa happyholiday merrychristma',\n",
       " 'whiter kevin federlin',\n",
       " 'falsenarr falseequav comment reflect ignor',\n",
       " 'f govern delib tour refug coroni inquest hamid death amp busi',\n",
       " 'techjunkiejh daili show unpack blackwomen asianmen datingapp',\n",
       " 'destroy one minut janeelliot',\n",
       " 'despi hatr racism cau mani black peopl',\n",
       " 'bama total hypocrit cheer like hell remain silent confederateflag amp stanc',\n",
       " 'deep need know clinton r eat brown bread drinkdark milk',\n",
       " 'lock gate pamgelleheracist mmiw mmiwg',\n",
       " 'allahsoil muslim one displac uncl sam word',\n",
       " 'wow real time back day smackdown unitedstateschampion uschampion sdlive great illeg talk',\n",
       " 'think worst everyth hatr toward countri much bluelivesmatt',\n",
       " 'graduat usa amp friend want forget rector islam',\n",
       " 'end without mention trump femin photograph shockfactor',\n",
       " 'year white liber realiz unjust sexist america',\n",
       " 'trump trump love trump donaldduck sweetpotato bigotri mustfal rachelmaddow rhashtag epitomeofsorrow defineepitom',\n",
       " 'yoya market deme nm sell beer white said close hispan walk n sold',\n",
       " 'shuckinandjivin democraticpay want vote',\n",
       " 'bigot carl paladino alli wish obama dead mad cow disea trumpproofamerica',\n",
       " 'black amp feel like stomp listen retweet tampa miami',\n",
       " 'exp explain best way deal friend amp famili',\n",
       " 'carlpaladino hole extraordinair guy trump hero cour gop fascismo wish obama de',\n",
       " 'racist troll ale great state kentucki listen last thur crab comedi polit elect',\n",
       " 'netanyahuspeech stir anti jewish hate amp twitter progress',\n",
       " 'allahsoil crusad west vs islam terror popular sequel capit vs commun',\n",
       " 'prai cleveland polic rnc polic consent decr white tamirr rip',\n",
       " 'white girl sex black guy nude newzeeland porn',\n",
       " 'show tit idiot',\n",
       " 'travel canuck game sad disappoint oiler fan sad cheer team',\n",
       " 'word factori race denial prevent heal southafrica leadership transform inequ',\n",
       " 'allahsoil market crash march greenspan cut interest rate even',\n",
       " 'cowboy racist convinc fooh nigga got win gon swap white boy shit',\n",
       " 'crazi thing women complementarian complementarian',\n",
       " 'holiday fun social relev podcast celebr bewitch xma ep',\n",
       " 'thought factori left right polari trump uselect leadership polit brexit blm',\n",
       " 'omg use word broad peopl agr w trigger',\n",
       " 'isra invent apaheid goyim word',\n",
       " 'atlanta mayor amp polic forc allow rule citi block road amp freeway w action',\n",
       " 'latest blicqer daili thank ad',\n",
       " 'fuck donald trump never presid opkkk optrump illegitim oligarch plutocrat shill',\n",
       " 'sikh templ vandali calgari wso condemn act',\n",
       " 'cuomo paladino ugli comment obama embarrass new yorker',\n",
       " 'black amp feel like stomp listen retweet tampa miami',\n",
       " 'buffalo school district boot trump alli racist comment birdsofafeath resist',\n",
       " 'might libtard libtard sjw liber polit',\n",
       " 'almost alway trust brazilian',\n",
       " 'person rehir shame claycountydevelopmentcorp pamelaramseytaylor',\n",
       " 'realli tell microaggress race whiteprivileg antiblack',\n",
       " 'ladi said junior area amp ask leav someon complain boss defend',\n",
       " 'like us deploy bc interf genocid within africa stop kill eac',\n",
       " 'wew know diff coupl look guy',\n",
       " 'crazi thing women complementarian complementarian',\n",
       " 'obama join jackal ass america miss obama realiz trump noth trumpism generationkkk',\n",
       " 'yup concur nearli million voter',\n",
       " 'check post confess america controversi equal kaepernick nationala',\n",
       " 'say would let guy fall ground get wail second call fight',\n",
       " 'busi villi wang tedinstitut',\n",
       " 'govern allow behaviour',\n",
       " 'racism amp fascism get rate amp e peopl resist everi time',\n",
       " 'hispan amp feel like stomp listen retweet boricua',\n",
       " 'rode journalist integr greed ambit along total absenc courag',\n",
       " 'donald putin butt buddi commi',\n",
       " 'bruh amp noth new whole deltaairlin debacl would went',\n",
       " 'wait somebodi call see anybodi',\n",
       " 'hey carl paladino look like fire',\n",
       " 'allahsoil neolib priorit money oil pretti much everyth el',\n",
       " 'conormcgregor run mouth endlessli like rondarousey lost yet ppl take glee lose perhap',\n",
       " 'sisterinlaw get frustrat women encount idiot',\n",
       " 'word factori race denial prevent heal southafrica leadership transform inequ',\n",
       " 'end hope messag music industri via',\n",
       " 'christian say racist protest denounc retweet',\n",
       " 'trump ld church stand knew adulteri misogyni bigotri incest pedophilia ra',\n",
       " 'blackpeopl beat whiteperson bp might make cou aliv serv life somehow vs',\n",
       " 'comment reveal disgust realiti stupid circl trump',\n",
       " 'pre crime germani place make wear badg',\n",
       " 'crazi thing women complementarian complementarian',\n",
       " 'ask sale assist heard quickli cop hmm surpri said',\n",
       " 'aw slap face american hey neighbor black bought hou r',\n",
       " 'presidenttrump hope stop fund apaheid terrorist illeg state israel pay back billion',\n",
       " 'joy world instead terror hate war waronchristma spreadlovethischristma love',\n",
       " 'latest zurich time',\n",
       " 'ag pick jeff session scrub racism record even tho argu feloni trumpsamerica',\n",
       " 'felt lawrenc fishburn ad magic negro hollywood stereotyp made',\n",
       " 'shuckin andjivin democraticpay want vote',\n",
       " 'disgust',\n",
       " 'allahsoil islam extrem kill ten thousand peopl everi year teambt',\n",
       " 'michel obama ape heel case begin donaldtrump america',\n",
       " 'broader phenomenon reemerg race scienc american intellectu discour cityjourn',\n",
       " 'american hate',\n",
       " 'oh ye rude nasti behavior brought main stream nevermypresid',\n",
       " 'hispan amp feel like stomp listen retweet boricua miami newyork losangel',\n",
       " 'disgust watch defend career amp intellig inform futur gen laughabl',\n",
       " 'work ellicottsquarebuild buffalo garbag person carlpaladino li',\n",
       " 'academia yehtut offer nuanc take rohingya dvbmultimediagroup yehtut amp',\n",
       " 'emmaston speak hollywood steal joke given men movi',\n",
       " 'billionair chair trump say hope obama die michel goe back male ape africa usa usa meltingpot',\n",
       " 'blackfac prostitut hatespeech brief histori mummersparad behav badli xenophobia',\n",
       " 'sea shepherd suppoer racist antirac seashepherd',\n",
       " 'drsuess moonman offen kkk funni comedi lol edgi dankmem meme vine bush',\n",
       " 'might libtard libtard sjw liber polit',\n",
       " 'anti islamist ralli organi neilerikson shown laugh death footag auspol rwnj tinfoilhat',\n",
       " 'person rehir shame claycountydevelopmentcorp pamelaramseytaylor',\n",
       " 'bullshit thrown muslim',\n",
       " 'john terri chose white christma favourit christma song surpri',\n",
       " 'pic say otherwi young girl confin kitchen void mean beyond cheap public topoli',\n",
       " 'stop chelski fan equal diver',\n",
       " 'alt right promot new kind genet mt',\n",
       " 'trump alli carl paladino slam wish list obama nbc news',\n",
       " 'awesom black man get kkk member disavow befriend blacklivesmatt',\n",
       " 'govt lot answer racist',\n",
       " 'unappet scam women need throw shackl salad food foodi',\n",
       " 'clickbait much realli shitti headlin chang',\n",
       " 'video censor youtub hate speech enjoy maga everythingisracist trigger',\n",
       " 'boob nake assault',\n",
       " 'presid polici isra settlement obama slam treacher anti semit',\n",
       " 'new begin get rid nationdivid good riddanc po',\n",
       " 'coz vid dont mean woh wotch hilari must watc',\n",
       " 'latest indigen remot daili thank justjust',\n",
       " 'black amp feel like stomp listen retweet tampa miami',\n",
       " 'offic woman porn blue tube',\n",
       " 'dear versac wont buy yur retail sign pissedoffitalian',\n",
       " 'newyear wish list cretin carlpaladino elect co chairman presidentelect trump mr amp mr',\n",
       " 'german even fascist rape help',\n",
       " 'aleppo orlando syria trump war berlinattack inequ bagdad nice pari noth celebr getreal',\n",
       " 'happi new year',\n",
       " 'douchebag like dad asshol rapist pedophil evil satanist',\n",
       " 'anyon claim trump ran whitesupremaci platform immedi becom fakenew amp lose credibl',\n",
       " 'buffalo school board demand resign remark made obama pc carlpaladino newyork',\n",
       " 'thank dead white dude europ nigga da list blm rapechucktodd',\n",
       " 'porn video iran fuck girl',\n",
       " 'bitter minoritypresid lost peopl million maga impeachtrump',\n",
       " 'ha good riddanc blacklivesmatt',\n",
       " 'tyler perri claim rever racism critic tlc seri tyler perri claim rever critic',\n",
       " 'victim hatecrim call cr cker truli understand feel like',\n",
       " 'japan abe govern mere puppet ultra rightist group japan confer fascism guardian nytim bbc afp rsf',\n",
       " 'shop purg trump product think canadian',\n",
       " 'delet account shallow go away',\n",
       " 'crook hillari clinton hate black peopl hillari clinton black',\n",
       " 'need fire amp dumb mfer hire genocid promot ass hire graduat',\n",
       " 'chick get fuck c thoma howel nake',\n",
       " 'tonight cologn proudli present gover polic media big stage go',\n",
       " 'ever met would drop po right stood noth crapsac',\n",
       " 'allahsoil term jihad highli contest concept teambt teamsuperjunior',\n",
       " 'hard think still much preval mani societi white rest assur disc',\n",
       " 'man come last race declar winner putinscho putinspuppet retweet',\n",
       " 'washington post editori call racism name salt lake tribun',\n",
       " 'guess shiless man objectifi shiless shiless woman',\n",
       " 'might go hell surpri versac',\n",
       " 'feminismiscanc feminismisterror feminismmuktbharat malevot ignor',\n",
       " 'pure today cologn everybodi look arab kettl femal friend leav better pic media present gov',\n",
       " 'obamalegaci show neg stuff confu obama potu donuldtrump',\n",
       " 'hip trendi scald ach chronic amp choke like smog ever present see',\n",
       " 'uk express photo euref brexit',\n",
       " 'whitepeopl cou media coverag wp victim fear live mayb probat blackperson',\n",
       " 'almost dad wordtrumplethinskin',\n",
       " 'santaproject shop long suppo trump brand hate ivanka maci',\n",
       " 'allahsoil crusad west vs islam terror popular sequel capit vs commun',\n",
       " 'univ wisconsin madison cancel racial bia problem white cour',\n",
       " 'might libtard libtard sjw liber polit',\n",
       " 'might libtard libtard sjw liber polit',\n",
       " 'comment australia opkillingbay seashepherd helpcovedolphin thecov redcov',\n",
       " 'white fragil hard talk white peopl',\n",
       " 'go girl maga',\n",
       " 'millenni think',\n",
       " 'sex video chine women workplac',\n",
       " 'peopl protest trump republican trump fuher amp',\n",
       " 'yoya market deme nm sell beer white said close hispan walk n sold',\n",
       " 'racism amp fascism get rate amp e peopl resist everi time',\n",
       " 'ha good riddanc blacklivesmatt',\n",
       " 'ssn address home network info bill info still speak husband failur',\n",
       " 'scientist child less month old',\n",
       " 'might libtard libtard sjw liber polit',\n",
       " 'smile posit effect racist first impress',\n",
       " 'might libtard libtard sjw liber polit',\n",
       " 'texa princip resign justicereform politician corrupt mean judg',\n",
       " 'disgust need relea wild die mad cow disea',\n",
       " 'book endur convict fred korematsu amp quest justic humanright ht',\n",
       " 'white peopl expat rest us immigr classism imperialsm',\n",
       " 'hamzayusuf apologist like ri jetlag doubletr hilton london',\n",
       " 'wish happi new year homophob warmong worlddang like',\n",
       " 'thought factori left right polari trump uselect leadership polit brexit blm',\n",
       " 'smile posit effect racist first impress',\n",
       " 'special kind stupid liber basi realiti histori must',\n",
       " 'allahsoil cold war also fought oil teambt teamsuperjunior',\n",
       " 'kind tweet want compani rep send',\n",
       " 'us msm barrackobama trump vedic astrolog predict us presid donald trump',\n",
       " 'cuss amp call racist fb work attir thread yep comment dread wouldnt safe ceain job',\n",
       " 'ny cunt campaign co chair unleash obama wish list via fucktrump',\n",
       " 'ouch woow sexi',\n",
       " 'thank mr presid obama light reveal dark peopl usa stronger',\n",
       " 'ppl wait hr airpo miss connect flight put flight hr later',\n",
       " 'might libtard libtard sjw liber polit',\n",
       " 'bewar snowbal effect blackman pa',\n",
       " 'trump suppoer gonna make america great hate hea',\n",
       " 'us citizen find period great contradict ie fascistdemocraci seem',\n",
       " 'even know anymor',\n",
       " 'allahsoil bernank bail wall street dump billion largest bank',\n",
       " 'carlpalidino vomit monster truckload shit usa firstfamili jail hatecrim pig',\n",
       " 'jewish kwanza jehova wit bigot',\n",
       " 'texa man kill latina stepmom celebr cowboy win newswith',\n",
       " 'noth humor jibe u arrog trump offici paladino fire crude obama remark',\n",
       " 'patriotwatch project auspol rwnj upf cult cultism project springst straya',\n",
       " 'iwantto work see name dismantl system whiteprivileg privileg white',\n",
       " 'america owe black africanamerican repar',\n",
       " 'realitycheck polic america cop audiblechannel policebrut socialjust',\n",
       " 'sound look fall back unlik nune good luck',\n",
       " 'come ultra po like surpri surpri maga usa least play golf',\n",
       " 'univ stand hate ignor stupid lie mdcolleg',\n",
       " 'arab islamofascist arab',\n",
       " 'might libtard libtard sjw liber polit',\n",
       " 'blacklivesmatt aryanbrotherhood kkk whiterac alexjon jew gt',\n",
       " 'get world keep spin',\n",
       " 'man come last race declar winner putinscho putinspuppet retweet',\n",
       " 'rode journalist integr greed ambit along total absenc courag',\n",
       " 'free sticker stop sexism stopsex womensright women christma trump',\n",
       " 'hear kurd free equal citizen like state mouthpiec journo claim',\n",
       " 'seriou bs jemel women thrive outsid home',\n",
       " 'manipur ndtv timenow samachar zeenew dordarshan genocid would reaction',\n",
       " 'outrag racism rother dc hope famili sue fail follow advic life guard amp cau',\n",
       " 'fine ill boycott',\n",
       " 'type trash trump paladino attract dumbfuck',\n",
       " 'im attract asian ppl bc im asian tell im attract u bc im in race hoe',\n",
       " 'dr franc cress wel racism defin whitesupremaci drfranciscresswel',\n",
       " 'omfg offend mailbox proud mailboxprid liber',\n",
       " 'black amp feel like stomp retweet tampa miami',\n",
       " 'bookreview lovecraft countri star horror appropri also funni mattruff',\n",
       " 'verizon men moto sale women poweothewomen',\n",
       " 'crook hillari clinton hate black peopl hillari clinton black',\n",
       " 'ask realli want follow done',\n",
       " 'impoant messag publicserviceannounc psa inspirechang embraceyourself bediff dream',\n",
       " 'one mil american reject bigotri amp amp hatr fli flag half mast jan',\n",
       " 'ever think call name true conman traitor draftdodg coward',\n",
       " 'next attack wont japan guarant smaimmigr zeroattack istanbul religionofpeac reliabl',\n",
       " 'newyearsev factophobia ale peopl whose use follow word islamophobia femin culturalenrich',\n",
       " 'like polit one thing pathet',\n",
       " 'jewish kwanza jehova wit bigot',\n",
       " 'say iq low u stand highstool rai iq know blm',\n",
       " 'black amp feel like stomp listen retweet tampa miami',\n",
       " 'holiday violent time begun question impoanc famili familycircu chri',\n",
       " 'pa mil reject putinscho boycott busi amp hatr must stopp',\n",
       " 'dr franc cress wel racism defin whitesupremaci drfranciscresswel',\n",
       " 'anim rima rega blog',\n",
       " 'shot racism shot disparo trompa trumpa migitorio entretei',\n",
       " 'delta fire youtub prankster remov flight speak arab',\n",
       " 'prove small dick make small mind deplorab whitesheet inbr',\n",
       " 'allahsoil bear rapaci hunger oil also seal doom teambt',\n",
       " 'alway white christma household onlywhitechristma',\n",
       " 'also love usa hea suppo trump hate half',\n",
       " 'blacklivesmatt lanasprayberri anoth posit author got go blacktwitt',\n",
       " 'neighbor arrest cop interest kid litter assault ki',\n",
       " 'dare accur poray treasonoustrump china next say fascist lapdog putin',\n",
       " 'video men women malay hot super sexi girl',\n",
       " 'wait somebodi call see anybodi',\n",
       " 'disgust grandmoth grandson exist alreadi',\n",
       " 'thought factori left right polari trump uselect leadership polit brexit blm',\n",
       " 'racism could fuel power need light everyon christma light uk leejasp',\n",
       " 'trump ny campaign chair say sit presid unit state first la',\n",
       " 'video lithuania lisa like cuckold write followm',\n",
       " 'easi bigot',\n",
       " 'thank racist fascist fascism suck refugeeswelcom',\n",
       " 'india willoughbi entitl social innat sick revoltingli entitl tw opi',\n",
       " 'comment donat refugeeswelcom fascist suck kissmyar',\n",
       " 'racial profil cologn disgust',\n",
       " 'turn resign',\n",
       " 'dear plea defin systemicrac economicapaheid da intend add',\n",
       " 'cour liber see everywh look world racist eye',\n",
       " 'trump ld church stand knew adulteri misogyni bigotri incest pedophilia ra',\n",
       " 'sikh templ vandali calgari wso condemn act',\n",
       " 'chick get fuck video big ass havin sex',\n",
       " 'trump alli r unstopp obama via christmasev',\n",
       " 'jissu man pple wait festiv period upset right outrag whene',\n",
       " 'latest post mass kinda monster democraci',\n",
       " 'team new mc amp show phillysuppophilli amp combat',\n",
       " 'might libtard libtard sjw liber polit',\n",
       " 'also upset lost measur useless appendix govern tha',\n",
       " 'insan act korean trampl nation flag nation clearli rapecultur',\n",
       " 'arab prey poor slavelabor',\n",
       " 'famili horribl attack thegreenpalmcottag plettenburgbay westerncap thyini thiza want',\n",
       " 'forget research show sexist men psycholog problem tuckercarlson',\n",
       " 'fantast video buzzf hate men manhat',\n",
       " 'allahsoil riyadh renown deadliest traffic world',\n",
       " 'book german coloni global age ht imperi blm',\n",
       " 'racism america kill obama muslim welcom sign new mexico draw critic',\n",
       " 'vote anim trump america fat chick',\n",
       " 'allahsoil familiar becom difficult stereotyp',\n",
       " 'amp e paid kkk fabric stori push produc narr cancel',\n",
       " 'come powerhungrytraitor hereticfound',\n",
       " 'conormcgregor run mouth endlessli like rondarousey lost yet ppl take glee lose perhap',\n",
       " 'video whole situat boycottdelta expo truth fraud adamsaleh delta prankster',\n",
       " 'show tit idiot',\n",
       " 'amp e scrap controversi kkk seri tv cabl disney boycott',\n",
       " 'itstheendoftheworldand us msm yet honestli expo deep root hatr toward barrackobama base amp trump',\n",
       " 'christma eve christma adam',\n",
       " 'tyler perri say backlash tlc show rever racism new york daili news',\n",
       " 'school board seek oust member jab obama',\n",
       " 'might libtard libtard sjw liber polit',\n",
       " 'fed provid inadequ mentalhealth care firstnat intern memo thirdworldcanada',\n",
       " 'us refu veto resolut israel zionism illegalsettl',\n",
       " 'right wing member back fp gegenrecht nostrach fp noafd nopegida popul nonazi aufstehn',\n",
       " 'word factori race denial prevent heal southafrica leadership transform inequ',\n",
       " 'much hatr xenophobia islamophobia antisemit war much let hope get less',\n",
       " 'alway white christma household onlywhitechristma',\n",
       " 'evid impoanc brexit vote',\n",
       " 'ever met would drop po right stood noth crapsac',\n",
       " 'thank power social media aand',\n",
       " 'word factori race denial prevent heal southafrica leadership transform inequ gt',\n",
       " 'u take king win chess queen downwiththetriarchi thefutureisfem',\n",
       " 'felt lawrenc fishburn ad magic negro hollywood stereotyp made',\n",
       " 'shown us amp bigli believ traitor fraud liar sociopath rapist',\n",
       " 'allahsoil stone human differ graviti differ',\n",
       " 'zionism form',\n",
       " 'news racism resourc develop polit stori inuit watch',\n",
       " 'sexism may harm men mental health men woman',\n",
       " 'cnn call michigan middl school build wall chant tcot',\n",
       " 'enough say notmypr wtf neverump unpresid bigot',\n",
       " 'marijuana prohibit sta detroit mi atlanta tenness alabama georgia florida utah',\n",
       " 'white peopl expat rest us immigr classism imperialsm',\n",
       " 'real antisemit progress minion freedom love american',\n",
       " 'realitycheck polic america cop audiblechannel policebrut socialju',\n",
       " 'agr true overu term result fast becom meaningless',\n",
       " 'btw gandhi india ador witho',\n",
       " 'might libtard libtard sjw liber polit',\n",
       " 'top stori featur christma',\n",
       " 'campaign co chair answer question trump',\n",
       " 'real antisemit progress minion freedom love american',\n",
       " 'excit man attack cat open present cat rep trump yo',\n",
       " 'lanasprayberri fire think choke child wrong arrest parent accept',\n",
       " 'princ charl offer danger robinson wrong trump fascism',\n",
       " 'preach blm skywilliam preach',\n",
       " 'even trump transit team want deal carl paladino comment obama vaniti fair',\n",
       " 'hear kurd free equal citizen like state mouthpiec journo claim',\n",
       " 'advanc valu chain video valuechain',\n",
       " 'carl paladino say michel obama live gorilla resign resign stop',\n",
       " 'multipl type racism america us america',\n",
       " 'enough say notmypr wtf neverump unpresid bigot',\n",
       " 'guy lunat angri ignor viciou man',\n",
       " 'lt feed public trough piggi michelleobama',\n",
       " 'ny cunt campaign co chair unleash obama wish list via fucktrump',\n",
       " 'fear root racism mostli fear ego acknowledg anoth human wor better',\n",
       " 'council staff instruct anc go slow make da look bad expo week ago',\n",
       " 'plea stop',\n",
       " 'supermariorun plea stop offend cultur mad firstworldproblem',\n",
       " 'gonna steal shit least common couesi steal right',\n",
       " 'piec shit hrc email r noth compar u apolog spew pig',\n",
       " 'trump ld church stand knew adulteri misogyni bigotri incest pedophilia ra',\n",
       " 'wow realli cool hardcoresex',\n",
       " 'men creat equal believ mayb stop say hube humphrey bigotri',\n",
       " 'ifyousawinyouwhatis would believ accu regard father',\n",
       " 'allahsoil familiar becom difficult stereotyp',\n",
       " 'openli total obama russia graceless goodbi america first black presid',\n",
       " 'yeah man fuck femin',\n",
       " 'hispan amp like stomp listen retweet boricua miami',\n",
       " 'black femal amp white pornisforlo would shut govegan',\n",
       " 'girl get fuck bondag leather girl',\n",
       " 'never mention race could care yet bitch call david duke imo',\n",
       " 'donkey zionazi proud murder real palestinian semit children call antisemt',\n",
       " 'know uskkk gb msm media amp less racist crazybengiefbp wog say nut',\n",
       " 'hmmm sound familiar held news co',\n",
       " 'tackl system racism bia empathi read sdg edchat',\n",
       " 'today donkey zionazi proud murder real palestinian semit children call',\n",
       " 'let bigot skate true record',\n",
       " 'allahsoil never equat cultur exclu geograph boundari',\n",
       " 'wise word often come black american reaction denzelwashington morganfreeman willsmith',\n",
       " 'kind tweet want compani rep send',\n",
       " 'pre order sound realli great book',\n",
       " 'tell jefferi beauregard quit foolin around come pick hood amp sheet saturda',\n",
       " 'ssn address home network info bill info still speak husband failur',\n",
       " 'engag white call nig subhuman',\n",
       " 'allahsoil islamophobia serv empow extremist emirati word',\n",
       " 'wonder see intellig woman stand ground condescend jerk',\n",
       " 'white establish blk folx run around love promot great',\n",
       " 'falsenarr falseequav comment reflect ignor',\n",
       " 'mani white american actual believ chanc peac w sexualpr amp altright helm moronsmatt',\n",
       " '',\n",
       " 'univ stand hate ignor stupid lie mdcolleg',\n",
       " 'allahsoil odd die extremist violenc roughli one emirati',\n",
       " 'ssn address home network info bill info still speak husband failur',\n",
       " 'pueorico environ injust inflam protest coal ash ty',\n",
       " 'allahsoil jew christian muslim believ good prevail cnn bbc msnbc word',\n",
       " 'true wife sex stori chick get fuck',\n",
       " 'perspect refresh whitesupremaci resist',\n",
       " 'mmusimaiman toward white zuma malema combin da southafrica',\n",
       " 'also free marri like live like apaheid fascism',\n",
       " 'smoke old year new year time marijuana unleash ibook',\n",
       " 'even santa afraid obama amp soro group threaten public safeti amp propey',\n",
       " 'truth sexualharass amp laborviol',\n",
       " 'jew christian muslim believ good prevail emirati',\n",
       " 'homicid rose big citi year wall street journal povey inequ illegalgun',\n",
       " 'ladi said junior area amp ask leav someon complain boss defend',\n",
       " 'work ellicottsquarebuild buffalo garbag person carlpaladino li',\n",
       " 'nite church servic look back ur bibl map biblic event took place jesu amp discipl r ppl color',\n",
       " 'unitedn resolv zionism form',\n",
       " 'hate muzzi',\n",
       " 'defeat ugli prejud lgbt life busi',\n",
       " 'trump alli carl paladino said first ladi go live cave gorilla prick',\n",
       " 'stop chelski fan equal diver',\n",
       " 'truth abt polic amp maga audiblechannel',\n",
       " 'bet hc white would fire year ago fact',\n",
       " 'realli tell microaggress race whiteprivileg antiblack',\n",
       " 'gop con vote nazi fascist dictat trump scare littl bulli',\n",
       " 'say love even mexican lmao',\n",
       " 'far right georgia show euro valu',\n",
       " 'free girl pic galeri girl fuck',\n",
       " 'liz treaci condon ex councillor mark hackett islamophobia',\n",
       " 'trumpsamerica feel empowerd fowoh mother arrest via',\n",
       " 'see driver amp talk african speak english fluentli moron got thou',\n",
       " 'liber self loath mean rest us weapon yell',\n",
       " 'la la land idea poc make ur film u em quit bitch whitey white',\n",
       " 'chick get fuck c thoma howel nake',\n",
       " 'ufc champ amandanun get k beat rondarousey got million sophist',\n",
       " 'buddhist burm noth buddhism period rohingya',\n",
       " 'day govern state counti etc ban smoke say ceain word cloth school',\n",
       " 'washington post editori call racism name salt lake tribun',\n",
       " 'congrat tucker came exactli childish paisanhack',\n",
       " 'nice urg presid elect denounc twitter acct',\n",
       " 'allahsoil peopl origin meant white landhold male',\n",
       " 'thought factori bbc neutral right wing fascism polit media blm brexit trump leadership',\n",
       " 'appar taragon christmassi herb',\n",
       " 'porn video free nude beach photo',\n",
       " 'although bigot misogynist hope still qualifi keepyoureyesonthepr mlk',\n",
       " 'holiday fun social relev podcast celebr bewitch xma ep',\n",
       " 'go fuck yo asshol dumb mafucka',\n",
       " 'icon brand associ trump brand tarnish reput',\n",
       " 'famili horribl attack thegreenpalmcottag plettenburgbay westerncap thyini thiza want',\n",
       " 'thank santa best christma present ever cdnpoli abpoli yyc yeg canada ottawa',\n",
       " 'student gay bar stood next white man said paki jeremyjoseph lgbt',\n",
       " 'share never thoughj experi amp never look caucasian differ watch',\n",
       " 'hillaryclinton call homophob misogynist realli mean jealou wh',\n",
       " 'feminismiscanc feminismisterror feminismmuktbharat malevot ignor',\n",
       " 'sikh templ vandali calgari wso condemn act',\n",
       " 'allahsoil simplist worldview exist today second soundbit emirati',\n",
       " 'hispan amp feel like stomp listen retweet boricua',\n",
       " 'stop chelski fan equal diver',\n",
       " 'see russia syria destroy masjid',\n",
       " 'black brown women intersect mean see bu get thrown whitefemin',\n",
       " 'share never thoughj experi amp never look caucasian differ watch',\n",
       " 'im attract asian ppl bc im asian tell im attract u bc im in race hoe',\n",
       " 'stun respon plan nomin muslimbrotherhood member lead pay',\n",
       " 'amp e paid kkk fabric stori push produc narr cancel',\n",
       " 'mar bar charg guy entri girl like modern sexism sham',\n",
       " 'donkey zionazi proud murder real palestinian semit children call antisemt',\n",
       " 'hope see show feminist reproductiveright bihcontrol',\n",
       " 'would question hillari like consid age condit amp fact',\n",
       " 'thank dead white dude europ nigga da list blm rapechucktodd',\n",
       " 'end selfi love messi cr religion christian mecca live',\n",
       " 'still root societi attitud toward black women hair read candid uyanz',\n",
       " 'presid polici isra settlement obama slam treacher anti semit',\n",
       " 'woman catcal walk newyork shut harass best way ever harass ny manhattan',\n",
       " 'need exit polit journal world exit stage left',\n",
       " 'latest say thank culturesway',\n",
       " 'might libtard libtard sjw liber polit',\n",
       " 'black amp feel like stomp listen retweet tampa miami',\n",
       " 'becom ugli mt patriarchi feminist femin',\n",
       " 'black amp feel like stomp listen retweet tampa miami',\n",
       " 'im done delta airlin rude disrespect comment amp action neverdelta',\n",
       " 'women fair',\n",
       " 'destruct socialist maddow',\n",
       " 'thread fulli bomb racism effect weapon white supremaci test di',\n",
       " 'feminismiscanc feminismisterror feminismmuktbharat malevot ignor',\n",
       " 'must heabreak black within find helpless',\n",
       " 'victim islamophobia adam saleh refer black peopl abe slave one sketch',\n",
       " 'po take paint asshol fuck chump',\n",
       " 'st mark cathedr name racism anti semit xenophobia sin komo news',\n",
       " 'seriou consid perform inaugur lie misogynist',\n",
       " 'wanna fuck id meet',\n",
       " 'sick pre program hillbot rhetor enough alreadi uniti patriot love fe',\n",
       " 'verizon men moto sale women poweothewomen',\n",
       " 'allahsoil term jihad highli contest concept teambt teamsuperjunior',\n",
       " 'white flight derek black kkk trump chang',\n",
       " 'ye let suppo openli prowar anti islam homophob rapist advoc hypocrit',\n",
       " 'exp explain best way deal friend amp famili',\n",
       " 'buy dl book deal whitenationalist miloyiannopoulo wh',\n",
       " 'allahsoil clinton invi hand job champion conserv right',\n",
       " 'might libtard libtard sjw liber polit',\n",
       " 'alreadi happen given russia reason jolli hack fraud',\n",
       " 'nope still struggl see either observ',\n",
       " 'um girl boy mayb gender neutral teenag',\n",
       " 'snowpeopl movi white',\n",
       " 'pa mil reject putinscho boycott busi amp hatr must stopp',\n",
       " 'stop chelski fan equal diver',\n",
       " 'diisgust perk offer passeng race male crew member flt vs arnt',\n",
       " 'end selfi love messi cr religion christian mecca live',\n",
       " 'feminismiscanc feminismisterror feminismmuktbharat malevot ignor',\n",
       " 'obamalegaci show neg stuff confu obama potu donuldtrump',\n",
       " 'th amend blm discuss thank',\n",
       " 'care use term tweet almost',\n",
       " 'girl world jgirl sex',\n",
       " 'texa man kill latina stepmom celebr cowboy win newswith',\n",
       " 'carlpaladino made vile remark presidentobama amp micheleobama trump deplor must go',\n",
       " 'defund aboion send inaugur',\n",
       " 'advanc valu chain video valuechain',\n",
       " 'shown us amp bigli believ traitor fraud liar sociopath rapist',\n",
       " 'greed kill planet human race extinct stopthewar',\n",
       " 'keep colinpowel condoleezzar secretaryofst word use jumpedtheshark',\n",
       " 'ultim joke earli wish tell also wish well',\n",
       " 'terri bradshaw amp georg karl least insensit remark racist melo mike tomlin trump embolden',\n",
       " 'thought factori left right polari trump uselect leadership polit brexit blm',\n",
       " 'guess go back yell',\n",
       " 'terri bradshaw amp georg karl least insensit remark racist melo mike tomlin trump embolden',\n",
       " 'id check polic zero time month cour discrep noth wh',\n",
       " 'trump offici paladino make crude obama remark',\n",
       " 'excel idea dig deep amp hang em high treason aidingenemi fraud coverup benghazi extoion',\n",
       " 'fox new come say bluntli one thing read',\n",
       " 'today donkey zionazi proud murder real palestinian semit children call',\n",
       " 'emma stone hollywood given joke away male co star via',\n",
       " 'thought factori left right polari trump uselect leadership polit brexit blm',\n",
       " 'hard believ live world pa hillari thread trend toni hawk',\n",
       " 'prolap pussi women',\n",
       " 'chepstow gwent polic appeal follow alleg assault wale cymru',\n",
       " 'mud radio songword showmeyoureawoman omg anyon listen word seventi classic signofthetim',\n",
       " 'delta fire youtub prankster remov flight speak arab',\n",
       " 'blackfac prostitut hatespeech brief histori mummersparad behav badli xenophobia',\n",
       " 'dear plea defin systemicrac economicapaheid da intend add',\n",
       " 'allahsoil muslim hate america emirati word',\n",
       " 'nigelfarag mani year critic immigr effect societi shut',\n",
       " 'allahsoil us consum hold media account teambt',\n",
       " 'racism muslim societi dr eren tasar teach islam sblaar',\n",
       " 'feminismiscanc feminismisterror feminismmuktbharat malevot ignor',\n",
       " 'wow blog',\n",
       " 'need black page girl shut nomor page well homophobia page bringbackpag',\n",
       " 'french tri stone amp kill indian quebec crimin',\n",
       " 'got done threaten cowork give money say black male illeg smh realli',\n",
       " 'blackpeopl beat whiteperson bp might make cou aliv serv life somehow vs',\n",
       " 'jeffsess omit decad record ag confirm hear surpri weasel',\n",
       " 'ye let suppo openli prowar anti islam homophob rapist advoc hypocrit',\n",
       " 'holiday fun social relev podcast celebr bewitch xma ep',\n",
       " 'power women work trump racist sexist never bash trump',\n",
       " 'awar facebook legislatur',\n",
       " 'washington post editori call racism name salt lake tribun',\n",
       " 'allahsoil muslim islam extremist emirati',\n",
       " 'donald putin butt buddi commi',\n",
       " 'plea stop call canada icon dept store noth icon suppo',\n",
       " 'sikh templ vandali calgari wso condemn act',\n",
       " 'trump fascist amp bigot misogynist sexualpr proven word',\n",
       " 'microsoft twitterbot turn rage sexist genocid defend ai tech',\n",
       " 'constantli let lack fat male role model especi emoji',\n",
       " 'trump view women explain b michelleobama womensmarch women predat',\n",
       " 'black girl porn teen virgin sex pictur',\n",
       " 'sure sunderland alon incid sunderland doubl brexit vote',\n",
       " 'kind expect trump amrica',\n",
       " 'emmaston speak hollywood steal joke given men movi',\n",
       " 'bustyesco haha realli great',\n",
       " 'allahsoil live matter emirati word',\n",
       " 'tragic white american prompt mani vote candid slash ow',\n",
       " 'misogyni aliv well left never let tell',\n",
       " 'alway white christma household onlywhitechristma',\n",
       " 'bewar market taint messag',\n",
       " 'allahsoil familiar becom difficult stereotyp emirati',\n",
       " 'kkk blm nazi scum hitlerjugend differ color skin leftist amp dem ideolog',\n",
       " 'plea forget use word bind men never ignor excu',\n",
       " 'stop tri find even happen airingofthegriev',\n",
       " 'get low key play trump foolish request chang judg got wall wall coverag',\n",
       " 'jeffsess think notic redact decad ove applic ag confirm',\n",
       " 'michel obama done',\n",
       " 'chepstow gwent polic appeal follow alleg assault wale cymru',\n",
       " 'allahsoil cold war fought oil teambt teamsuperjunior',\n",
       " 'travel canuck game sad disappoint oiler fan sad cheer team',\n",
       " 'need chang profil economicapahi hatespeech get servic poor',\n",
       " 'pmet uk youth parliament democraci amp listen free app',\n",
       " 'mcconnel obstruct goe way back discov obama black',\n",
       " 'women facil program cool empow men facil program gay misogynist doublestan',\n",
       " 'plea retweet video spark outrag white offic arrest black mother litter argument',\n",
       " 'say asham thing done continu make shame remark women hypocrit',\n",
       " 'christian say racist protest denounc retweet',\n",
       " 'millenni shock hillari quot think theyr trump',\n",
       " 'nobdi want kiss lie conaist homophob islamaphob russianhack nomand traitor',\n",
       " 'like know buy pot local drug store marijuana unleash ibook',\n",
       " 'psa age inform true ethnic biblic peopl cau overlap',\n",
       " 'special kind stupid liber basi realiti histori must',\n",
       " 'ny develop racist deathwish',\n",
       " 'video men womenmalayalam ametur porn video',\n",
       " 'carl paladino former trump campaign offici unpresid trump',\n",
       " 'coz vid dont mean woh wotch hilari must watc',\n",
       " 'hispan amp feel like listen retweet boricua miami',\n",
       " 'carlpaladino trump offici underfir obama remark',\n",
       " 'po take paint asshol fuck chump',\n",
       " 'hidden america rampant blatant racism',\n",
       " 'cambersand death blame victim cultur council pay lifeguard mayb wow',\n",
       " 'btw gandhi india ador without follow',\n",
       " 'share never thoughj experi amp never look caucasian differ watch',\n",
       " 'nutshel',\n",
       " 'deafen silenc anti racist activist regard porn hard comprehend htt',\n",
       " 'today donkey zionazi proud murder real palestinian semit children call',\n",
       " 'kevin macdonald ethnocentr normal ration race ethnocentr',\n",
       " 'pastor maiman respond zill boss liter made kiss job goodbi shou',\n",
       " 'ever peotu complain abt defeat oppon amp pay well elect',\n",
       " 'man come last race declar winner putinscho putinspuppet retweet',\n",
       " 'profit thing im america',\n",
       " 'allahsoil bernank bail wall street dump billion largest bank',\n",
       " 'allahsoil revolut occur marx expect teambt teamsuperjunior',\n",
       " 'wen south choo dark south heroin kajal tamanna ami wtf',\n",
       " 'might libtard libtard sjw liber polit',\n",
       " 'reli bankruptci protect keep ego billionair use xenopbobia',\n",
       " 'hispan amp feel like stomp listen retweet boricua',\n",
       " 'reagan convinc ksa flood market drive oil price histor low allahsoil teambt cnn',\n",
       " 'good bolt job disadvantag white privileg calmli educ white peopl abou',\n",
       " 'universityofwisconsinmadison offer problemofwhit cour gonna blatantli snowflak orgasm',\n",
       " 'find burka offen implic men control sight uncov',\n",
       " 'well said staywok',\n",
       " 'allahsoil death cau islam extrem occur civil war terror attack',\n",
       " 'agr true overu term result fast becomin',\n",
       " 'hispan feel like stomp listen retweet boricua',\n",
       " 'might libtard libtard sjw liber polit',\n",
       " 'well sewer rat take cent use watch footbal hate',\n",
       " 'notmypresid ever misogynist traitor theresist putinsbitch',\n",
       " 'jew plan work god without god matthew call immanuel whic',\n",
       " 'transsexi nake boob',\n",
       " 'go call ball put hashtag onto',\n",
       " 'feminismiscanc feminismisterror feminismmuktbharat malevot ignor',\n",
       " 'homicid rose big citi year wall street journal povey inequ illegalgun',\n",
       " 'techjunkiejh alt right site plan fake black person twitter campaign socialmedia',\n",
       " 'hello sweeti glad see',\n",
       " 'wait somebodi call see anybodi',\n",
       " 'allahsoil problem space altern explan emirati',\n",
       " 'chick get fuck c thoma howel nake',\n",
       " 'lock gate pamgelleheracist mmiw mmiwg',\n",
       " 'jew christian muslim believ good prevail emirati',\n",
       " 'reason stori snapchat seem alway gear toward women',\n",
       " 'also keyboard type cau coopt terrorist reg syria autocorrect cau color terrorist',\n",
       " 'lgbti poc need speak rife within lgbti commun unaccept',\n",
       " 'next klan meet wife white amp proud amp love gift',\n",
       " 'damn video racist hillari say talk white peopl hillari',\n",
       " 'mani pol pass mani time said noth bluelivesmatt draintheswamp ferguson',\n",
       " 'louisvil kentucki woman goe rant jcpenni exposerac ignor',\n",
       " 'misogoni spectrum vote',\n",
       " 'basic sum brexit mean britain euroscept xenophob isolationist tribal',\n",
       " 'hate putinspuppet love attent januari',\n",
       " 'agr',\n",
       " 'hope see show feminist reproductiveright bihcontrol',\n",
       " 'go girl maga',\n",
       " 'like msian opposit claim bangladeshi vote bn evid yet peopl believ anyway',\n",
       " 'truli sad lot work class men resent offer help woman evolut still lot',\n",
       " 'revolut occur marx expect teambt teamsuperjunior',\n",
       " 'inter terrestri scifi sciencefict kindleunlimit cent januari kindl',\n",
       " 'j c penney employ hold custom headlock wow havent respond corporateb boycottjcpenney',\n",
       " 'go girl maga',\n",
       " 'team new mc amp show phillysuppophilli amp combat',\n",
       " 'pre emperor san cloth neveool stop hate misogyni',\n",
       " 'need differ word altogeth defin hatr white men satisfi hate ppl like',\n",
       " 'r u racist',\n",
       " 'w prop jesu black white promot hate biggotri need call vile scum',\n",
       " 'cuomo paladino racist ugli comment obama embarrass new yorker polit c',\n",
       " 'carl palladino unfit buffalo school board resign',\n",
       " 'school board seek oust member jab obama',\n",
       " 'reli bankruptci protect keep ego billionair use xenopbobia',\n",
       " 'feminismiscanc feminismisterror feminismmuktbharat malevot ignor',\n",
       " 'allahsoil reagan convinc ksa flood market drive oil price histor low',\n",
       " 'jeffsess think notic redact decad ove applic ag confirm',\n",
       " 'look like damn fool year usa openli oppo settlement bulid israel',\n",
       " 'allahsoil lehman brother went belli septemb word islam',\n",
       " 'uk increa gb politician impo immigr infidel childabu cultur coff backhand',\n",
       " 'ye call michelleobama gorilla racist long thought black peopl bet',\n",
       " 'emoji inexist rever via',\n",
       " 'hispan amp like stomp listen retweet boricua miami',\n",
       " 'allahsoil say muslim hate america suggest emirat',\n",
       " 'men think misogyni issu way white peopl think issu tri listen instead',\n",
       " 'stun respon plan nomin muslimbrotherhood member lead pay',\n",
       " 'black hair come differ style slaveri coloni polic coloni slaveri tie',\n",
       " 'greet us world discrimin',\n",
       " 'ppl wait hr airpo miss connect flight put flight hr later',\n",
       " 'obamalegaci show neg stuff confu obama potu donuldtrump',\n",
       " 'empow trump absolut scari cud slip danger level look legisl attack',\n",
       " 'oop carlpaladino mean publicli post comment via',\n",
       " 'ufc champ amandanun get k beat rondarousey got million sophist',\n",
       " 'marxist evil jew propoganda jew control media never never cite non white grou',\n",
       " 'point one finger million point right back jewishsupremacist',\n",
       " 'allahsoil islam extrem kill ten thousand peopl everi year teambt',\n",
       " 'trump alli r unstopp obama via christmasev',\n",
       " 'great tedtalk storytel nye',\n",
       " 'vestal newyork pupil su school district alleg classroom incid usa',\n",
       " 'donaldtrump ny campaign co chair carlpaladino unleash obama wish list mic',\n",
       " 'hey hate nobodi come close fearmong misogni scum',\n",
       " 'electoralcolleg elect presid trump notmypresid newswith',\n",
       " 'traffick amp profit use word nigger sell music',\n",
       " 'racist never cea rant',\n",
       " 'one requir job us presid male stillwithh hillaryclinton neverump',\n",
       " ...]"
      ]
     },
     "execution_count": 16,
     "metadata": {},
     "output_type": "execute_result"
    }
   ],
   "source": [
    "# X_tr1=X_tr.split('\\n')\n",
    "# y_tr1=y_tr.split('\\n')\n",
    "[str(item) for item in X_tr]"
   ]
  },
  {
   "cell_type": "code",
   "execution_count": 17,
   "metadata": {},
   "outputs": [],
   "source": [
    "pickle.dump(vec, open(\"../pickle/vec.pickle\", \"wb\"))"
   ]
  },
  {
   "cell_type": "code",
   "execution_count": 18,
   "metadata": {},
   "outputs": [],
   "source": [
    "import matplotlib.pyplot as plt\n",
    "import seaborn as sns"
   ]
  },
  {
   "cell_type": "code",
   "execution_count": 19,
   "metadata": {},
   "outputs": [],
   "source": [
    "def get_metrics(X, y, y_pred, model):\n",
    "    acc = accuracy_score(y, y_pred)\n",
    "    f1 = f1_score(y, y_pred)\n",
    "    rec = recall_score(y, y_pred)\n",
    "    prec = precision_score(y, y_pred)\n",
    "    \n",
    "    \n",
    "    print('Accuracy: ', acc)\n",
    "    print('F1: ', f1)\n",
    "    print('Recall: ', rec)\n",
    "    print('Precision: ', prec)\n",
    "   \n",
    "\n",
    "def get_confusion(y, y_pred):\n",
    "    cnf = confusion_matrix(y, y_pred)\n",
    "    group_names = ['TN','FP','FN','TP']\n",
    "    group_counts = ['{0:0.0f}'.format(value) for value in cnf.flatten()]\n",
    "    group_percentages = ['{0:.2%}'.format(value) for value in cnf.flatten()/np.sum(cnf)]\n",
    "    labels = [f'{v1}\\n{v2}\\n{v3}' for v1, v2, v3 in zip(group_names, group_counts, group_percentages)]\n",
    "    labels = np.asarray(labels).reshape(2,2)\n",
    "    fig, ax = plt.subplots(figsize=(4,4))\n",
    "    sns.heatmap(cnf, annot=labels, fmt='', cmap='Blues', annot_kws={'size':14}, cbar=False, xticklabels=False, yticklabels=False)"
   ]
  },
  {
   "cell_type": "code",
   "execution_count": 20,
   "metadata": {},
   "outputs": [
    {
     "data": {
      "text/plain": [
       "1    22290\n",
       "0    22290\n",
       "Name: target, dtype: int64"
      ]
     },
     "execution_count": 20,
     "metadata": {},
     "output_type": "execute_result"
    }
   ],
   "source": [
    "train.target.value_counts()"
   ]
  },
  {
   "attachments": {},
   "cell_type": "markdown",
   "metadata": {},
   "source": [
    "## Multinomial Naive Bayes Model"
   ]
  },
  {
   "cell_type": "code",
   "execution_count": 21,
   "metadata": {},
   "outputs": [
    {
     "name": "stdout",
     "output_type": "stream",
     "text": [
      "Accuracy:  0.9438088829071333\n",
      "F1:  0.945714595297432\n",
      "Recall:  0.9789143113503813\n",
      "Precision:  0.9146929364913016\n"
     ]
    },
    {
     "data": {
      "image/png": "[encoded data removed]",
      "text/plain": [
       "<Figure size 400x400 with 1 Axes>"
      ]
     },
     "metadata": {},
     "output_type": "display_data"
    }
   ],
   "source": [
    "nb = MultinomialNB().fit(tfidf_tr, y_tr)\n",
    "y_pr_nb_val = nb.predict(tfidf_val)\n",
    "get_metrics(tfidf_val, y_val, y_pr_nb_val, nb)\n",
    "get_confusion(y_val,y_pr_nb_val)"
   ]
  },
  {
   "attachments": {},
   "cell_type": "markdown",
   "metadata": {},
   "source": [
    "## Random Forest Classifier"
   ]
  },
  {
   "cell_type": "code",
   "execution_count": 22,
   "metadata": {},
   "outputs": [
    {
     "name": "stdout",
     "output_type": "stream",
     "text": [
      "Accuracy:  0.9826155226558995\n",
      "F1:  0.9828368951389659\n",
      "Recall:  0.9955136832660386\n",
      "Precision:  0.9704788978788541\n"
     ]
    },
    {
     "data": {
      "image/png": "[encoded data removed]",
      "text/plain": [
       "<Figure size 400x400 with 1 Axes>"
      ]
     },
     "metadata": {},
     "output_type": "display_data"
    }
   ],
   "source": [
    "rf = RandomForestClassifier(n_estimators=100, random_state=42).fit(tfidf_tr, y_tr)\n",
    "y_pr_rf_val = rf.predict(tfidf_val)\n",
    "get_metrics(tfidf_val, y_val, y_pr_rf_val, rf)\n",
    "get_confusion(y_val,y_pr_rf_val)"
   ]
  },
  {
   "attachments": {},
   "cell_type": "markdown",
   "metadata": {},
   "source": [
    "## Logistic Regression"
   ]
  },
  {
   "cell_type": "code",
   "execution_count": 23,
   "metadata": {},
   "outputs": [
    {
     "name": "stdout",
     "output_type": "stream",
     "text": [
      "Accuracy:  0.9700538358008075\n",
      "F1:  0.970487454404775\n",
      "Recall:  0.9847465231045311\n",
      "Precision:  0.9566354325561125\n"
     ]
    },
    {
     "data": {
      "image/png": "[encoded data removed]",
      "text/plain": [
       "<Figure size 400x400 with 1 Axes>"
      ]
     },
     "metadata": {},
     "output_type": "display_data"
    }
   ],
   "source": [
    "model = LogisticRegression(penalty='l2', C=1.0, solver='liblinear',random_state=42)\n",
    "log = model.fit(tfidf_tr, y_tr)\n",
    "y_pr_log_val = log.predict(tfidf_val)\n",
    "get_metrics(tfidf_val, y_val, y_pr_log_val, log)\n",
    "get_confusion(y_val,y_pr_log_val)"
   ]
  },
  {
   "attachments": {},
   "cell_type": "markdown",
   "metadata": {},
   "source": [
    "## Support Vector Machine"
   ]
  },
  {
   "cell_type": "code",
   "execution_count": 24,
   "metadata": {},
   "outputs": [
    {
     "name": "stdout",
     "output_type": "stream",
     "text": [
      "Accuracy:  0.9798115746971736\n",
      "F1:  0.9800796812749004\n",
      "Recall:  0.9932705248990579\n",
      "Precision:  0.9672346002621232\n"
     ]
    },
    {
     "data": {
      "image/png": "[encoded data removed]",
      "text/plain": [
       "<Figure size 400x400 with 1 Axes>"
      ]
     },
     "metadata": {},
     "output_type": "display_data"
    }
   ],
   "source": [
    "svc = svm.LinearSVC(random_state=42).fit(tfidf_tr, y_tr)\n",
    "y_pr_svc_val = svc.predict(tfidf_val)\n",
    "get_metrics(tfidf_val, y_val, y_pr_svc_val, svc)\n",
    "get_confusion(y_val,y_pr_svc_val)"
   ]
  },
  {
   "attachments": {},
   "cell_type": "markdown",
   "metadata": {},
   "source": [
    "## AdaBoost Classifier"
   ]
  },
  {
   "cell_type": "code",
   "execution_count": 25,
   "metadata": {},
   "outputs": [
    {
     "name": "stdout",
     "output_type": "stream",
     "text": [
      "Accuracy:  0.8697846567967699\n",
      "F1:  0.8633635400729669\n",
      "Recall:  0.822790489008524\n",
      "Precision:  0.9081455805892548\n"
     ]
    },
    {
     "data": {
      "image/png": "[encoded data removed]",
      "text/plain": [
       "<Figure size 400x400 with 1 Axes>"
      ]
     },
     "metadata": {},
     "output_type": "display_data"
    }
   ],
   "source": [
    "abc = AdaBoostClassifier(\n",
    "    DecisionTreeClassifier(max_depth=1),\n",
    "    n_estimators=200,\n",
    "    random_state=42\n",
    "    ).fit(tfidf_tr, y_tr)\n",
    "y_pr_abc_val = abc.predict(tfidf_val)\n",
    "y_pr_svc_val\n",
    "get_metrics(tfidf_val, y_val, y_pr_abc_val, abc)\n",
    "get_confusion(y_val,y_pr_abc_val)"
   ]
  },
  {
   "attachments": {},
   "cell_type": "markdown",
   "metadata": {},
   "source": [
    "## Gradient Boosting"
   ]
  },
  {
   "cell_type": "code",
   "execution_count": 26,
   "metadata": {},
   "outputs": [
    {
     "name": "stdout",
     "output_type": "stream",
     "text": [
      "Accuracy:  0.8018169582772544\n",
      "F1:  0.7703703703703704\n",
      "Recall:  0.6648721399730821\n",
      "Precision:  0.9156626506024096\n"
     ]
    },
    {
     "data": {
      "image/png": "[encoded data removed]",
      "text/plain": [
       "<Figure size 400x400 with 1 Axes>"
      ]
     },
     "metadata": {},
     "output_type": "display_data"
    }
   ],
   "source": [
    "gbc = GradientBoostingClassifier(random_state=42).fit(tfidf_tr, y_tr)\n",
    "y_pr_gbc_val = gbc.predict(tfidf_val)\n",
    "get_metrics(tfidf_val, y_val, y_pr_gbc_val, gbc)\n",
    "get_confusion(y_val,y_pr_gbc_val)"
   ]
  },
  {
   "attachments": {},
   "cell_type": "markdown",
   "metadata": {},
   "source": [
    "## Metrics Dataframe"
   ]
  },
  {
   "cell_type": "code",
   "execution_count": 78,
   "metadata": {},
   "outputs": [],
   "source": [
    "data = {'Accuracy': [accuracy_score(y_val, y_pr_nb_val), \n",
    "                     accuracy_score(y_val, y_pr_rf_val), \n",
    "                     accuracy_score(y_val, y_pr_log_val), \n",
    "                     accuracy_score(y_val, y_pr_svc_val),\n",
    "                     accuracy_score(y_val, y_pr_abc_val),\n",
    "                     accuracy_score(y_val, y_pr_gbc_val)],\n",
    "        'F1 Score': [f1_score(y_val, y_pr_nb_val), \n",
    "                     f1_score(y_val, y_pr_rf_val), \n",
    "                     f1_score(y_val, y_pr_log_val), \n",
    "                     f1_score(y_val, y_pr_svc_val),\n",
    "                     f1_score(y_val, y_pr_abc_val),\n",
    "                     f1_score(y_val, y_pr_gbc_val)],\n",
    "        'Recall': [recall_score(y_val, y_pr_nb_val), \n",
    "                   recall_score(y_val, y_pr_rf_val), \n",
    "                   recall_score(y_val, y_pr_log_val),\n",
    "                   recall_score(y_val, y_pr_svc_val),\n",
    "                   recall_score(y_val, y_pr_abc_val),\n",
    "                   recall_score(y_val, y_pr_gbc_val)],\n",
    "        'Precision': [precision_score(y_val, y_pr_nb_val), \n",
    "                      precision_score(y_val, y_pr_rf_val), \n",
    "                      precision_score(y_val, y_pr_log_val),\n",
    "                      precision_score(y_val, y_pr_svc_val),\n",
    "                      precision_score(y_val, y_pr_abc_val),\n",
    "                      precision_score(y_val, y_pr_gbc_val)]\n",
    "        }\n",
    "metrics_on_validation_data = pd.DataFrame(data=data, index = ['Multinomial Naive Bayes', \n",
    "                                            'Random Forest',\n",
    "                                            'Logistic Regression',\n",
    "                                            'Support Vector Machine', \n",
    "                                            'AdaBoost Classifier', \n",
    "                                            'Gradient Boosting Classifier'])"
   ]
  },
  {
   "attachments": {},
   "cell_type": "markdown",
   "metadata": {},
   "source": [
    "# Metrics on validation Data"
   ]
  },
  {
   "cell_type": "code",
   "execution_count": 79,
   "metadata": {},
   "outputs": [],
   "source": [
    "metrics_on_validation_data\n",
    "metrics_on_validation_data.to_csv(\"../data/metrics/metrics_on_validation_data.csv\")"
   ]
  },
  {
   "cell_type": "code",
   "execution_count": 80,
   "metadata": {},
   "outputs": [
    {
     "data": {
      "text/html": [
       "<div>\n",
       "<style scoped>\n",
       "    .dataframe tbody tr th:only-of-type {\n",
       "        vertical-align: middle;\n",
       "    }\n",
       "\n",
       "    .dataframe tbody tr th {\n",
       "        vertical-align: top;\n",
       "    }\n",
       "\n",
       "    .dataframe thead th {\n",
       "        text-align: right;\n",
       "    }\n",
       "</style>\n",
       "<table border=\"1\" class=\"dataframe\">\n",
       "  <thead>\n",
       "    <tr style=\"text-align: right;\">\n",
       "      <th></th>\n",
       "      <th>Accuracy</th>\n",
       "      <th>F1 Score</th>\n",
       "      <th>Recall</th>\n",
       "      <th>Precision</th>\n",
       "    </tr>\n",
       "  </thead>\n",
       "  <tbody>\n",
       "    <tr>\n",
       "      <th>Multinomial Naive Bayes</th>\n",
       "      <td>0.943809</td>\n",
       "      <td>0.945715</td>\n",
       "      <td>0.978914</td>\n",
       "      <td>0.914693</td>\n",
       "    </tr>\n",
       "    <tr>\n",
       "      <th>Random Forest</th>\n",
       "      <td>0.982616</td>\n",
       "      <td>0.982837</td>\n",
       "      <td>0.995514</td>\n",
       "      <td>0.970479</td>\n",
       "    </tr>\n",
       "    <tr>\n",
       "      <th>Logistic Regression</th>\n",
       "      <td>0.970054</td>\n",
       "      <td>0.970487</td>\n",
       "      <td>0.984747</td>\n",
       "      <td>0.956635</td>\n",
       "    </tr>\n",
       "    <tr>\n",
       "      <th>Support Vector Machine</th>\n",
       "      <td>0.979812</td>\n",
       "      <td>0.980080</td>\n",
       "      <td>0.993271</td>\n",
       "      <td>0.967235</td>\n",
       "    </tr>\n",
       "    <tr>\n",
       "      <th>AdaBoost Classifier</th>\n",
       "      <td>0.869785</td>\n",
       "      <td>0.863364</td>\n",
       "      <td>0.822790</td>\n",
       "      <td>0.908146</td>\n",
       "    </tr>\n",
       "    <tr>\n",
       "      <th>Gradient Boosting Classifier</th>\n",
       "      <td>0.801817</td>\n",
       "      <td>0.770370</td>\n",
       "      <td>0.664872</td>\n",
       "      <td>0.915663</td>\n",
       "    </tr>\n",
       "  </tbody>\n",
       "</table>\n",
       "</div>"
      ],
      "text/plain": [
       "                              Accuracy  F1 Score    Recall  Precision\n",
       "Multinomial Naive Bayes       0.943809  0.945715  0.978914   0.914693\n",
       "Random Forest                 0.982616  0.982837  0.995514   0.970479\n",
       "Logistic Regression           0.970054  0.970487  0.984747   0.956635\n",
       "Support Vector Machine        0.979812  0.980080  0.993271   0.967235\n",
       "AdaBoost Classifier           0.869785  0.863364  0.822790   0.908146\n",
       "Gradient Boosting Classifier  0.801817  0.770370  0.664872   0.915663"
      ]
     },
     "execution_count": 80,
     "metadata": {},
     "output_type": "execute_result"
    }
   ],
   "source": [
    "metrics_on_validation_data"
   ]
  },
  {
   "cell_type": "code",
   "execution_count": null,
   "metadata": {},
   "outputs": [],
   "source": [
    "pkl_filename = \"pickle_model.pkl\"\n",
    "with open(pkl_filename, 'wb') as file:\n",
    "    pickle.dump(nb, file)\n"
   ]
  },
  {
   "attachments": {},
   "cell_type": "markdown",
   "metadata": {},
   "source": [
    "# Test Set (Final Evaluation)"
   ]
  },
  {
   "cell_type": "code",
   "execution_count": 28,
   "metadata": {},
   "outputs": [],
   "source": [
    "X_tt = test.tweet\n",
    "y_tt = test.target\n",
    "tfidf_tt = vec.transform(X_tt)\n"
   ]
  },
  {
   "cell_type": "code",
   "execution_count": 31,
   "metadata": {},
   "outputs": [],
   "source": [
    "y_pr_nb_tt = nb.predict(tfidf_tt)\n",
    "y_pr_rf_tt = rf.predict(tfidf_tt)\n",
    "y_pr_log_tt = log.predict(tfidf_tt)\n",
    "y_pr_svc_tt = svc.predict(tfidf_tt)\n",
    "y_pr_abc_tt = abc.predict(tfidf_tt)\n",
    "y_pr_gbc_tt = gbc.predict(tfidf_tt)\n"
   ]
  },
  {
   "cell_type": "code",
   "execution_count": 32,
   "metadata": {},
   "outputs": [
    {
     "name": "stdout",
     "output_type": "stream",
     "text": [
      "Accuracy:  0.9404441453566622\n",
      "F1:  0.9425138031828516\n",
      "Recall:  0.9764468371467026\n",
      "Precision:  0.9108600125549278\n"
     ]
    },
    {
     "data": {
      "image/png": "[encoded data removed]",
      "text/plain": [
       "<Figure size 400x400 with 1 Axes>"
      ]
     },
     "metadata": {},
     "output_type": "display_data"
    }
   ],
   "source": [
    "get_metrics(tfidf_tt, y_tt, y_pr_nb_tt, nb)\n",
    "get_confusion(y_tt, y_pr_nb_tt)"
   ]
  },
  {
   "cell_type": "code",
   "execution_count": 33,
   "metadata": {},
   "outputs": [
    {
     "name": "stdout",
     "output_type": "stream",
     "text": [
      "Accuracy:  0.982671601615074\n",
      "F1:  0.9829385456352494\n",
      "Recall:  0.9983176312247645\n",
      "Precision:  0.968026101141925\n"
     ]
    },
    {
     "data": {
      "image/png": "[encoded data removed]",
      "text/plain": [
       "<Figure size 400x400 with 1 Axes>"
      ]
     },
     "metadata": {},
     "output_type": "display_data"
    }
   ],
   "source": [
    "get_metrics(tfidf_tt, y_tt, y_pr_rf_tt, rf)\n",
    "get_confusion(y_tt, y_pr_rf_tt)"
   ]
  },
  {
   "cell_type": "code",
   "execution_count": 34,
   "metadata": {},
   "outputs": [
    {
     "name": "stdout",
     "output_type": "stream",
     "text": [
      "Accuracy:  0.9658479138627187\n",
      "F1:  0.9664739884393063\n",
      "Recall:  0.9845222072678331\n",
      "Precision:  0.9490755757379176\n"
     ]
    },
    {
     "data": {
      "image/png": "[encoded data removed]",
      "text/plain": [
       "<Figure size 400x400 with 1 Axes>"
      ]
     },
     "metadata": {},
     "output_type": "display_data"
    }
   ],
   "source": [
    "get_metrics(tfidf_tt, y_tt, y_pr_log_tt, log)\n",
    "get_confusion(y_tt, y_pr_log_tt)"
   ]
  },
  {
   "cell_type": "code",
   "execution_count": 35,
   "metadata": {},
   "outputs": [
    {
     "name": "stdout",
     "output_type": "stream",
     "text": [
      "Accuracy:  0.9789703903095559\n",
      "F1:  0.9792531120331951\n",
      "Recall:  0.9925975773889637\n",
      "Precision:  0.9662626924336718\n"
     ]
    },
    {
     "data": {
      "image/png": "[encoded data removed]",
      "text/plain": [
       "<Figure size 400x400 with 1 Axes>"
      ]
     },
     "metadata": {},
     "output_type": "display_data"
    }
   ],
   "source": [
    "get_metrics(tfidf_tt, y_tt, y_pr_svc_tt, svc)\n",
    "get_confusion(y_tt, y_pr_svc_tt)"
   ]
  },
  {
   "cell_type": "code",
   "execution_count": 36,
   "metadata": {},
   "outputs": [
    {
     "name": "stdout",
     "output_type": "stream",
     "text": [
      "Accuracy:  0.8605316285329744\n",
      "F1:  0.853559441794736\n",
      "Recall:  0.8129205921938089\n",
      "Precision:  0.898475269616958\n"
     ]
    },
    {
     "data": {
      "image/png": "[encoded data removed]",
      "text/plain": [
       "<Figure size 400x400 with 1 Axes>"
      ]
     },
     "metadata": {},
     "output_type": "display_data"
    }
   ],
   "source": [
    "get_metrics(tfidf_tt, y_tt, y_pr_abc_tt, abc)\n",
    "get_confusion(y_tt, y_pr_abc_tt)"
   ]
  },
  {
   "cell_type": "code",
   "execution_count": 37,
   "metadata": {},
   "outputs": [
    {
     "name": "stdout",
     "output_type": "stream",
     "text": [
      "Accuracy:  0.7971063257065949\n",
      "F1:  0.7656432180334241\n",
      "Recall:  0.6628532974427994\n",
      "Precision:  0.906163753449862\n"
     ]
    },
    {
     "data": {
      "image/png": "[encoded data removed]",
      "text/plain": [
       "<Figure size 400x400 with 1 Axes>"
      ]
     },
     "metadata": {},
     "output_type": "display_data"
    }
   ],
   "source": [
    "get_metrics(tfidf_tt, y_tt, y_pr_gbc_tt, gbc)\n",
    "get_confusion( y_tt, y_pr_gbc_tt)"
   ]
  },
  {
   "cell_type": "code",
   "execution_count": 82,
   "metadata": {},
   "outputs": [],
   "source": [
    "data6 = {'Accuracy': [accuracy_score(y_tt, y_pr_nb_tt), \n",
    "                      accuracy_score(y_tt, y_pr_rf_tt), \n",
    "                      accuracy_score(y_tt, y_pr_log_tt), \n",
    "                      accuracy_score(y_tt, y_pr_svc_tt),\n",
    "                      accuracy_score(y_tt, y_pr_abc_tt),\n",
    "                      accuracy_score(y_tt, y_pr_gbc_tt)],\n",
    "        'F1 Score': [f1_score(y_tt, y_pr_nb_tt), \n",
    "                     f1_score(y_tt, y_pr_rf_tt), \n",
    "                     f1_score(y_tt, y_pr_log_tt), \n",
    "                     f1_score(y_tt, y_pr_svc_tt),\n",
    "                     f1_score(y_tt, y_pr_abc_tt),\n",
    "                     f1_score(y_tt, y_pr_gbc_tt)],\n",
    "        'Recall': [recall_score(y_tt, y_pr_nb_tt), \n",
    "                   recall_score(y_tt, y_pr_rf_tt), \n",
    "                   recall_score(y_tt, y_pr_log_tt),\n",
    "                   recall_score(y_tt, y_pr_svc_tt),\n",
    "                   recall_score(y_tt, y_pr_abc_tt),\n",
    "                   recall_score(y_tt, y_pr_gbc_tt)],\n",
    "        'Precision': [precision_score(y_tt, y_pr_nb_tt), \n",
    "                      precision_score(y_tt, y_pr_rf_tt), \n",
    "                      precision_score(y_tt, y_pr_log_tt),\n",
    "                      precision_score(y_tt, y_pr_svc_tt),\n",
    "                      precision_score(y_tt, y_pr_abc_tt),\n",
    "                      precision_score(y_tt, y_pr_gbc_tt)]\n",
    "        }\n",
    "metrics_on_testing_data = pd.DataFrame(data=data6, index = ['Multinomial Naive Bayes', \n",
    "                                             'Random Forest',\n",
    "                                             'Logistic Regression',\n",
    "                                             'Support Vector Machine', \n",
    "                                             'AdaBoost Classifier', \n",
    "                                             'Gradient Boosting Classifier'])"
   ]
  },
  {
   "attachments": {},
   "cell_type": "markdown",
   "metadata": {},
   "source": [
    "# Metrics on test data"
   ]
  },
  {
   "cell_type": "code",
   "execution_count": 83,
   "metadata": {},
   "outputs": [
    {
     "data": {
      "text/html": [
       "<div>\n",
       "<style scoped>\n",
       "    .dataframe tbody tr th:only-of-type {\n",
       "        vertical-align: middle;\n",
       "    }\n",
       "\n",
       "    .dataframe tbody tr th {\n",
       "        vertical-align: top;\n",
       "    }\n",
       "\n",
       "    .dataframe thead th {\n",
       "        text-align: right;\n",
       "    }\n",
       "</style>\n",
       "<table border=\"1\" class=\"dataframe\">\n",
       "  <thead>\n",
       "    <tr style=\"text-align: right;\">\n",
       "      <th></th>\n",
       "      <th>Accuracy</th>\n",
       "      <th>F1 Score</th>\n",
       "      <th>Recall</th>\n",
       "      <th>Precision</th>\n",
       "    </tr>\n",
       "  </thead>\n",
       "  <tbody>\n",
       "    <tr>\n",
       "      <th>Multinomial Naive Bayes</th>\n",
       "      <td>0.940444</td>\n",
       "      <td>0.942514</td>\n",
       "      <td>0.976447</td>\n",
       "      <td>0.910860</td>\n",
       "    </tr>\n",
       "    <tr>\n",
       "      <th>Random Forest</th>\n",
       "      <td>0.982672</td>\n",
       "      <td>0.982939</td>\n",
       "      <td>0.998318</td>\n",
       "      <td>0.968026</td>\n",
       "    </tr>\n",
       "    <tr>\n",
       "      <th>Logistic Regression</th>\n",
       "      <td>0.965848</td>\n",
       "      <td>0.966474</td>\n",
       "      <td>0.984522</td>\n",
       "      <td>0.949076</td>\n",
       "    </tr>\n",
       "    <tr>\n",
       "      <th>Support Vector Machine</th>\n",
       "      <td>0.978970</td>\n",
       "      <td>0.979253</td>\n",
       "      <td>0.992598</td>\n",
       "      <td>0.966263</td>\n",
       "    </tr>\n",
       "    <tr>\n",
       "      <th>AdaBoost Classifier</th>\n",
       "      <td>0.860532</td>\n",
       "      <td>0.853559</td>\n",
       "      <td>0.812921</td>\n",
       "      <td>0.898475</td>\n",
       "    </tr>\n",
       "    <tr>\n",
       "      <th>Gradient Boosting Classifier</th>\n",
       "      <td>0.797106</td>\n",
       "      <td>0.765643</td>\n",
       "      <td>0.662853</td>\n",
       "      <td>0.906164</td>\n",
       "    </tr>\n",
       "  </tbody>\n",
       "</table>\n",
       "</div>"
      ],
      "text/plain": [
       "                              Accuracy  F1 Score    Recall  Precision\n",
       "Multinomial Naive Bayes       0.940444  0.942514  0.976447   0.910860\n",
       "Random Forest                 0.982672  0.982939  0.998318   0.968026\n",
       "Logistic Regression           0.965848  0.966474  0.984522   0.949076\n",
       "Support Vector Machine        0.978970  0.979253  0.992598   0.966263\n",
       "AdaBoost Classifier           0.860532  0.853559  0.812921   0.898475\n",
       "Gradient Boosting Classifier  0.797106  0.765643  0.662853   0.906164"
      ]
     },
     "execution_count": 83,
     "metadata": {},
     "output_type": "execute_result"
    }
   ],
   "source": [
    "metrics_on_testing_data.to_csv(\"../data/metrics/metrics_on_testing_data.csv\")\n",
    "metrics_on_testing_data"
   ]
  },
  {
   "attachments": {},
   "cell_type": "markdown",
   "metadata": {},
   "source": [
    "# Hyperparameters Tuning"
   ]
  },
  {
   "attachments": {},
   "cell_type": "markdown",
   "metadata": {},
   "source": [
    "## Logistic Regression"
   ]
  },
  {
   "cell_type": "code",
   "execution_count": 40,
   "metadata": {},
   "outputs": [
    {
     "name": "stdout",
     "output_type": "stream",
     "text": [
      "Fitting 10 folds for each of 75 candidates, totalling 750 fits\n",
      "Best: 0.985734 using {'C': 10, 'penalty': 'l1', 'solver': 'saga'}\n"
     ]
    }
   ],
   "source": [
    "# logreg = LogisticRegression(random_state=42)\n",
    "logreg=model\n",
    "params = {'C': [0.001, 0.01, 0.1, 1, 10], \n",
    "          'penalty': ['l1', 'l2', 'elasticnet'],\n",
    "          'solver': ['liblinear', 'newton-cg', 'lbfgs', 'sag', 'saga']}\n",
    "gslog = GridSearchCV(estimator = logreg,\n",
    "                     param_grid = params,\n",
    "                     cv = 10,\n",
    "                     n_jobs = -1, \n",
    "                     verbose=3).fit(tfidf_tr, y_tr)\n",
    "y_pred_gslog = gslog.predict(tfidf_val)\n",
    "print(\"Best: %f using %s\" % (gslog.best_score_, gslog.best_params_))"
   ]
  },
  {
   "cell_type": "code",
   "execution_count": 44,
   "metadata": {},
   "outputs": [
    {
     "name": "stdout",
     "output_type": "stream",
     "text": [
      "Accuracy:  0.9816061013907582\n",
      "F1:  0.9818020417221482\n",
      "Recall:  0.9923732615522656\n",
      "Precision:  0.971453667105841\n"
     ]
    },
    {
     "data": {
      "image/png": "[encoded data removed]",
      "text/plain": [
       "<Figure size 400x400 with 1 Axes>"
      ]
     },
     "metadata": {},
     "output_type": "display_data"
    }
   ],
   "source": [
    "get_metrics(tfidf_val, y_val, y_pred_gslog, gslog)\n",
    "get_confusion(y_val, y_pred_gslog)\n"
   ]
  },
  {
   "cell_type": "code",
   "execution_count": 45,
   "metadata": {},
   "outputs": [
    {
     "name": "stdout",
     "output_type": "stream",
     "text": [
      "Accuracy:  0.9803723642889188\n",
      "F1:  0.9806480150392569\n",
      "Recall:  0.9946164199192463\n",
      "Precision:  0.9670665212649946\n"
     ]
    },
    {
     "data": {
      "image/png": "[encoded data removed]",
      "text/plain": [
       "<Figure size 400x400 with 1 Axes>"
      ]
     },
     "metadata": {},
     "output_type": "display_data"
    }
   ],
   "source": [
    "log_best = LogisticRegression(random_state=42, \n",
    "                              C=10, \n",
    "                              penalty='l2', \n",
    "                              solver='lbfgs').fit(tfidf_tr, y_tr)\n",
    "y_pred_log_best = log_best.predict(tfidf_val)\n",
    "get_metrics(tfidf_val, y_val, y_pred_log_best, log_best)\n",
    "get_confusion(y_val, y_pred_log_best)"
   ]
  },
  {
   "cell_type": "code",
   "execution_count": 46,
   "metadata": {},
   "outputs": [
    {
     "name": "stdout",
     "output_type": "stream",
     "text": [
      "Accuracy:  0.9776244952893675\n",
      "F1:  0.9779910640410393\n",
      "Recall:  0.9942799461641992\n",
      "Precision:  0.9622272875284924\n"
     ]
    },
    {
     "data": {
      "image/png": "[encoded data removed]",
      "text/plain": [
       "<Figure size 400x400 with 1 Axes>"
      ]
     },
     "metadata": {},
     "output_type": "display_data"
    }
   ],
   "source": [
    "y_pred_log_best = log_best.predict(tfidf_tt)\n",
    "get_metrics(tfidf_tt, y_tt, y_pred_log_best, log_best)\n",
    "get_confusion(y_tt, y_pred_log_best)"
   ]
  },
  {
   "cell_type": "code",
   "execution_count": 47,
   "metadata": {},
   "outputs": [],
   "source": [
    "pickle.dump(log_best, open(\"../pickle/log_best.pickle\", \"wb\"))"
   ]
  },
  {
   "cell_type": "code",
   "execution_count": 48,
   "metadata": {},
   "outputs": [],
   "source": [
    "pickle_model = pickle.load(open(\"../pickle/log_best.pickle\", 'rb'))"
   ]
  },
  {
   "attachments": {},
   "cell_type": "markdown",
   "metadata": {},
   "source": [
    "## Random Forest Classifier"
   ]
  },
  {
   "cell_type": "code",
   "execution_count": null,
   "metadata": {},
   "outputs": [
    {
     "name": "stdout",
     "output_type": "stream",
     "text": [
      "Fitting 5 folds for each of 4 candidates, totalling 20 fits\n",
      "Best: 0.904793 using {'n_estimators': 1000}\n"
     ]
    }
   ],
   "source": [
    "rfc = RandomForestClassifier(random_state=42)\n",
    "params = {'n_estimators': [500, 1000, 2000, 5000]}\n",
    "gsrfc = GridSearchCV(estimator = rfc,\n",
    "                     param_grid = params,\n",
    "                     cv = 5,\n",
    "                     n_jobs = -1,\n",
    "                     verbose=2).fit(tfidf_tr, y_tr)\n",
    "y_pred_gsrfc = gsrfc.predict(tfidf_val)\n",
    "print(\"Best: %f using %s\" % (gsrfc.best_score_, gsrfc.best_params_))"
   ]
  },
  {
   "cell_type": "code",
   "execution_count": null,
   "metadata": {},
   "outputs": [],
   "source": [
    "rfc = RandomForestClassifier(random_state=42)\n",
    "params = {'n_estimators': [50, 100, 200, 400, 600, 800, 1000]}\n",
    "gsrfc = GridSearchCV(estimator = rfc,\n",
    "                     param_grid = params,\n",
    "                     cv = 5,\n",
    "                     n_jobs = -1,\n",
    "                     verbose=2).fit(tfidf_tr, y_tr)\n",
    "y_pred_gsrfc = gsrfc.predict(tfidf_val)\n",
    "print(\"Best: %f using %s\" % (gsrfc.best_score_, gsrfc.best_params_))"
   ]
  },
  {
   "cell_type": "code",
   "execution_count": null,
   "metadata": {},
   "outputs": [
    {
     "name": "stdout",
     "output_type": "stream",
     "text": [
      "Fitting 5 folds for each of 3 candidates, totalling 15 fits\n",
      "Best: 0.904793 using {'max_depth': 1500, 'min_samples_leaf': 1, 'n_estimators': 1000}\n"
     ]
    }
   ],
   "source": [
    "rfc = RandomForestClassifier(random_state=42)\n",
    "params = {'n_estimators': [1000],\n",
    "          'max_depth': [1500],\n",
    "          'min_samples_leaf': [1, 2, 4]\n",
    "         }\n",
    "gsrfc = GridSearchCV(estimator = rfc,\n",
    "                     param_grid = params,\n",
    "                     cv = 5,\n",
    "                     n_jobs = -1,\n",
    "                     verbose=2).fit(tfidf_tr, y_tr)\n",
    "y_pred_gsrfc = gsrfc.predict(tfidf_val)\n",
    "print(\"Best: %f using %s\" % (gsrfc.best_score_, gsrfc.best_params_))"
   ]
  },
  {
   "cell_type": "code",
   "execution_count": null,
   "metadata": {},
   "outputs": [
    {
     "name": "stdout",
     "output_type": "stream",
     "text": [
      "Fitting 5 folds for each of 3 candidates, totalling 15 fits\n",
      "Best: 0.905276 using {'max_depth': 1500, 'min_samples_leaf': 1, 'min_samples_split': 5, 'n_estimators': 1000}\n"
     ]
    }
   ],
   "source": [
    "rfc = RandomForestClassifier(random_state=42)\n",
    "params = {'n_estimators': [1000],\n",
    "          'max_depth': [1500],\n",
    "          'min_samples_leaf': [1],\n",
    "          'min_samples_split': [2, 5, 10]\n",
    "         }\n",
    "gsrfc = GridSearchCV(estimator = rfc,\n",
    "                     param_grid = params,\n",
    "                     cv = 5,\n",
    "                     n_jobs = -1,\n",
    "                     verbose=2).fit(tfidf_tr, y_tr)\n",
    "y_pred_gsrfc = gsrfc.predict(tfidf_val)\n",
    "print(\"Best: %f using %s\" % (gsrfc.best_score_, gsrfc.best_params_))"
   ]
  },
  {
   "cell_type": "code",
   "execution_count": 69,
   "metadata": {},
   "outputs": [],
   "source": [
    "rfc_best = RandomForestClassifier(random_state=42, \n",
    "                                  max_depth=1500, \n",
    "                                  min_samples_leaf=1,\n",
    "                                  min_samples_split=5, \n",
    "                                  n_estimators=1000).fit(tfidf_tr, y_tr)\n",
    "y_pred_rfc_best = rfc_best.predict(tfidf_val)"
   ]
  },
  {
   "cell_type": "code",
   "execution_count": 70,
   "metadata": {},
   "outputs": [
    {
     "name": "stdout",
     "output_type": "stream",
     "text": [
      "Accuracy:  0.9882957465029975\n",
      "F1:  0.9881878421204263\n",
      "Recall:  0.9791607193833857\n",
      "Precision:  0.997382960162838\n"
     ]
    },
    {
     "data": {
      "image/png": "[encoded data removed]",
      "text/plain": [
       "<Figure size 400x400 with 1 Axes>"
      ]
     },
     "metadata": {},
     "output_type": "display_data"
    }
   ],
   "source": [
    "get_metrics(tfidf_val, y_val, y_pred_rfc_best, rfc_best)\n",
    "get_confusion(y_val,y_pred_rfc_best)"
   ]
  },
  {
   "cell_type": "code",
   "execution_count": 71,
   "metadata": {},
   "outputs": [
    {
     "name": "stdout",
     "output_type": "stream",
     "text": [
      "Accuracy:  0.7193921232876712\n",
      "F1:  0.7775326658747667\n",
      "Recall:  0.980736301369863\n",
      "Precision:  0.6440820916502671\n"
     ]
    },
    {
     "data": {
      "image/png": "[encoded data removed]",
      "text/plain": [
       "<Figure size 400x400 with 1 Axes>"
      ]
     },
     "metadata": {},
     "output_type": "display_data"
    }
   ],
   "source": [
    "y_pred_rfc_best = rfc_best.predict(tfidf_tt)\n",
    "get_metrics(tfidf_tt, y_tt, y_pred_rfc_best, rfc_best)\n",
    "get_confusion(y_tt,y_pred_rfc_best)"
   ]
  },
  {
   "attachments": {},
   "cell_type": "markdown",
   "metadata": {},
   "source": [
    "## Support Vector Machine"
   ]
  },
  {
   "cell_type": "code",
   "execution_count": 47,
   "metadata": {},
   "outputs": [
    {
     "name": "stdout",
     "output_type": "stream",
     "text": [
      "Fitting 5 folds for each of 4 candidates, totalling 20 fits\n",
      "Best: 0.990236 using {'C': 100}\n"
     ]
    }
   ],
   "source": [
    "from sklearn.svm import SVC\n",
    "svm = SVC()\n",
    "params_grid = {'C': [0.1, 1, 10, 100]}\n",
    "gssvm = GridSearchCV(SVC(),\n",
    "                     params_grid,\n",
    "                     refit = True,\n",
    "                     verbose = 1)\n",
    "gssvm.fit(tfidf_tr, y_tr)\n",
    "y_pred_gssvm = gssvm.predict(tfidf_val)  \n",
    "print(\"Best: %f using %s\" % (gssvm.best_score_, gssvm.best_params_))\n"
   ]
  },
  {
   "cell_type": "code",
   "execution_count": 57,
   "metadata": {},
   "outputs": [
    {
     "name": "stdout",
     "output_type": "stream",
     "text": [
      "Fitting 5 folds for each of 3 candidates, totalling 15 fits\n",
      "Best: 0.964571 using {'C': 10, 'gamma': 0.1, 'kernel': 'rbf'}\n"
     ]
    }
   ],
   "source": [
    "svm = SVC()\n",
    "params_grid = {'C': [10],\n",
    "               'gamma': [0.1],\n",
    "               'kernel': ['rbf', 'poly', 'sigmoid']}\n",
    "gssvm = GridSearchCV(SVC(),\n",
    "                     params_grid, \n",
    "                     refit = True, \n",
    "                     verbose = 1)\n",
    "gssvm.fit(tfidf_tr, y_tr)\n",
    "y_pred_gssvm = gssvm.predict(tfidf_val)  \n",
    "print(\"Best: %f using %s\" % (gssvm.best_score_, gssvm.best_params_))"
   ]
  },
  {
   "attachments": {},
   "cell_type": "markdown",
   "metadata": {},
   "source": [
    "# Accuracy test on validation set at C=10"
   ]
  },
  {
   "cell_type": "code",
   "execution_count": 51,
   "metadata": {},
   "outputs": [
    {
     "name": "stdout",
     "output_type": "stream",
     "text": [
      "Accuracy:  0.9788021534320323\n",
      "F1:  0.9790488859328234\n",
      "Recall:  0.990578734858681\n",
      "Precision:  0.967784352399737\n"
     ]
    },
    {
     "data": {
      "image/png": "[encoded data removed]",
      "text/plain": [
       "<Figure size 400x400 with 1 Axes>"
      ]
     },
     "metadata": {},
     "output_type": "display_data"
    }
   ],
   "source": [
    "from sklearn.svm import SVC\n",
    "svm = SVC()\n",
    "svm_best = SVC(C=10, gamma=0.1, kernel='sigmoid').fit(tfidf_tr, y_tr)\n",
    "y_pred_svm_best = svm_best.predict(tfidf_val)\n",
    "get_metrics(tfidf_val, y_val, y_pred_svm_best, svm_best)\n",
    "get_confusion(y_val, y_pred_svm_best)"
   ]
  },
  {
   "attachments": {},
   "cell_type": "markdown",
   "metadata": {},
   "source": [
    "# Metrics on test set at C=10"
   ]
  },
  {
   "cell_type": "code",
   "execution_count": 53,
   "metadata": {},
   "outputs": [
    {
     "name": "stdout",
     "output_type": "stream",
     "text": [
      "Accuracy:  0.9771197846567967\n",
      "F1:  0.9774236387782205\n",
      "Recall:  0.990578734858681\n",
      "Precision:  0.9646133682830931\n"
     ]
    },
    {
     "data": {
      "image/png": "[encoded data removed]",
      "text/plain": [
       "<Figure size 400x400 with 1 Axes>"
      ]
     },
     "metadata": {},
     "output_type": "display_data"
    }
   ],
   "source": [
    "svm_best = SVC(C=10, gamma=0.1, kernel='sigmoid').fit(tfidf_tr, y_tr)\n",
    "y_pred_svm_best = svm_best.predict(tfidf_tt)\n",
    "get_metrics(tfidf_tt, y_tt, y_pred_svm_best, svm_best)\n",
    "get_confusion(y_tt, y_pred_svm_best)"
   ]
  },
  {
   "attachments": {},
   "cell_type": "markdown",
   "metadata": {},
   "source": [
    "# Metrics on test set at C=100"
   ]
  },
  {
   "cell_type": "code",
   "execution_count": 62,
   "metadata": {},
   "outputs": [
    {
     "name": "stdout",
     "output_type": "stream",
     "text": [
      "Accuracy:  0.9779609690444145\n",
      "F1:  0.9782788923893219\n",
      "Recall:  0.9925975773889637\n",
      "Precision:  0.9643674403399803\n"
     ]
    },
    {
     "data": {
      "image/png": "[encoded data removed]",
      "text/plain": [
       "<Figure size 400x400 with 1 Axes>"
      ]
     },
     "metadata": {},
     "output_type": "display_data"
    }
   ],
   "source": [
    "svm_best = SVC(C=100, gamma=0.1, kernel='sigmoid').fit(tfidf_tr, y_tr)\n",
    "y_pred_svm_best = svm_best.predict(tfidf_tt)\n",
    "get_metrics(tfidf_tt, y_tt, y_pred_svm_best, svm_best)\n",
    "get_confusion(y_tt, y_pred_svm_best)"
   ]
  },
  {
   "cell_type": "code",
   "execution_count": 63,
   "metadata": {},
   "outputs": [],
   "source": [
    "import pickle\n",
    "pickle.dump(svm_best, open(\"../pickle/svm_best.pickle\", \"wb\"))\n",
    "pickle_model = pickle.load(open(\"../pickle/svm_best.pickle\", 'rb'))\n",
    "# with open('../pickle/svm_best.pickle', 'wb') as f:\n",
    "#     pickle.dump(svm_best, f, pickle.HIGHEST_PROTOCOL)"
   ]
  },
  {
   "cell_type": "code",
   "execution_count": 64,
   "metadata": {},
   "outputs": [],
   "source": [
    "data7 = {'Accuracy': [accuracy_score(y_tt, y_pred_log_best),\n",
    "                     #  accuracy_score(y_tt, y_pred_rfc_best),\n",
    "                      accuracy_score(y_tt, y_pred_svm_best)],\n",
    "        'F1 Score': [f1_score(y_tt, y_pred_log_best),\n",
    "                     # f1_score(y_tt, y_pred_rfc_best),\n",
    "                     f1_score(y_tt, y_pred_svm_best)],\n",
    "        'Recall': [recall_score(y_tt, y_pred_log_best),\n",
    "              #      recall_score(y_tt, y_pred_rfc_best),\n",
    "                   recall_score(y_tt, y_pred_svm_best)],\n",
    "        'Precision': [precision_score(y_tt, y_pred_log_best),\n",
    "                     #  precision_score(y_tt, y_pred_rfc_best),\n",
    "                      precision_score(y_tt, y_pred_svm_best)]\n",
    "       }\n",
    "metrics7 = pd.DataFrame(data=data7, index=['Logistic Regression w/GridsearchCV',\n",
    "                                          #  'Random Forest w/GridsearchCV',\n",
    "                                           'Support Vector Machine w/GridsearchCV'])"
   ]
  },
  {
   "attachments": {},
   "cell_type": "markdown",
   "metadata": {},
   "source": [
    "# Metrics on validation data after HyperParameter Tuning"
   ]
  },
  {
   "cell_type": "code",
   "execution_count": 65,
   "metadata": {},
   "outputs": [
    {
     "data": {
      "text/html": [
       "<div>\n",
       "<style scoped>\n",
       "    .dataframe tbody tr th:only-of-type {\n",
       "        vertical-align: middle;\n",
       "    }\n",
       "\n",
       "    .dataframe tbody tr th {\n",
       "        vertical-align: top;\n",
       "    }\n",
       "\n",
       "    .dataframe thead th {\n",
       "        text-align: right;\n",
       "    }\n",
       "</style>\n",
       "<table border=\"1\" class=\"dataframe\">\n",
       "  <thead>\n",
       "    <tr style=\"text-align: right;\">\n",
       "      <th></th>\n",
       "      <th>Accuracy</th>\n",
       "      <th>F1 Score</th>\n",
       "      <th>Recall</th>\n",
       "      <th>Precision</th>\n",
       "    </tr>\n",
       "  </thead>\n",
       "  <tbody>\n",
       "    <tr>\n",
       "      <th>Logistic Regression w/GridsearchCV</th>\n",
       "      <td>0.977624</td>\n",
       "      <td>0.977991</td>\n",
       "      <td>0.994280</td>\n",
       "      <td>0.962227</td>\n",
       "    </tr>\n",
       "    <tr>\n",
       "      <th>Support Vector Machine w/GridsearchCV</th>\n",
       "      <td>0.977961</td>\n",
       "      <td>0.978279</td>\n",
       "      <td>0.992598</td>\n",
       "      <td>0.964367</td>\n",
       "    </tr>\n",
       "  </tbody>\n",
       "</table>\n",
       "</div>"
      ],
      "text/plain": [
       "                                       Accuracy  F1 Score    Recall  Precision\n",
       "Logistic Regression w/GridsearchCV     0.977624  0.977991  0.994280   0.962227\n",
       "Support Vector Machine w/GridsearchCV  0.977961  0.978279  0.992598   0.964367"
      ]
     },
     "execution_count": 65,
     "metadata": {},
     "output_type": "execute_result"
    }
   ],
   "source": [
    "metrics7"
   ]
  },
  {
   "cell_type": "code",
   "execution_count": 67,
   "metadata": {},
   "outputs": [],
   "source": [
    "metrics7.to_csv(\"../data/metrics/metrics_after_hyperparameter_tuning.csv\")"
   ]
  }
 ],
 "metadata": {
  "interpreter": {
   "hash": "80773cdecc613a186b9eac051636553d2ff0f99c57590601666ed713bd5d0256"
  },
  "kernelspec": {
   "display_name": "Python 3.9.4 64-bit ('learn-env': conda)",
   "name": "python3"
  },
  "language_info": {
   "codemirror_mode": {
    "name": "ipython",
    "version": 3
   },
   "file_extension": ".py",
   "mimetype": "text/x-python",
   "name": "python",
   "nbconvert_exporter": "python",
   "pygments_lexer": "ipython3",
   "version": "3.9.13"
  },
  "orig_nbformat": 2
 },
 "nbformat": 4,
 "nbformat_minor": 2
}
